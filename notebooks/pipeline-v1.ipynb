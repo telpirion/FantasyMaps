{
 "cells": [
  {
   "cell_type": "markdown",
   "id": "8ddcd580-44c7-4701-9000-658512618455",
   "metadata": {},
   "source": [
    "# Training pipeline, v1"
   ]
  },
  {
   "cell_type": "markdown",
   "id": "3a43a0e4-ab57-4ea3-b505-5c78f94eeb40",
   "metadata": {
    "id": "jvm8kDS2LOKB"
   },
   "source": [
    "In this step, we will create a training pipeline that will result in gradually improved models over successive runs.\n",
    "\n",
    "1. Run batch prediction with the LKG / MVP of the online model. Batch prediction will identify cells in maps contained withinan \"input\" a GCS bucket\n",
    "\n",
    "  + Results are processed--cell coordinates are determined both in DnD format and in image training format.\n",
    "  + Maps from input are moved into a dataset GCS bucket.\n",
    "  + Contents of input maps bucket are deleted.\n",
    "\n",
    "2. Create a new dataset from the old + new (from batch predict) data.\n",
    "\n",
    "3. Train two new models: an online `CLOUD` model and a high-accuracy Edge model\n",
    "\n",
    "4. Display metrics about each model."
   ]
  },
  {
   "cell_type": "code",
   "execution_count": 1,
   "id": "57babcdf-8159-48ee-8e92-5beb5ecef3e1",
   "metadata": {
    "tags": []
   },
   "outputs": [
    {
     "name": "stdout",
     "output_type": "stream",
     "text": [
      "Requirement already satisfied: google-cloud-aiplatform in /home/jupyter/.local/lib/python3.7/site-packages (1.11.0)\n",
      "Requirement already satisfied: google-cloud-storage in /opt/conda/lib/python3.7/site-packages (1.43.0)\n",
      "Requirement already satisfied: google-cloud-pipeline-components in /opt/conda/lib/python3.7/site-packages (1.0.2)\n",
      "Requirement already satisfied: kfp in /home/jupyter/.local/lib/python3.7/site-packages (1.8.12)\n",
      "Requirement already satisfied: packaging>=14.3 in /opt/conda/lib/python3.7/site-packages (from google-cloud-aiplatform) (21.3)\n",
      "Requirement already satisfied: proto-plus>=1.15.0 in /opt/conda/lib/python3.7/site-packages (from google-cloud-aiplatform) (1.19.8)\n",
      "Requirement already satisfied: google-cloud-bigquery<3.0.0dev,>=1.15.0 in /opt/conda/lib/python3.7/site-packages (from google-cloud-aiplatform) (2.30.1)\n",
      "Requirement already satisfied: google-api-core[grpc]!=2.0.*,!=2.1.*,!=2.2.*,!=2.3.0,<3.0.0dev,>=1.31.5 in /home/jupyter/.local/lib/python3.7/site-packages (from google-cloud-aiplatform) (1.31.5)\n",
      "Requirement already satisfied: google-auth<3.0dev,>=1.25.0 in /home/jupyter/.local/lib/python3.7/site-packages (from google-cloud-storage) (1.35.0)\n",
      "Requirement already satisfied: requests<3.0.0dev,>=2.18.0 in /opt/conda/lib/python3.7/site-packages (from google-cloud-storage) (2.26.0)\n",
      "Requirement already satisfied: google-resumable-media<3.0dev,>=1.3.0 in /opt/conda/lib/python3.7/site-packages (from google-cloud-storage) (2.1.0)\n",
      "Requirement already satisfied: six in /opt/conda/lib/python3.7/site-packages (from google-cloud-storage) (1.16.0)\n",
      "Requirement already satisfied: google-cloud-core<3.0dev,>=1.6.0 in /opt/conda/lib/python3.7/site-packages (from google-cloud-storage) (2.2.1)\n",
      "Requirement already satisfied: protobuf in /opt/conda/lib/python3.7/site-packages (from google-cloud-storage) (3.19.1)\n",
      "Requirement already satisfied: google-cloud-notebooks>=0.4.0 in /home/jupyter/.local/lib/python3.7/site-packages (from google-cloud-pipeline-components) (1.2.1)\n",
      "Requirement already satisfied: jsonschema<4,>=3.0.1 in /home/jupyter/.local/lib/python3.7/site-packages (from kfp) (3.2.0)\n",
      "Requirement already satisfied: strip-hints<1,>=0.1.8 in /home/jupyter/.local/lib/python3.7/site-packages (from kfp) (0.1.10)\n",
      "Requirement already satisfied: pydantic<2,>=1.8.2 in /opt/conda/lib/python3.7/site-packages (from kfp) (1.8.2)\n",
      "Requirement already satisfied: absl-py<2,>=0.9 in /home/jupyter/.local/lib/python3.7/site-packages (from kfp) (0.11.0)\n",
      "Requirement already satisfied: uritemplate<4,>=3.0.1 in /opt/conda/lib/python3.7/site-packages (from kfp) (3.0.1)\n",
      "Requirement already satisfied: cloudpickle<3,>=2.0.0 in /opt/conda/lib/python3.7/site-packages (from kfp) (2.0.0)\n",
      "Requirement already satisfied: typer<1.0,>=0.3.2 in /home/jupyter/.local/lib/python3.7/site-packages (from kfp) (0.4.0)\n",
      "Requirement already satisfied: kfp-pipeline-spec<0.2.0,>=0.1.14 in /home/jupyter/.local/lib/python3.7/site-packages (from kfp) (0.1.14)\n",
      "Requirement already satisfied: kubernetes<19,>=8.0.0 in /home/jupyter/.local/lib/python3.7/site-packages (from kfp) (18.20.0)\n",
      "Requirement already satisfied: docstring-parser<1,>=0.7.3 in /home/jupyter/.local/lib/python3.7/site-packages (from kfp) (0.13)\n",
      "Requirement already satisfied: requests-toolbelt<1,>=0.8.0 in /home/jupyter/.local/lib/python3.7/site-packages (from kfp) (0.9.1)\n",
      "Requirement already satisfied: typing-extensions<4,>=3.7.4 in /home/jupyter/.local/lib/python3.7/site-packages (from kfp) (3.10.0.2)\n",
      "Requirement already satisfied: fire<1,>=0.3.1 in /home/jupyter/.local/lib/python3.7/site-packages (from kfp) (0.4.0)\n",
      "Requirement already satisfied: tabulate<1,>=0.8.6 in /home/jupyter/.local/lib/python3.7/site-packages (from kfp) (0.8.9)\n",
      "Requirement already satisfied: Deprecated<2,>=1.2.7 in /home/jupyter/.local/lib/python3.7/site-packages (from kfp) (1.2.13)\n",
      "Requirement already satisfied: PyYAML<6,>=5.3 in /home/jupyter/.local/lib/python3.7/site-packages (from kfp) (5.4.1)\n",
      "Requirement already satisfied: kfp-server-api<2.0.0,>=1.1.2 in /home/jupyter/.local/lib/python3.7/site-packages (from kfp) (1.7.1)\n",
      "Requirement already satisfied: google-api-python-client<2,>=1.7.8 in /home/jupyter/.local/lib/python3.7/site-packages (from kfp) (1.12.8)\n",
      "Requirement already satisfied: click<9,>=7.1.2 in /opt/conda/lib/python3.7/site-packages (from kfp) (8.0.3)\n",
      "Requirement already satisfied: importlib-metadata in /opt/conda/lib/python3.7/site-packages (from click<9,>=7.1.2->kfp) (4.8.2)\n",
      "Requirement already satisfied: wrapt<2,>=1.10 in /opt/conda/lib/python3.7/site-packages (from Deprecated<2,>=1.2.7->kfp) (1.13.3)\n",
      "Requirement already satisfied: termcolor in /home/jupyter/.local/lib/python3.7/site-packages (from fire<1,>=0.3.1->kfp) (1.1.0)\n",
      "Requirement already satisfied: googleapis-common-protos<2.0dev,>=1.6.0 in /opt/conda/lib/python3.7/site-packages (from google-api-core[grpc]!=2.0.*,!=2.1.*,!=2.2.*,!=2.3.0,<3.0.0dev,>=1.31.5->google-cloud-aiplatform) (1.53.0)\n",
      "Requirement already satisfied: setuptools>=40.3.0 in /opt/conda/lib/python3.7/site-packages (from google-api-core[grpc]!=2.0.*,!=2.1.*,!=2.2.*,!=2.3.0,<3.0.0dev,>=1.31.5->google-cloud-aiplatform) (59.4.0)\n",
      "Requirement already satisfied: pytz in /opt/conda/lib/python3.7/site-packages (from google-api-core[grpc]!=2.0.*,!=2.1.*,!=2.2.*,!=2.3.0,<3.0.0dev,>=1.31.5->google-cloud-aiplatform) (2021.3)\n",
      "Requirement already satisfied: grpcio<2.0dev,>=1.29.0 in /opt/conda/lib/python3.7/site-packages (from google-api-core[grpc]!=2.0.*,!=2.1.*,!=2.2.*,!=2.3.0,<3.0.0dev,>=1.31.5->google-cloud-aiplatform) (1.42.0)\n",
      "Requirement already satisfied: httplib2<1dev,>=0.15.0 in /opt/conda/lib/python3.7/site-packages (from google-api-python-client<2,>=1.7.8->kfp) (0.20.2)\n",
      "Requirement already satisfied: google-auth-httplib2>=0.0.3 in /opt/conda/lib/python3.7/site-packages (from google-api-python-client<2,>=1.7.8->kfp) (0.1.0)\n",
      "Requirement already satisfied: rsa<5,>=3.1.4 in /opt/conda/lib/python3.7/site-packages (from google-auth<3.0dev,>=1.25.0->google-cloud-storage) (4.8)\n",
      "Requirement already satisfied: cachetools<5.0,>=2.0.0 in /opt/conda/lib/python3.7/site-packages (from google-auth<3.0dev,>=1.25.0->google-cloud-storage) (4.2.4)\n",
      "Requirement already satisfied: pyasn1-modules>=0.2.1 in /opt/conda/lib/python3.7/site-packages (from google-auth<3.0dev,>=1.25.0->google-cloud-storage) (0.2.7)\n",
      "Requirement already satisfied: python-dateutil<3.0dev,>=2.7.2 in /opt/conda/lib/python3.7/site-packages (from google-cloud-bigquery<3.0.0dev,>=1.15.0->google-cloud-aiplatform) (2.8.2)\n",
      "Requirement already satisfied: google-crc32c<2.0dev,>=1.0 in /opt/conda/lib/python3.7/site-packages (from google-resumable-media<3.0dev,>=1.3.0->google-cloud-storage) (1.1.2)\n",
      "Requirement already satisfied: pyrsistent>=0.14.0 in /opt/conda/lib/python3.7/site-packages (from jsonschema<4,>=3.0.1->kfp) (0.18.0)\n",
      "Requirement already satisfied: attrs>=17.4.0 in /opt/conda/lib/python3.7/site-packages (from jsonschema<4,>=3.0.1->kfp) (21.2.0)\n",
      "Requirement already satisfied: urllib3>=1.15 in /opt/conda/lib/python3.7/site-packages (from kfp-server-api<2.0.0,>=1.1.2->kfp) (1.26.7)\n",
      "Requirement already satisfied: certifi in /opt/conda/lib/python3.7/site-packages (from kfp-server-api<2.0.0,>=1.1.2->kfp) (2021.10.8)\n",
      "Requirement already satisfied: websocket-client!=0.40.0,!=0.41.*,!=0.42.*,>=0.32.0 in /opt/conda/lib/python3.7/site-packages (from kubernetes<19,>=8.0.0->kfp) (1.2.1)\n",
      "Requirement already satisfied: requests-oauthlib in /opt/conda/lib/python3.7/site-packages (from kubernetes<19,>=8.0.0->kfp) (1.3.0)\n",
      "Requirement already satisfied: pyparsing!=3.0.5,>=2.0.2 in /opt/conda/lib/python3.7/site-packages (from packaging>=14.3->google-cloud-aiplatform) (3.0.6)\n",
      "Requirement already satisfied: charset-normalizer~=2.0.0 in /opt/conda/lib/python3.7/site-packages (from requests<3.0.0dev,>=2.18.0->google-cloud-storage) (2.0.8)\n",
      "Requirement already satisfied: idna<4,>=2.5 in /opt/conda/lib/python3.7/site-packages (from requests<3.0.0dev,>=2.18.0->google-cloud-storage) (3.1)\n",
      "Requirement already satisfied: wheel in /opt/conda/lib/python3.7/site-packages (from strip-hints<1,>=0.1.8->kfp) (0.37.0)\n",
      "Requirement already satisfied: cffi>=1.0.0 in /opt/conda/lib/python3.7/site-packages (from google-crc32c<2.0dev,>=1.0->google-resumable-media<3.0dev,>=1.3.0->google-cloud-storage) (1.15.0)\n",
      "Requirement already satisfied: pyasn1<0.5.0,>=0.4.6 in /opt/conda/lib/python3.7/site-packages (from pyasn1-modules>=0.2.1->google-auth<3.0dev,>=1.25.0->google-cloud-storage) (0.4.8)\n",
      "Requirement already satisfied: zipp>=0.5 in /opt/conda/lib/python3.7/site-packages (from importlib-metadata->click<9,>=7.1.2->kfp) (3.6.0)\n",
      "Requirement already satisfied: oauthlib>=3.0.0 in /opt/conda/lib/python3.7/site-packages (from requests-oauthlib->kubernetes<19,>=8.0.0->kfp) (3.1.1)\n",
      "Requirement already satisfied: pycparser in /opt/conda/lib/python3.7/site-packages (from cffi>=1.0.0->google-crc32c<2.0dev,>=1.0->google-resumable-media<3.0dev,>=1.3.0->google-cloud-storage) (2.21)\n"
     ]
    }
   ],
   "source": [
    "! pip install google-cloud-aiplatform google-cloud-storage google-cloud-pipeline-components kfp"
   ]
  },
  {
   "cell_type": "code",
   "execution_count": 2,
   "id": "eb88c757-ac57-46e1-ab7d-e685f7028119",
   "metadata": {},
   "outputs": [],
   "source": [
    "import kfp\n",
    "from google.cloud import storage\n",
    "from google.cloud import aiplatform\n",
    "from google_cloud_pipeline_components import aiplatform as gcc_aip\n",
    "from kfp.v2 import compiler\n",
    "from kfp.v2.dsl import component\n",
    "from kfp.v2.google.client import AIPlatformClient"
   ]
  },
  {
   "cell_type": "markdown",
   "id": "74056f3e-e065-4551-891e-d2c03e43607c",
   "metadata": {},
   "source": [
    "## Create the simple image object detection pipeline\n",
    "\n",
    "This code based upon the notebook [here](https://github.com/GoogleCloudPlatform/ai-platform-samples/blob/master/ai-platform-unified/notebooks/official/pipelines/google-cloud-pipeline-components_automl_images.ipynb)."
   ]
  },
  {
   "cell_type": "code",
   "execution_count": 18,
   "id": "71991176-57f9-48e4-a04a-1bbbb89fefe7",
   "metadata": {},
   "outputs": [],
   "source": [
    "from datetime import datetime\n",
    "\n",
    "PROJECT_ID = \"fantasymaps-334622\"\n",
    "LOCATION = \"us-central1\"\n",
    "GCS_BUCKET_NAME = \"fantasy-maps\"\n",
    "GCS_TRAINING_SOURCE = \"gs://fantasy-maps/Manifests/map_training_20220311212048.jsonl\"\n",
    "TIMESTAMP = datetime.now().strftime(\"%Y%m%d%H%M%S\")\n",
    "PIPELINE_ROOT = f\"gs://{GCS_BUCKET_NAME}/pipeline_root\""
   ]
  },
  {
   "cell_type": "code",
   "execution_count": 26,
   "id": "79e91d7f-b1f3-45b5-8edb-a9aa0066937d",
   "metadata": {},
   "outputs": [],
   "source": [
    "@component(\n",
    "    output_component_file=\"artifacts/metadata-from-fs.yaml\",\n",
    "    base_image=\"python:3.9\",\n",
    "    packages_to_install=[\"google-cloud-storage\", \"google-cloud-firestore\"],\n",
    ")\n",
    "def create_training_metadata_from_firestore_op(\n",
    "    collection_name: str,\n",
    "    timestamp_str: str,\n",
    "    project_id: str,\n",
    "    bucket_name: str\n",
    ") -> str:\n",
    "    from google.cloud import firestore\n",
    "    from google.cloud import storage\n",
    "    \n",
    "    gs_training_data_uri = f\"Manifests/map_training_{timestamp_str}.jsonl\"\n",
    "    \n",
    "    print(f\"Project ID: {project_id}\")\n",
    "    \n",
    "    firestore_client = firestore.Client(project=project_id)\n",
    "    collection_ref = firestore_client.collection(collection_name)\n",
    "    \n",
    "    training_data = []\n",
    "    \n",
    "    # Get all of the non-test training data from collection\n",
    "    docs = (collection_ref\n",
    "                .where(\"source\", \"==\", \"TrainingData\")\n",
    "                .select([\"gcsURI\", \"computedBBoxes\"])\n",
    "                #.limit(10)\n",
    "                .stream())\n",
    "    for doc in docs:\n",
    "        doc_dict = doc.to_dict()\n",
    "        \n",
    "        datum = {\n",
    "            \"imageGcsUri\": doc_dict[\"gcsURI\"],\n",
    "            \"boundingBoxAnnotations\": doc_dict[\"computedBBoxes\"]\n",
    "        }\n",
    "        training_data.append(datum)\n",
    "    \n",
    "    # Collect user submitted and scraped data\n",
    "    scraped_docs = (collection_ref\n",
    "                .where(\"source\", \"==\", \"ScrapedData\")\n",
    "                .select([\"gcsURI\", \"computedBBoxes\"])\n",
    "                .stream())\n",
    "    \n",
    "    for d in scraped_docs:\n",
    "        doc_dict = d.to_dict()\n",
    "        \n",
    "        datum = {\n",
    "            \"imageGcsUri\": doc_dict[\"gcsURI\"],\n",
    "            \"boundingBoxAnnotations\": doc_dict[\"computedBBoxes\"]\n",
    "        }\n",
    "        training_data.append(datum)\n",
    "    \n",
    "    # TODO: define splits manually to verify differences between\n",
    "    # enhanced and unenhanced scraped data\n",
    "    \n",
    "    \n",
    "    storage_client = storage.Client(project=project_id)\n",
    "    bucket = storage_client.bucket(bucket_name)\n",
    "    \n",
    "    input_str = \"\\n\".join([str(d) for d in training_data])\n",
    "    file_blob = bucket.blob(gs_training_data_uri)\n",
    "    file_blob.upload_from_string(input_str)\n",
    "    \n",
    "    full_uri = f\"gs://{bucket_name}/{gs_training_data_uri}\"\n",
    "    \n",
    "    return full_uri"
   ]
  },
  {
   "cell_type": "markdown",
   "id": "f956d160-4e67-4a0a-88d7-dcba1d4d5735",
   "metadata": {},
   "source": [
    "## Define the pipeline"
   ]
  },
  {
   "cell_type": "code",
   "execution_count": 27,
   "id": "fd315c1e-6606-4d80-a69e-3c4f0b83173c",
   "metadata": {},
   "outputs": [],
   "source": [
    "@kfp.dsl.pipeline(name=f\"dnd-maps-training-and-deployment\")\n",
    "def pipeline(\n",
    "    collection_name: str = \"FantasyMaps\",\n",
    "    timestamp_str: str = TIMESTAMP,\n",
    "    project: str = PROJECT_ID,\n",
    "    bucket_name:str = GCS_BUCKET_NAME):\n",
    "    \n",
    "    manifest_uri_op = create_training_metadata_from_firestore_op(\n",
    "        collection_name, \n",
    "        timestamp_str,\n",
    "        project,\n",
    "        bucket_name\n",
    "    )\n",
    "    \n",
    "    manifest_uri = manifest_uri_op.output\n",
    "    \n",
    "    dataset_op = gcc_aip.ImageDatasetCreateOp(\n",
    "        project=project,\n",
    "        display_name=f\"dnd-maps-max-grid-{TIMESTAMP}\",\n",
    "        gcs_source=manifest_uri,\n",
    "        import_schema_uri=aiplatform.schema.dataset.ioformat.image.bounding_box,\n",
    "    )\n",
    "\n",
    "    training_job_online_run_op = gcc_aip.AutoMLImageTrainingJobRunOp(\n",
    "        project=project,\n",
    "        display_name=f\"train-dnd-maps-full-grid-model-online-{TIMESTAMP}\",\n",
    "        prediction_type=\"object_detection\",\n",
    "        model_type=\"CLOUD_HIGH_ACCURACY_1\",\n",
    "        #base_model=None,\n",
    "        dataset=dataset_op.outputs[\"dataset\"],\n",
    "        model_display_name=f\"dnd-maps-full-grid-model-online-{TIMESTAMP}\",\n",
    "        training_fraction_split=0.7,\n",
    "        validation_fraction_split=0.2,\n",
    "        test_fraction_split=0.1,\n",
    "        budget_milli_node_hours=40000,\n",
    "    )\n",
    "    \n",
    "    training_job_run_op = gcc_aip.AutoMLImageTrainingJobRunOp(\n",
    "        project=project,\n",
    "        display_name=f\"train-dnd-maps-full-grid-model-exportable-{TIMESTAMP}\",\n",
    "        prediction_type=\"object_detection\",\n",
    "        model_type=\"MOBILE_TF_HIGH_ACCURACY_1\",\n",
    "        #base_model=None,\n",
    "        dataset=dataset_op.outputs[\"dataset\"],\n",
    "        model_display_name=f\"dnd-maps-full-grid-model-exportable-{TIMESTAMP}\",\n",
    "        training_fraction_split=0.7,\n",
    "        validation_fraction_split=0.2,\n",
    "        test_fraction_split=0.1,\n",
    "        budget_milli_node_hours=90000, # 100000 is the maximum for an exportable TF model\n",
    "    )\n",
    "    \n",
    "    endpoint_op = gcc_aip.ModelDeployOp(\n",
    "        #project=project,\n",
    "        model=training_job_online_run_op.outputs[\"model\"]\n",
    "    )"
   ]
  },
  {
   "cell_type": "markdown",
   "id": "19af4f69-85ad-4cdb-99ab-41b1cf7aae24",
   "metadata": {},
   "source": [
    "## Compile the pipeline and run it"
   ]
  },
  {
   "cell_type": "code",
   "execution_count": 28,
   "id": "095e10d8-70d6-482f-a41a-7872c2d0bf5f",
   "metadata": {},
   "outputs": [],
   "source": [
    "compiler.Compiler().compile(\n",
    "    pipeline_func=pipeline, package_path=\"artifacts/dnd_maps_pipeline.json\"\n",
    ")"
   ]
  },
  {
   "cell_type": "code",
   "execution_count": 29,
   "id": "8166dd25-07e1-4486-adfb-90b4f3aab592",
   "metadata": {},
   "outputs": [],
   "source": [
    "api_client = AIPlatformClient(project_id=PROJECT_ID, region=LOCATION)"
   ]
  },
  {
   "cell_type": "code",
   "execution_count": 30,
   "id": "c30a2220-fd10-4629-a3ed-d5329b3ac662",
   "metadata": {},
   "outputs": [
    {
     "data": {
      "text/html": [
       "See the Pipeline job <a href=\"https://console.cloud.google.com/vertex-ai/locations/us-central1/pipelines/runs/dnd-maps-training-and-deployment-20220509163640?project=fantasymaps-334622\" target=\"_blank\" >here</a>."
      ],
      "text/plain": [
       "<IPython.core.display.HTML object>"
      ]
     },
     "metadata": {},
     "output_type": "display_data"
    }
   ],
   "source": [
    "response = api_client.create_run_from_job_spec(\n",
    "    \"artifacts/dnd_maps_pipeline.json\",\n",
    "    pipeline_root=PIPELINE_ROOT,\n",
    "    parameter_values={\"project\": PROJECT_ID},\n",
    ")"
   ]
  },
  {
   "cell_type": "code",
   "execution_count": null,
   "id": "2d1cbda5-932a-4026-ab86-2c5ec2dc8a9c",
   "metadata": {},
   "outputs": [],
   "source": []
  }
 ],
 "metadata": {
  "environment": {
   "kernel": "python3",
   "name": "common-cu110.m87",
   "type": "gcloud",
   "uri": "gcr.io/deeplearning-platform-release/base-cu110:m87"
  },
  "kernelspec": {
   "display_name": "Python 3",
   "language": "python",
   "name": "python3"
  },
  "language_info": {
   "codemirror_mode": {
    "name": "ipython",
    "version": 3
   },
   "file_extension": ".py",
   "mimetype": "text/x-python",
   "name": "python",
   "nbconvert_exporter": "python",
   "pygments_lexer": "ipython3",
   "version": "3.7.12"
  }
 },
 "nbformat": 4,
 "nbformat_minor": 5
}
