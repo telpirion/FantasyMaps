{
 "cells": [
  {
   "cell_type": "markdown",
   "id": "47735c95",
   "metadata": {},
   "source": [
    "# Complete Fantasy Maps pipeline\n",
    "\n",
    "\n",
    "The completed, self-bootstrapping FantasyMaps pipeline should look something like the following:\n",
    "\n",
    "1.  Scrape images from Reddit (and Pinterest [p2], Quora [p2])\n",
    "    *   Inputs: The sources to scrape maps from\n",
    "    *   Outputs: Array of image URLs; Saved image files in GCS (implicit)\n",
    "1.  Send new, scraped images out for batch prediction\n",
    "    *   Inputs: Array of image URLs, current model resource name\n",
    "    *   Outputs: URI of JSONL of batch prediction results\n",
    "1.  Upload batch prediction results to BQ\n",
    "    *   Inputs: URI of JSONL of batch prediction results\n",
    "    *   Outputs: None\n",
    "1.  Train new online & exportable model\n",
    "    *   Inputs: BQ table name with training data\n",
    "    *   Outputs: Online model and exportable model\n",
    "1.  Deploy online model (not necessary for batch prediction)\n",
    "    *   Inputs: Online model resource name\n",
    "    *   Outputs: Endpoint resource name for deployed model\n"
   ]
  },
  {
   "cell_type": "markdown",
   "id": "c99dd921",
   "metadata": {},
   "source": [
    "## Data states\n",
    "\n",
    "1.  Initial image data\n",
    "    *  Image URI (not GCS)\n",
    "    *  VTT grid data (for images provided by contributor)\n",
    "1.  Prediction data\n",
    "    *  URI on GCS\n",
    "    *  Predicted bounding boxes\n",
    "1.  Known image\n",
    "    *  URI on GCS\n",
    "    *  Identified VTT coordinates\n",
    "1.  Training data\n",
    "    *  URI on GCS\n",
    "    *  Identified VTT coordinates & bounding boxes\n",
    "\n",
    "Scraped data flow:\n",
    "Initial => predicted => known => training data\n",
    "\n",
    "Contributed data flow:\n",
    "Initial => known => training data"
   ]
  },
  {
   "cell_type": "markdown",
   "id": "e321f2b4",
   "metadata": {},
   "source": [
    "## Additional ideas\n",
    "\n",
    "1.  Move entire project out of Google to Joonix org.\n",
    "    *   Migrate all store images to GCS bucket in Joonix org\n",
    "1.  Create a site for users to upload their images & get immediate coordinates\n",
    "    (using Golang).\n",
    "    *   **Note:** Requires migration to Joonix org\n",
    "    *   Store submitted maps & prediction results in the database\n",
    "    *   Require sign-in to enforce accepting terms and discourage bad actors\n",
    "    *   (Need to) improve output of normalized grid coords for VTT usage\n",
    "    *   Create admin panel that allows project owners to review files [P3]\n",
    "1.  Migrate database to Firestore\n",
    "1.  Build pipeline parts out of Golang"
   ]
  },
  {
   "cell_type": "code",
   "execution_count": null,
   "id": "8335ab76",
   "metadata": {},
   "outputs": [],
   "source": []
  }
 ],
 "metadata": {
  "environment": {
   "name": "common-cpu.m78",
   "type": "gcloud",
   "uri": "gcr.io/deeplearning-platform-release/base-cpu:m78"
  },
  "kernelspec": {
   "display_name": "Python 3",
   "language": "python",
   "name": "python3"
  },
  "language_info": {
   "codemirror_mode": {
    "name": "ipython",
    "version": 3
   },
   "file_extension": ".py",
   "mimetype": "text/x-python",
   "name": "python",
   "nbconvert_exporter": "python",
   "pygments_lexer": "ipython3",
   "version": "3.7.10"
  }
 },
 "nbformat": 4,
 "nbformat_minor": 5
}
