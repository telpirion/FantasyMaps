{
 "cells": [
  {
   "cell_type": "markdown",
   "id": "d673b3fd",
   "metadata": {},
   "source": [
    "# Fantasy maps Reddit scraper\n",
    "\n",
    "This notebook is used to pull gridded map images from several subreddits. The images are then stored in a Google Cloud Storage bucket"
   ]
  },
  {
   "cell_type": "markdown",
   "id": "d5297fd5",
   "metadata": {},
   "source": [
    "## START HERE: Set up the GCP environment"
   ]
  },
  {
   "cell_type": "code",
   "execution_count": 79,
   "id": "202980c5",
   "metadata": {},
   "outputs": [
    {
     "name": "stdout",
     "output_type": "stream",
     "text": [
      "Requirement already satisfied: google-cloud-secret-manager in /home/jupyter/.local/lib/python3.7/site-packages (2.7.1)\n",
      "Requirement already satisfied: google-cloud-storage in /opt/conda/lib/python3.7/site-packages (1.42.0)\n",
      "Requirement already satisfied: google-cloud-aiplatform==1.3.0 in /home/jupyter/.local/lib/python3.7/site-packages (1.3.0)\n",
      "Requirement already satisfied: praw in /home/jupyter/.local/lib/python3.7/site-packages (7.4.0)\n",
      "Requirement already satisfied: pandas in /opt/conda/lib/python3.7/site-packages (1.3.2)\n",
      "Requirement already satisfied: numpy in /opt/conda/lib/python3.7/site-packages (1.19.5)\n",
      "Requirement already satisfied: google-cloud-bigquery<3.0.0dev,>=1.15.0 in /opt/conda/lib/python3.7/site-packages (from google-cloud-aiplatform==1.3.0) (2.24.0)\n",
      "Requirement already satisfied: packaging>=14.3 in /opt/conda/lib/python3.7/site-packages (from google-cloud-aiplatform==1.3.0) (21.0)\n",
      "Requirement already satisfied: google-api-core[grpc]<3.0.0dev,>=1.26.0 in /opt/conda/lib/python3.7/site-packages (from google-cloud-aiplatform==1.3.0) (1.31.1)\n",
      "Requirement already satisfied: proto-plus>=1.10.1 in /opt/conda/lib/python3.7/site-packages (from google-cloud-aiplatform==1.3.0) (1.19.0)\n",
      "Requirement already satisfied: libcst>=0.2.5 in /opt/conda/lib/python3.7/site-packages (from google-cloud-secret-manager) (0.3.20)\n",
      "Requirement already satisfied: grpc-google-iam-v1<0.13dev,>=0.12.3 in /opt/conda/lib/python3.7/site-packages (from google-cloud-secret-manager) (0.12.3)\n",
      "Requirement already satisfied: google-resumable-media<3.0dev,>=1.3.0 in /opt/conda/lib/python3.7/site-packages (from google-cloud-storage) (1.3.3)\n",
      "Requirement already satisfied: requests<3.0.0dev,>=2.18.0 in /opt/conda/lib/python3.7/site-packages (from google-cloud-storage) (2.25.1)\n",
      "Requirement already satisfied: google-cloud-core<3.0dev,>=1.6.0 in /opt/conda/lib/python3.7/site-packages (from google-cloud-storage) (1.7.2)\n",
      "Requirement already satisfied: google-auth<3.0dev,>=1.25.0 in /opt/conda/lib/python3.7/site-packages (from google-cloud-storage) (1.34.0)\n",
      "Requirement already satisfied: prawcore<3,>=2.1 in /home/jupyter/.local/lib/python3.7/site-packages (from praw) (2.3.0)\n",
      "Requirement already satisfied: update-checker>=0.18 in /home/jupyter/.local/lib/python3.7/site-packages (from praw) (0.18.0)\n",
      "Requirement already satisfied: websocket-client>=0.54.0 in /opt/conda/lib/python3.7/site-packages (from praw) (0.57.0)\n",
      "Requirement already satisfied: python-dateutil>=2.7.3 in /opt/conda/lib/python3.7/site-packages (from pandas) (2.8.2)\n",
      "Requirement already satisfied: pytz>=2017.3 in /opt/conda/lib/python3.7/site-packages (from pandas) (2021.1)\n",
      "Requirement already satisfied: googleapis-common-protos<2.0dev,>=1.6.0 in /opt/conda/lib/python3.7/site-packages (from google-api-core[grpc]<3.0.0dev,>=1.26.0->google-cloud-aiplatform==1.3.0) (1.53.0)\n",
      "Requirement already satisfied: protobuf>=3.12.0 in /opt/conda/lib/python3.7/site-packages (from google-api-core[grpc]<3.0.0dev,>=1.26.0->google-cloud-aiplatform==1.3.0) (3.16.0)\n",
      "Requirement already satisfied: six>=1.13.0 in /opt/conda/lib/python3.7/site-packages (from google-api-core[grpc]<3.0.0dev,>=1.26.0->google-cloud-aiplatform==1.3.0) (1.16.0)\n",
      "Requirement already satisfied: setuptools>=40.3.0 in /opt/conda/lib/python3.7/site-packages (from google-api-core[grpc]<3.0.0dev,>=1.26.0->google-cloud-aiplatform==1.3.0) (57.4.0)\n",
      "Requirement already satisfied: grpcio<2.0dev,>=1.29.0 in /opt/conda/lib/python3.7/site-packages (from google-api-core[grpc]<3.0.0dev,>=1.26.0->google-cloud-aiplatform==1.3.0) (1.38.1)\n",
      "Requirement already satisfied: rsa<5,>=3.1.4 in /opt/conda/lib/python3.7/site-packages (from google-auth<3.0dev,>=1.25.0->google-cloud-storage) (4.7.2)\n",
      "Requirement already satisfied: pyasn1-modules>=0.2.1 in /opt/conda/lib/python3.7/site-packages (from google-auth<3.0dev,>=1.25.0->google-cloud-storage) (0.2.7)\n",
      "Requirement already satisfied: cachetools<5.0,>=2.0.0 in /opt/conda/lib/python3.7/site-packages (from google-auth<3.0dev,>=1.25.0->google-cloud-storage) (4.2.2)\n",
      "Requirement already satisfied: google-crc32c<2.0dev,>=1.0 in /opt/conda/lib/python3.7/site-packages (from google-resumable-media<3.0dev,>=1.3.0->google-cloud-storage) (1.1.2)\n",
      "Requirement already satisfied: cffi>=1.0.0 in /opt/conda/lib/python3.7/site-packages (from google-crc32c<2.0dev,>=1.0->google-resumable-media<3.0dev,>=1.3.0->google-cloud-storage) (1.14.6)\n",
      "Requirement already satisfied: pycparser in /opt/conda/lib/python3.7/site-packages (from cffi>=1.0.0->google-crc32c<2.0dev,>=1.0->google-resumable-media<3.0dev,>=1.3.0->google-cloud-storage) (2.20)\n",
      "Requirement already satisfied: typing-inspect>=0.4.0 in /opt/conda/lib/python3.7/site-packages (from libcst>=0.2.5->google-cloud-secret-manager) (0.7.1)\n",
      "Requirement already satisfied: typing-extensions>=3.7.4.2 in /opt/conda/lib/python3.7/site-packages (from libcst>=0.2.5->google-cloud-secret-manager) (3.10.0.0)\n",
      "Requirement already satisfied: pyyaml>=5.2 in /opt/conda/lib/python3.7/site-packages (from libcst>=0.2.5->google-cloud-secret-manager) (5.4.1)\n",
      "Requirement already satisfied: pyparsing>=2.0.2 in /opt/conda/lib/python3.7/site-packages (from packaging>=14.3->google-cloud-aiplatform==1.3.0) (2.4.7)\n",
      "Requirement already satisfied: pyasn1<0.5.0,>=0.4.6 in /opt/conda/lib/python3.7/site-packages (from pyasn1-modules>=0.2.1->google-auth<3.0dev,>=1.25.0->google-cloud-storage) (0.4.8)\n",
      "Requirement already satisfied: idna<3,>=2.5 in /opt/conda/lib/python3.7/site-packages (from requests<3.0.0dev,>=2.18.0->google-cloud-storage) (2.10)\n",
      "Requirement already satisfied: chardet<5,>=3.0.2 in /opt/conda/lib/python3.7/site-packages (from requests<3.0.0dev,>=2.18.0->google-cloud-storage) (4.0.0)\n",
      "Requirement already satisfied: urllib3<1.27,>=1.21.1 in /opt/conda/lib/python3.7/site-packages (from requests<3.0.0dev,>=2.18.0->google-cloud-storage) (1.26.6)\n",
      "Requirement already satisfied: certifi>=2017.4.17 in /opt/conda/lib/python3.7/site-packages (from requests<3.0.0dev,>=2.18.0->google-cloud-storage) (2021.5.30)\n",
      "Requirement already satisfied: mypy-extensions>=0.3.0 in /opt/conda/lib/python3.7/site-packages (from typing-inspect>=0.4.0->libcst>=0.2.5->google-cloud-secret-manager) (0.4.3)\n"
     ]
    }
   ],
   "source": [
    "! pip install --user google-cloud-secret-manager google-cloud-storage google-cloud-aiplatform==1.3.0 praw pandas numpy"
   ]
  },
  {
   "cell_type": "markdown",
   "id": "24dea990",
   "metadata": {},
   "source": [
    "Set the `PROJECT_ID` variable from the environment."
   ]
  },
  {
   "cell_type": "code",
   "execution_count": 19,
   "id": "145252e1",
   "metadata": {},
   "outputs": [
    {
     "name": "stdout",
     "output_type": "stream",
     "text": [
      "Project ID:  video-erschmid\n"
     ]
    }
   ],
   "source": [
    "import os\n",
    "\n",
    "PROJECT_ID = \"\"\n",
    "\n",
    "# Get your Google Cloud project ID from gcloud\n",
    "if not os.getenv(\"IS_TESTING\"):\n",
    "    shell_output=!gcloud config list --format 'value(core.project)' 2>/dev/null\n",
    "    PROJECT_ID = shell_output[0]\n",
    "    print(\"Project ID: \", PROJECT_ID)"
   ]
  },
  {
   "cell_type": "markdown",
   "id": "6bec9580",
   "metadata": {},
   "source": [
    "## Get the Reddit API key out of Secret Manager"
   ]
  },
  {
   "cell_type": "code",
   "execution_count": 20,
   "id": "94512fb9",
   "metadata": {},
   "outputs": [
    {
     "name": "stdout",
     "output_type": "stream",
     "text": [
      "{'secret': '_XDRI2jgcVAJ6xKIWmA46yz8CZw', 'client_id': 'Z0g7xbmKNB9Mew', 'user_agent': 'script:ScrapeForNLP:v1.0 (by u/Telpirion-78)', 'user_name': 'Telpirion-78'}\n"
     ]
    }
   ],
   "source": [
    "from google.cloud import secretmanager\n",
    "import json\n",
    "\n",
    "client = secretmanager.SecretManagerServiceClient()\n",
    "\n",
    "secret_resource_name = f\"projects/{PROJECT_ID}/secrets/reddit-api-key/versions/1\"\n",
    "response = client.access_secret_version(request={\"name\": secret_resource_name})\n",
    "\n",
    "payload = response.payload.data.decode(\"UTF-8\")\n",
    "reddit_key_json = json.loads(payload)\n",
    "\n",
    "print(reddit_key_json)"
   ]
  },
  {
   "cell_type": "markdown",
   "id": "1fe8a9ea",
   "metadata": {},
   "source": [
    "## Get a batch of images from a subreddit\n",
    "\n",
    "First, connect to Reddit."
   ]
  },
  {
   "cell_type": "code",
   "execution_count": 21,
   "id": "02aff6d3",
   "metadata": {},
   "outputs": [
    {
     "name": "stdout",
     "output_type": "stream",
     "text": [
      "Reddit is in read-only mode: True\n"
     ]
    }
   ],
   "source": [
    "import praw\n",
    "import numpy as np\n",
    "import pandas as pd\n",
    "\n",
    "reddit = praw.Reddit(client_id=reddit_key_json['client_id'], \n",
    "                     client_secret=reddit_key_json['secret'],\n",
    "                     user_agent=reddit_key_json['user_agent'])\n",
    "print(f'Reddit is in read-only mode: {reddit.read_only}')"
   ]
  },
  {
   "cell_type": "markdown",
   "id": "4745b715",
   "metadata": {},
   "source": [
    "Next, download the top 1000 \"hot\" posts for one of the subreddits."
   ]
  },
  {
   "cell_type": "code",
   "execution_count": 110,
   "id": "36c8e8c6",
   "metadata": {},
   "outputs": [
    {
     "data": {
      "text/html": [
       "<div>\n",
       "<style scoped>\n",
       "    .dataframe tbody tr th:only-of-type {\n",
       "        vertical-align: middle;\n",
       "    }\n",
       "\n",
       "    .dataframe tbody tr th {\n",
       "        vertical-align: top;\n",
       "    }\n",
       "\n",
       "    .dataframe thead th {\n",
       "        text-align: right;\n",
       "    }\n",
       "</style>\n",
       "<table border=\"1\" class=\"dataframe\">\n",
       "  <thead>\n",
       "    <tr style=\"text-align: right;\">\n",
       "      <th></th>\n",
       "      <th>Title</th>\n",
       "      <th>Post</th>\n",
       "      <th>ID</th>\n",
       "      <th>URL</th>\n",
       "    </tr>\n",
       "  </thead>\n",
       "  <tbody>\n",
       "    <tr>\n",
       "      <th>0</th>\n",
       "      <td>[meta] Zero Tolerance on Shitty Behavior</td>\n",
       "      <td>Heads up folks. I have a zero tolerance policy...</td>\n",
       "      <td>fp0po8</td>\n",
       "      <td>https://www.reddit.com/r/FantasyMaps/comments/...</td>\n",
       "    </tr>\n",
       "    <tr>\n",
       "      <th>1</th>\n",
       "      <td>[meta] Welcome new artists and creators! Remem...</td>\n",
       "      <td>What the title says. If you are posting a coll...</td>\n",
       "      <td>frbwu4</td>\n",
       "      <td>https://www.reddit.com/r/FantasyMaps/comments/...</td>\n",
       "    </tr>\n",
       "    <tr>\n",
       "      <th>2</th>\n",
       "      <td>The Yawning Portal [battlemap][art]</td>\n",
       "      <td></td>\n",
       "      <td>q1otvv</td>\n",
       "      <td>https://i.redd.it/whn1tpg7qkr71.jpg</td>\n",
       "    </tr>\n",
       "    <tr>\n",
       "      <th>3</th>\n",
       "      <td>A Cozy Roadside Tavern - [20 x 21] [Battlemap]...</td>\n",
       "      <td></td>\n",
       "      <td>q1yv4o</td>\n",
       "      <td>https://i.redd.it/hg2djvsmhnr71.jpg</td>\n",
       "    </tr>\n",
       "    <tr>\n",
       "      <th>4</th>\n",
       "      <td>[OC] Red Rocks [Battlemap][53x53]</td>\n",
       "      <td></td>\n",
       "      <td>q1spff</td>\n",
       "      <td>https://i.redd.it/5hc1mdnrmlr71.jpg</td>\n",
       "    </tr>\n",
       "    <tr>\n",
       "      <th>5</th>\n",
       "      <td>[Battlemap] Town Infirmary [25x22]</td>\n",
       "      <td></td>\n",
       "      <td>q19lfg</td>\n",
       "      <td>https://i.redd.it/4b8be5bipgr71.jpg</td>\n",
       "    </tr>\n",
       "    <tr>\n",
       "      <th>6</th>\n",
       "      <td>Orc Cliff Camp [50x50] [battlemap]</td>\n",
       "      <td></td>\n",
       "      <td>q1kr60</td>\n",
       "      <td>https://i.redd.it/zgjammugfjr71.jpg</td>\n",
       "    </tr>\n",
       "    <tr>\n",
       "      <th>7</th>\n",
       "      <td>The Boulder in the Road - [40x30] [Battlemap] ...</td>\n",
       "      <td></td>\n",
       "      <td>q1fseg</td>\n",
       "      <td>https://i.redd.it/493phe5m4ir71.jpg</td>\n",
       "    </tr>\n",
       "    <tr>\n",
       "      <th>8</th>\n",
       "      <td>Animated Battlemap - Impact Site [36 x 50] [Ba...</td>\n",
       "      <td></td>\n",
       "      <td>q1b2f2</td>\n",
       "      <td>https://www.youtube.com/watch?v=cqye2rSk3_E&amp;t=21s</td>\n",
       "    </tr>\n",
       "    <tr>\n",
       "      <th>9</th>\n",
       "      <td>[Battlemap] [64x59] [Camp] [Caves] [Goblins] [...</td>\n",
       "      <td></td>\n",
       "      <td>q17wsy</td>\n",
       "      <td>https://www.patreon.com/posts/dark-troubles-56...</td>\n",
       "    </tr>\n",
       "  </tbody>\n",
       "</table>\n",
       "</div>"
      ],
      "text/plain": [
       "                                               Title  \\\n",
       "0           [meta] Zero Tolerance on Shitty Behavior   \n",
       "1  [meta] Welcome new artists and creators! Remem...   \n",
       "2                The Yawning Portal [battlemap][art]   \n",
       "3  A Cozy Roadside Tavern - [20 x 21] [Battlemap]...   \n",
       "4                  [OC] Red Rocks [Battlemap][53x53]   \n",
       "5                 [Battlemap] Town Infirmary [25x22]   \n",
       "6                 Orc Cliff Camp [50x50] [battlemap]   \n",
       "7  The Boulder in the Road - [40x30] [Battlemap] ...   \n",
       "8  Animated Battlemap - Impact Site [36 x 50] [Ba...   \n",
       "9  [Battlemap] [64x59] [Camp] [Caves] [Goblins] [...   \n",
       "\n",
       "                                                Post      ID  \\\n",
       "0  Heads up folks. I have a zero tolerance policy...  fp0po8   \n",
       "1  What the title says. If you are posting a coll...  frbwu4   \n",
       "2                                                     q1otvv   \n",
       "3                                                     q1yv4o   \n",
       "4                                                     q1spff   \n",
       "5                                                     q19lfg   \n",
       "6                                                     q1kr60   \n",
       "7                                                     q1fseg   \n",
       "8                                                     q1b2f2   \n",
       "9                                                     q17wsy   \n",
       "\n",
       "                                                 URL  \n",
       "0  https://www.reddit.com/r/FantasyMaps/comments/...  \n",
       "1  https://www.reddit.com/r/FantasyMaps/comments/...  \n",
       "2                https://i.redd.it/whn1tpg7qkr71.jpg  \n",
       "3                https://i.redd.it/hg2djvsmhnr71.jpg  \n",
       "4                https://i.redd.it/5hc1mdnrmlr71.jpg  \n",
       "5                https://i.redd.it/4b8be5bipgr71.jpg  \n",
       "6                https://i.redd.it/zgjammugfjr71.jpg  \n",
       "7                https://i.redd.it/493phe5m4ir71.jpg  \n",
       "8  https://www.youtube.com/watch?v=cqye2rSk3_E&t=21s  \n",
       "9  https://www.patreon.com/posts/dark-troubles-56...  "
      ]
     },
     "execution_count": 110,
     "metadata": {},
     "output_type": "execute_result"
    }
   ],
   "source": [
    "nan_value = float(\"NaN\")\n",
    "subreddit_name = 'fantasymaps'\n",
    "posts = reddit.subreddit(subreddit_name).hot(limit=1000)\n",
    "\n",
    "filtered_posts = [[s.title, s.selftext, s.id, s.url] for s in posts]\n",
    "filtered_posts = np.array(filtered_posts)\n",
    "reddit_posts_df = pd.DataFrame(filtered_posts,\n",
    "                               columns=['Title', 'Post', 'ID', 'URL'])\n",
    "\n",
    "reddit_posts_df.head(10)"
   ]
  },
  {
   "cell_type": "markdown",
   "id": "4b3cd067",
   "metadata": {},
   "source": [
    "Filter for only posts that contain JPG images."
   ]
  },
  {
   "cell_type": "code",
   "execution_count": 111,
   "id": "0d6f6764",
   "metadata": {},
   "outputs": [
    {
     "data": {
      "text/html": [
       "<div>\n",
       "<style scoped>\n",
       "    .dataframe tbody tr th:only-of-type {\n",
       "        vertical-align: middle;\n",
       "    }\n",
       "\n",
       "    .dataframe tbody tr th {\n",
       "        vertical-align: top;\n",
       "    }\n",
       "\n",
       "    .dataframe thead th {\n",
       "        text-align: right;\n",
       "    }\n",
       "</style>\n",
       "<table border=\"1\" class=\"dataframe\">\n",
       "  <thead>\n",
       "    <tr style=\"text-align: right;\">\n",
       "      <th></th>\n",
       "      <th>Title</th>\n",
       "      <th>Post</th>\n",
       "      <th>ID</th>\n",
       "      <th>URL</th>\n",
       "    </tr>\n",
       "  </thead>\n",
       "  <tbody>\n",
       "    <tr>\n",
       "      <th>2</th>\n",
       "      <td>The Yawning Portal [battlemap][art]</td>\n",
       "      <td></td>\n",
       "      <td>q1otvv</td>\n",
       "      <td>https://i.redd.it/whn1tpg7qkr71.jpg</td>\n",
       "    </tr>\n",
       "    <tr>\n",
       "      <th>3</th>\n",
       "      <td>A Cozy Roadside Tavern - [20 x 21] [Battlemap]...</td>\n",
       "      <td></td>\n",
       "      <td>q1yv4o</td>\n",
       "      <td>https://i.redd.it/hg2djvsmhnr71.jpg</td>\n",
       "    </tr>\n",
       "    <tr>\n",
       "      <th>4</th>\n",
       "      <td>[OC] Red Rocks [Battlemap][53x53]</td>\n",
       "      <td></td>\n",
       "      <td>q1spff</td>\n",
       "      <td>https://i.redd.it/5hc1mdnrmlr71.jpg</td>\n",
       "    </tr>\n",
       "    <tr>\n",
       "      <th>5</th>\n",
       "      <td>[Battlemap] Town Infirmary [25x22]</td>\n",
       "      <td></td>\n",
       "      <td>q19lfg</td>\n",
       "      <td>https://i.redd.it/4b8be5bipgr71.jpg</td>\n",
       "    </tr>\n",
       "    <tr>\n",
       "      <th>6</th>\n",
       "      <td>Orc Cliff Camp [50x50] [battlemap]</td>\n",
       "      <td></td>\n",
       "      <td>q1kr60</td>\n",
       "      <td>https://i.redd.it/zgjammugfjr71.jpg</td>\n",
       "    </tr>\n",
       "    <tr>\n",
       "      <th>7</th>\n",
       "      <td>The Boulder in the Road - [40x30] [Battlemap] ...</td>\n",
       "      <td></td>\n",
       "      <td>q1fseg</td>\n",
       "      <td>https://i.redd.it/493phe5m4ir71.jpg</td>\n",
       "    </tr>\n",
       "    <tr>\n",
       "      <th>10</th>\n",
       "      <td>Desert Oasis Bazaar Battlemap [30x30] [Battlemap]</td>\n",
       "      <td></td>\n",
       "      <td>q0njbd</td>\n",
       "      <td>https://i.imgur.com/YUTlHIe.jpg</td>\n",
       "    </tr>\n",
       "    <tr>\n",
       "      <th>11</th>\n",
       "      <td>[24x36] Teleporter Portals [Forest][Battlemap]...</td>\n",
       "      <td></td>\n",
       "      <td>q0dku7</td>\n",
       "      <td>https://i.redd.it/j2xchevl07r71.jpg</td>\n",
       "    </tr>\n",
       "    <tr>\n",
       "      <th>13</th>\n",
       "      <td>[Battlemap] The Hanging Tree [28x15] [3920x210...</td>\n",
       "      <td></td>\n",
       "      <td>q0qqv9</td>\n",
       "      <td>https://i.redd.it/kr4qs794uar71.jpg</td>\n",
       "    </tr>\n",
       "    <tr>\n",
       "      <th>14</th>\n",
       "      <td>[settlement map] my work in progress of Menzob...</td>\n",
       "      <td></td>\n",
       "      <td>q0k30x</td>\n",
       "      <td>https://i.redd.it/zmhnn5i489r71.jpg</td>\n",
       "    </tr>\n",
       "  </tbody>\n",
       "</table>\n",
       "</div>"
      ],
      "text/plain": [
       "                                                Title Post      ID  \\\n",
       "2                 The Yawning Portal [battlemap][art]       q1otvv   \n",
       "3   A Cozy Roadside Tavern - [20 x 21] [Battlemap]...       q1yv4o   \n",
       "4                   [OC] Red Rocks [Battlemap][53x53]       q1spff   \n",
       "5                  [Battlemap] Town Infirmary [25x22]       q19lfg   \n",
       "6                  Orc Cliff Camp [50x50] [battlemap]       q1kr60   \n",
       "7   The Boulder in the Road - [40x30] [Battlemap] ...       q1fseg   \n",
       "10  Desert Oasis Bazaar Battlemap [30x30] [Battlemap]       q0njbd   \n",
       "11  [24x36] Teleporter Portals [Forest][Battlemap]...       q0dku7   \n",
       "13  [Battlemap] The Hanging Tree [28x15] [3920x210...       q0qqv9   \n",
       "14  [settlement map] my work in progress of Menzob...       q0k30x   \n",
       "\n",
       "                                    URL  \n",
       "2   https://i.redd.it/whn1tpg7qkr71.jpg  \n",
       "3   https://i.redd.it/hg2djvsmhnr71.jpg  \n",
       "4   https://i.redd.it/5hc1mdnrmlr71.jpg  \n",
       "5   https://i.redd.it/4b8be5bipgr71.jpg  \n",
       "6   https://i.redd.it/zgjammugfjr71.jpg  \n",
       "7   https://i.redd.it/493phe5m4ir71.jpg  \n",
       "10      https://i.imgur.com/YUTlHIe.jpg  \n",
       "11  https://i.redd.it/j2xchevl07r71.jpg  \n",
       "13  https://i.redd.it/kr4qs794uar71.jpg  \n",
       "14  https://i.redd.it/zmhnn5i489r71.jpg  "
      ]
     },
     "execution_count": 111,
     "metadata": {},
     "output_type": "execute_result"
    }
   ],
   "source": [
    "jpg_df = reddit_posts_df.loc[reddit_posts_df[\"URL\"].str.contains(\"jpg\")]\n",
    "jpg_df.head(10)\n",
    "#print(jpg_df.shape)"
   ]
  },
  {
   "cell_type": "markdown",
   "id": "700fbe47",
   "metadata": {},
   "source": [
    "Download just the first image as a test"
   ]
  },
  {
   "cell_type": "code",
   "execution_count": 71,
   "id": "961eba1f",
   "metadata": {},
   "outputs": [
    {
     "name": "stdout",
     "output_type": "stream",
     "text": [
      "https://i.redd.it/dcwumqsnnnq71.jpg\n",
      "urban_theodosian_fortress__34x22_\n"
     ]
    }
   ],
   "source": [
    "import os\n",
    "import re\n",
    "import requests\n",
    "import shutil\n",
    "\n",
    "regex = \"[\\s|\\(|\\\"|\\)]\"\n",
    "\n",
    "test_image = jpg_df.head(1).URL.item()\n",
    "#test_file_name = jpg_df.head(1).Title.item().replace(\" \", \"_\").lower() + \".jpg\"\n",
    "test_file_name = jpg_df.head(1).Title.item()\n",
    "test_file_name = re.sub(regex, \"_\", test_file_name)\n",
    "test_file_name = test_file_name.lower()[:100]\n",
    "\n",
    "print(test_image)\n",
    "print(test_file_name)"
   ]
  },
  {
   "cell_type": "code",
   "execution_count": 113,
   "id": "630043f9",
   "metadata": {},
   "outputs": [],
   "source": [
    "r = requests.get(test_image, stream=True)\n",
    "if r.status_code == 200:\n",
    "    r.raw.decode_content = True\n",
    "    with open(test_file_name, 'wb') as f:\n",
    "        shutil.copyfileobj(r.raw, f)"
   ]
  },
  {
   "cell_type": "code",
   "execution_count": 112,
   "id": "28ec5181",
   "metadata": {},
   "outputs": [],
   "source": [
    "def make_nice_filename(name):\n",
    "    \"\"\"Create a nice file name.\n",
    "    TODO(telpirion):\n",
    "       + Condense multiple underscores to single underscores\n",
    "       + Reduce maximum filename length to 30 char\n",
    "       + Add brackets [] to regex\n",
    "    \"\"\"\n",
    "    regex = \"[\\s|\\(|\\\"|\\)]\"\n",
    "    new_name = re.sub(regex, \"_\", name)\n",
    "    new_name = new_name.lower()[:30]\n",
    "    return f\"{new_name}.jpg\""
   ]
  },
  {
   "cell_type": "markdown",
   "id": "2589c965",
   "metadata": {},
   "source": [
    "Download first 50 images and put them into a local directory."
   ]
  },
  {
   "cell_type": "code",
   "execution_count": 114,
   "id": "f3844e20",
   "metadata": {},
   "outputs": [],
   "source": [
    "local_reddit_data_dir = \"reddit_maps_data\"\n",
    "\n",
    "if not os.path.exists(local_reddit_data_dir):\n",
    "    os.mkdir(local_reddit_data_dir)\n",
    "    \n",
    "for index, row, in jpg_df.head(50).iterrows():\n",
    "    image_url = row[\"URL\"]\n",
    "    image_filename = make_nice_filename(row[\"Title\"])\n",
    "    \n",
    "    r = requests.get(image_url, stream=True)\n",
    "    if (r.status_code == 200):\n",
    "        r.raw.decode_content = True\n",
    "        with open(f\"{local_reddit_data_dir}/{image_filename}\", \"wb\") as f:\n",
    "            shutil.copyfileobj(r.raw, f)"
   ]
  },
  {
   "cell_type": "markdown",
   "id": "97520ff4",
   "metadata": {},
   "source": [
    "## Review downloaded images for prediction\n",
    "\n",
    "The images downloaded from Reddit contain a mix of gridded images and ungridded images. Unfortunately, the easiest way to determine which are gridded (and which aren't) is through manual inspection.\n",
    "\n",
    "The \"image_reviewer.ipynb\" notebook can be used to review images. Once the set of images to use for batch prediction are ready, create a list of the images to upload."
   ]
  },
  {
   "cell_type": "code",
   "execution_count": 119,
   "id": "03784265",
   "metadata": {},
   "outputs": [
    {
     "name": "stdout",
     "output_type": "stream",
     "text": [
      "['reddit_maps_data/48__x_48__text_to_map_prototype_of_a_jungle_road_&_camp.jpg', 'reddit_maps_data/[22x17]_wild_rapids_[battlemap.jpg', 'reddit_maps_data/[24x36]_teleporter_portals_[fo.jpg', 'reddit_maps_data/[25_x_41]_[6000_x_10000px]_fey.jpg', 'reddit_maps_data/[25x30]_nest_[cave][battlemap].jpg', 'reddit_maps_data/[26x39]_fireflies_at_the_cross.jpg', 'reddit_maps_data/[36x30]_desert_oasis_battlemap.jpg', 'reddit_maps_data/[battlemap][30x30][2160x2160px.jpg', 'reddit_maps_data/[battlemap]_the_hanging_tree_[.jpg', 'reddit_maps_data/[battlemap]_the_river_--_[oc]_.jpg', 'reddit_maps_data/[battlemap]_town_infirmary_[25.jpg', 'reddit_maps_data/[battlemap]_underwater_temple_.jpg', \"reddit_maps_data/[oc]_airship's_crash_site_[32x.jpg\", 'reddit_maps_data/[oc]_red_rocks_[battlemap][53x.jpg', 'reddit_maps_data/[oc]_rocky_ruins_[battlemap][4.jpg', \"reddit_maps_data/airship's_crash_site_[32x46][desert].jpg\", 'reddit_maps_data/city_drawbridge_[32x44].jpg', 'reddit_maps_data/city_port_docks_[55x40][oc][ba.jpg', 'reddit_maps_data/desert_oasis_bazaar_battlemap_.jpg', 'reddit_maps_data/desert_oasis_town_battlemap_[3.jpg', 'reddit_maps_data/free_map_friday_from_grim_pres.jpg', 'reddit_maps_data/gridlock_vault_[part_03]_[33x20].jpg', 'reddit_maps_data/halls_of_the_spider_queen_[bat.jpg', 'reddit_maps_data/just_a_small_clearing_filled_with_the_energies_of_a_long-forgotten_water_goddess_[oc][art][battle_ma.jpg', 'reddit_maps_data/mountain_outpost_[battlemap][oc][22x33][1540x2310].jpg', 'reddit_maps_data/tartarus_facility_-_03_[31x31].jpg', 'reddit_maps_data/this_is_my_first_battle_map._let_me_know_what_you_think!.jpg', 'reddit_maps_data/tomb_bridge_[art][battlemap][3.jpg', 'reddit_maps_data/tunnel_cave.jpg', 'reddit_maps_data/what_do_you_mean?_did_you_pay_30_gold_for_a_bridge?_what_bridge_costs_30_gold?_small__bridge__encoun.jpg']\n"
     ]
    }
   ],
   "source": [
    "\"\"\"\n",
    "gridded_images = [\n",
    "    \"reddit_maps_data/[oc]_rocky_ruins_battlemap[48x48].jpg\",\n",
    "    \"reddit_maps_data/48__x_48__text_to_map_prototype_of_a_jungle_road_&_camp.jpg\",\n",
    "    \"reddit_maps_data/airship's_crash_site_[32x46][desert].jpg\",\n",
    "    \"reddit_maps_data/canal_city_battle_map_30x30.jpg\",\n",
    "    \"reddit_maps_data/city_drawbridge_[32x44].jpg\",\n",
    "    \"reddit_maps_data/crypt_of_the_hellriders.jpg\",\n",
    "    \"reddit_maps_data/desert_oasis_town_battlemap_[36x30].jpg\",\n",
    "    \"reddit_maps_data/gridlock_vault_[part_03]_[33x20].jpg\",\n",
    "    \"reddit_maps_data/just_a_small_clearing_filled_with_the_energies_of_a_long-forgotten_water_goddess_[oc][art][battle_ma.jpg\",\n",
    "    \"reddit_maps_data/mountain_outpost_[battlemap][oc][22x33][1540x2310].jpg\",\n",
    "    \"reddit_maps_data/nest_[25x30].jpg\",\n",
    "    \"reddit_maps_data/tunnel_cave.jpg\",\n",
    "    \"reddit_maps_data/what_do_you_mean?_did_you_pay_30_gold_for_a_bridge?_what_bridge_costs_30_gold?_small__bridge__encoun.jpg\",\n",
    "]\n",
    "\"\"\"\n",
    "\n",
    "dataset_files = [f for d, o, f in os.walk('reddit_maps_data')]\n",
    "dataset_files = dataset_files[0]\n",
    "dataset_files = sorted(dataset_files)\n",
    "\n",
    "#print(dataset_files)\n",
    "\n",
    "gridded_images = [f\"reddit_maps_data/{i}\" for i in dataset_files]\n",
    "print(gridded_images)"
   ]
  },
  {
   "cell_type": "markdown",
   "id": "5ce39e85",
   "metadata": {},
   "source": [
    "## Create the batch prediction job"
   ]
  },
  {
   "cell_type": "code",
   "execution_count": 120,
   "id": "8d22a872",
   "metadata": {
    "colab": {
     "base_uri": "https://localhost:8080/"
    },
    "id": "qyUD66u0dB4o",
    "outputId": "5a8af756-88af-4558-b79a-c13808a063d0"
   },
   "outputs": [
    {
     "name": "stdout",
     "output_type": "stream",
     "text": [
      "video-erschmid\n",
      "video-erschmid\n",
      "DnD-batch-predict-input/20211005225454/batch-prediction-input.jsonl\n"
     ]
    }
   ],
   "source": [
    "import os\n",
    "from datetime import datetime\n",
    "\n",
    "from google.cloud import aiplatform as aip\n",
    "from google.cloud import storage\n",
    "\n",
    "aip.init(project=PROJECT_ID, location=\"us-central1\")\n",
    "storage_client = storage.Client(project=PROJECT_ID)\n",
    "\n",
    "TIMESTAMP = datetime.now().strftime(\"%Y%m%d%H%M%S\")\n",
    "BATCH_PREDICTION_BUCKET = \"video-erschmid\"\n",
    "BATCH_PREDICTION_PREFIX = f\"DnD-batch-predict-input/{TIMESTAMP}\"\n",
    "BATCH_PREDICTION_URI = f\"gs://{BATCH_PREDICTION_BUCKET}/{BATCH_PREDICTION_PREFIX}\"\n",
    "MODEL_ID = \"5982671465147793408\"\n",
    "\n",
    "os.environ['GOOGLE_CLOUD_PROJECT'] = PROJECT_ID\n",
    "input_file_uri = f\"{BATCH_PREDICTION_PREFIX}/batch-prediction-input.jsonl\"\n",
    "\n",
    "print(BATCH_PREDICTION_BUCKET)\n",
    "print(PROJECT_ID)\n",
    "print(input_file_uri)"
   ]
  },
  {
   "cell_type": "markdown",
   "id": "4db8138c",
   "metadata": {},
   "source": [
    "### Upload local files up to the bucket"
   ]
  },
  {
   "cell_type": "code",
   "execution_count": 121,
   "id": "23256102",
   "metadata": {},
   "outputs": [
    {
     "name": "stdout",
     "output_type": "stream",
     "text": [
      "48__x_48__text_to_map_prototype_of_a_jungle_road_&_camp.jpg\n",
      "[22x17]_wild_rapids_[battlemap.jpg\n",
      "[24x36]_teleporter_portals_[fo.jpg\n",
      "[25_x_41]_[6000_x_10000px]_fey.jpg\n",
      "[25x30]_nest_[cave][battlemap].jpg\n",
      "[26x39]_fireflies_at_the_cross.jpg\n",
      "[36x30]_desert_oasis_battlemap.jpg\n",
      "[battlemap][30x30][2160x2160px.jpg\n",
      "[battlemap]_the_hanging_tree_[.jpg\n",
      "[battlemap]_the_river_--_[oc]_.jpg\n",
      "[battlemap]_town_infirmary_[25.jpg\n",
      "[battlemap]_underwater_temple_.jpg\n",
      "[oc]_airship's_crash_site_[32x.jpg\n",
      "[oc]_red_rocks_[battlemap][53x.jpg\n",
      "[oc]_rocky_ruins_[battlemap][4.jpg\n",
      "airship's_crash_site_[32x46][desert].jpg\n",
      "city_drawbridge_[32x44].jpg\n",
      "city_port_docks_[55x40][oc][ba.jpg\n",
      "desert_oasis_bazaar_battlemap_.jpg\n",
      "desert_oasis_town_battlemap_[3.jpg\n",
      "free_map_friday_from_grim_pres.jpg\n",
      "gridlock_vault_[part_03]_[33x20].jpg\n",
      "halls_of_the_spider_queen_[bat.jpg\n",
      "just_a_small_clearing_filled_with_the_energies_of_a_long-forgotten_water_goddess_[oc][art][battle_ma.jpg\n",
      "mountain_outpost_[battlemap][oc][22x33][1540x2310].jpg\n",
      "tartarus_facility_-_03_[31x31].jpg\n",
      "this_is_my_first_battle_map._let_me_know_what_you_think!.jpg\n",
      "tomb_bridge_[art][battlemap][3.jpg\n",
      "tunnel_cave.jpg\n",
      "what_do_you_mean?_did_you_pay_30_gold_for_a_bridge?_what_bridge_costs_30_gold?_small__bridge__encoun.jpg\n"
     ]
    }
   ],
   "source": [
    "bucket = storage_client.bucket(BATCH_PREDICTION_BUCKET)\n",
    "\n",
    "for gridded_image in gridded_images:\n",
    "    filename = gridded_image.split(\"/\")[-1]\n",
    "    print(filename)\n",
    "    file_blob = bucket.blob(f\"{BATCH_PREDICTION_PREFIX}/{filename}\")\n",
    "    file_blob.upload_from_filename(gridded_image)"
   ]
  },
  {
   "cell_type": "markdown",
   "id": "fea28cda",
   "metadata": {},
   "source": [
    "### Create the batch prediction input file"
   ]
  },
  {
   "cell_type": "code",
   "execution_count": 122,
   "id": "c1b157e5",
   "metadata": {},
   "outputs": [
    {
     "name": "stdout",
     "output_type": "stream",
     "text": [
      "DnD-batch-predict-input/20211005225454/48__x_48__text_to_map_prototype_of_a_jungle_road_&_camp.jpg\n",
      "DnD-batch-predict-input/20211005225454/[22x17]_wild_rapids_[battlemap.jpg\n",
      "DnD-batch-predict-input/20211005225454/[24x36]_teleporter_portals_[fo.jpg\n",
      "DnD-batch-predict-input/20211005225454/[25_x_41]_[6000_x_10000px]_fey.jpg\n",
      "DnD-batch-predict-input/20211005225454/[25x30]_nest_[cave][battlemap].jpg\n",
      "DnD-batch-predict-input/20211005225454/[26x39]_fireflies_at_the_cross.jpg\n",
      "DnD-batch-predict-input/20211005225454/[36x30]_desert_oasis_battlemap.jpg\n",
      "DnD-batch-predict-input/20211005225454/[battlemap][30x30][2160x2160px.jpg\n",
      "DnD-batch-predict-input/20211005225454/[battlemap]_the_hanging_tree_[.jpg\n",
      "DnD-batch-predict-input/20211005225454/[battlemap]_the_river_--_[oc]_.jpg\n",
      "DnD-batch-predict-input/20211005225454/[battlemap]_town_infirmary_[25.jpg\n",
      "DnD-batch-predict-input/20211005225454/[battlemap]_underwater_temple_.jpg\n",
      "DnD-batch-predict-input/20211005225454/[oc]_airship's_crash_site_[32x.jpg\n",
      "DnD-batch-predict-input/20211005225454/[oc]_red_rocks_[battlemap][53x.jpg\n",
      "DnD-batch-predict-input/20211005225454/[oc]_rocky_ruins_[battlemap][4.jpg\n",
      "DnD-batch-predict-input/20211005225454/airship's_crash_site_[32x46][desert].jpg\n",
      "DnD-batch-predict-input/20211005225454/city_drawbridge_[32x44].jpg\n",
      "DnD-batch-predict-input/20211005225454/city_port_docks_[55x40][oc][ba.jpg\n",
      "DnD-batch-predict-input/20211005225454/desert_oasis_bazaar_battlemap_.jpg\n",
      "DnD-batch-predict-input/20211005225454/desert_oasis_town_battlemap_[3.jpg\n",
      "DnD-batch-predict-input/20211005225454/free_map_friday_from_grim_pres.jpg\n",
      "DnD-batch-predict-input/20211005225454/gridlock_vault_[part_03]_[33x20].jpg\n",
      "DnD-batch-predict-input/20211005225454/halls_of_the_spider_queen_[bat.jpg\n",
      "DnD-batch-predict-input/20211005225454/just_a_small_clearing_filled_with_the_energies_of_a_long-forgotten_water_goddess_[oc][art][battle_ma.jpg\n",
      "DnD-batch-predict-input/20211005225454/mountain_outpost_[battlemap][oc][22x33][1540x2310].jpg\n",
      "DnD-batch-predict-input/20211005225454/tartarus_facility_-_03_[31x31].jpg\n",
      "DnD-batch-predict-input/20211005225454/this_is_my_first_battle_map._let_me_know_what_you_think!.jpg\n",
      "DnD-batch-predict-input/20211005225454/tomb_bridge_[art][battlemap][3.jpg\n",
      "DnD-batch-predict-input/20211005225454/tunnel_cave.jpg\n",
      "DnD-batch-predict-input/20211005225454/what_do_you_mean?_did_you_pay_30_gold_for_a_bridge?_what_bridge_costs_30_gold?_small__bridge__encoun.jpg\n"
     ]
    }
   ],
   "source": [
    "blobs = bucket.list_blobs()\n",
    "input_file_data = []\n",
    "\n",
    "for blob in blobs:\n",
    "  if ((blob.name.find(str(TIMESTAMP)) > -1) and\n",
    "      (blob.name.find(\"jpg\") > -1)):\n",
    "    print(blob.name)\n",
    "\n",
    "    # Add the data to store in the JSONL input file.\n",
    "    tmp_data = {\"content\": f\"gs://{BATCH_PREDICTION_BUCKET}/{blob.name}\", \"mimeType\": \"image/jpeg\"}\n",
    "    input_file_data.append(tmp_data)\n",
    "\n",
    "input_str = \"\\n\".join([str(d) for d in input_file_data])\n",
    "file_blob = bucket.blob(input_file_uri)\n",
    "file_blob.upload_from_string(input_str)"
   ]
  },
  {
   "cell_type": "markdown",
   "id": "9750a6e7",
   "metadata": {},
   "source": [
    "### Create the batch prediction job"
   ]
  },
  {
   "cell_type": "code",
   "execution_count": 123,
   "id": "17733e02",
   "metadata": {
    "colab": {
     "base_uri": "https://localhost:8080/"
    },
    "id": "u7R2eiQxs2Y4",
    "outputId": "d111417e-5e2f-4cd1-e094-9e292acf5490"
   },
   "outputs": [
    {
     "name": "stdout",
     "output_type": "stream",
     "text": [
      "INFO:google.cloud.aiplatform.jobs:Creating BatchPredictionJob\n",
      "INFO:google.cloud.aiplatform.jobs:BatchPredictionJob created. Resource name: projects/147301782967/locations/us-central1/batchPredictionJobs/9196449395137052672\n",
      "INFO:google.cloud.aiplatform.jobs:To use this BatchPredictionJob in another session:\n",
      "INFO:google.cloud.aiplatform.jobs:bpj = aiplatform.BatchPredictionJob('projects/147301782967/locations/us-central1/batchPredictionJobs/9196449395137052672')\n",
      "INFO:google.cloud.aiplatform.jobs:View Batch Prediction Job:\n",
      "https://console.cloud.google.com/ai/platform/locations/us-central1/batch-predictions/9196449395137052672?project=147301782967\n",
      "INFO:google.cloud.aiplatform.jobs:BatchPredictionJob projects/147301782967/locations/us-central1/batchPredictionJobs/9196449395137052672 current state:\n",
      "JobState.JOB_STATE_RUNNING\n",
      "INFO:google.cloud.aiplatform.jobs:BatchPredictionJob projects/147301782967/locations/us-central1/batchPredictionJobs/9196449395137052672 current state:\n",
      "JobState.JOB_STATE_RUNNING\n",
      "INFO:google.cloud.aiplatform.jobs:BatchPredictionJob projects/147301782967/locations/us-central1/batchPredictionJobs/9196449395137052672 current state:\n",
      "JobState.JOB_STATE_RUNNING\n",
      "INFO:google.cloud.aiplatform.jobs:BatchPredictionJob projects/147301782967/locations/us-central1/batchPredictionJobs/9196449395137052672 current state:\n",
      "JobState.JOB_STATE_RUNNING\n",
      "INFO:google.cloud.aiplatform.jobs:BatchPredictionJob projects/147301782967/locations/us-central1/batchPredictionJobs/9196449395137052672 current state:\n",
      "JobState.JOB_STATE_RUNNING\n",
      "INFO:google.cloud.aiplatform.jobs:BatchPredictionJob projects/147301782967/locations/us-central1/batchPredictionJobs/9196449395137052672 current state:\n",
      "JobState.JOB_STATE_RUNNING\n",
      "INFO:google.cloud.aiplatform.jobs:BatchPredictionJob projects/147301782967/locations/us-central1/batchPredictionJobs/9196449395137052672 current state:\n",
      "JobState.JOB_STATE_RUNNING\n",
      "INFO:google.cloud.aiplatform.jobs:BatchPredictionJob projects/147301782967/locations/us-central1/batchPredictionJobs/9196449395137052672 current state:\n",
      "JobState.JOB_STATE_RUNNING\n",
      "INFO:google.cloud.aiplatform.jobs:BatchPredictionJob projects/147301782967/locations/us-central1/batchPredictionJobs/9196449395137052672 current state:\n",
      "JobState.JOB_STATE_SUCCEEDED\n",
      "INFO:google.cloud.aiplatform.jobs:BatchPredictionJob run completed. Resource name: projects/147301782967/locations/us-central1/batchPredictionJobs/9196449395137052672\n"
     ]
    }
   ],
   "source": [
    "from google.cloud.aiplatform import jobs\n",
    "\n",
    "job_display_name = f\"maps-batch-predict-{TIMESTAMP}\"\n",
    "model = aip.Model(model_name=f\"projects/{PROJECT_ID}/locations/us-central1/models/{MODEL_ID}\")\n",
    "\n",
    "batch_prediction_job = model.batch_predict(\n",
    "    job_display_name=job_display_name,\n",
    "    gcs_source=\"gs://video-erschmid/DnD-batch-predict-input/20210930231618/batch-prediction-input.jsonl\",\n",
    "    #f\"gs://{BATCH_PREDICTION_BUCKET}/{input_file_uri}\",\n",
    "    gcs_destination_prefix=f\"gs://{BATCH_PREDICTION_BUCKET}/{BATCH_PREDICTION_PREFIX}/output\",\n",
    "    sync=True,\n",
    ")"
   ]
  },
  {
   "cell_type": "code",
   "execution_count": null,
   "id": "664fa94c",
   "metadata": {},
   "outputs": [],
   "source": []
  }
 ],
 "metadata": {
  "environment": {
   "name": "common-cpu.m78",
   "type": "gcloud",
   "uri": "gcr.io/deeplearning-platform-release/base-cpu:m78"
  },
  "kernelspec": {
   "display_name": "Python [conda env:root] *",
   "language": "python",
   "name": "conda-root-py"
  },
  "language_info": {
   "codemirror_mode": {
    "name": "ipython",
    "version": 3
   },
   "file_extension": ".py",
   "mimetype": "text/x-python",
   "name": "python",
   "nbconvert_exporter": "python",
   "pygments_lexer": "ipython3",
   "version": "3.7.10"
  }
 },
 "nbformat": 4,
 "nbformat_minor": 5
}
