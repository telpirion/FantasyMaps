{
 "cells": [
  {
   "cell_type": "markdown",
   "id": "250527e7-84a1-4ec8-aacb-b99fdf1d7314",
   "metadata": {},
   "source": [
    "# Snippets (taken from older versions of notebooks)"
   ]
  },
  {
   "cell_type": "markdown",
   "id": "95d7c24e-e9bd-42c8-819f-22ab3287aef4",
   "metadata": {},
   "source": [
    "## Create batch prediction file from GCS contents"
   ]
  },
  {
   "cell_type": "code",
   "execution_count": null,
   "id": "750b9494-c9e2-40cf-a130-b0d7341adfd6",
   "metadata": {},
   "outputs": [
    {
     "name": "stdout",
     "output_type": "stream",
     "text": [
      "<Bucket: video-erschmid>\n",
      "DnD-batch-predict-input/GRIDDED-The-Potato-Thief-Lovers-social.jpg\n",
      "DnD-batch-predict-input/VTT-runeport-docks-GRID-social.jpg\n",
      "DnD-batch-predict-input/forest-river-social-2.jpg\n",
      "DnD-batch-predict-input/forest-tracks.jpg\n",
      "DnD-batch-predict-input/hard-landing.jpg\n",
      "DnD-batch-predict-input/small-cemetary.jpg\n",
      "DnD-batch-predict-input/social-SNOW-FOREST-ROAD.jpg\n"
     ]
    }
   ],
   "source": [
    "bucket = storage_client.bucket(gcs_bucket_name)\n",
    "blobs = bucket.list_blobs()\n",
    "\n",
    "input_file_data = []\n",
    "\n",
    "print(bucket)\n",
    "for blob in blobs:\n",
    "  if ((blob.name.find(\"DnD-batch-predict\") > -1) and\n",
    "      (blob.name.find(\"jpg\") > -1)):\n",
    "    print(blob.name)\n",
    "\n",
    "    # Add the data to store in the JSONL input file.\n",
    "    tmp_data = {\"content\": f\"gs://{gcs_bucket_name}/{blob.name}\", \"mimeType\": \"image/jpeg\"}\n",
    "    input_file_data.append(tmp_data)\n",
    "\n",
    "input_str = \"\\n\".join([str(d) for d in input_file_data])\n",
    "file_blob = bucket.blob(input_file_uri)\n",
    "file_blob.upload_from_string(input_str)"
   ]
  },
  {
   "cell_type": "code",
   "execution_count": 35,
   "id": "dabfd609-788d-4a63-86ea-8ed8088788f0",
   "metadata": {
    "colab": {
     "base_uri": "https://localhost:8080/"
    },
    "id": "GprgnhLNrW5X",
    "outputId": "41676727-5ca6-416b-ad47-00e35ddb60a2"
   },
   "outputs": [
    {
     "name": "stdout",
     "output_type": "stream",
     "text": [
      "gs://video-erschmid/DnD-batch-predict-input/#1627075806464488\n",
      "gs://video-erschmid/DnD-batch-predict-input/GRIDDED-The-Potato-Thief-Lovers-social.jpg#1627076479591472\n",
      "gs://video-erschmid/DnD-batch-predict-input/VTT-runeport-docks-GRID-social.jpg#1627076480969298\n",
      "gs://video-erschmid/DnD-batch-predict-input/batch-prediction-input.jsonl#1631903307679797\n",
      "gs://video-erschmid/DnD-batch-predict-input/forest-river-social-2.jpg#1627076480173411\n",
      "gs://video-erschmid/DnD-batch-predict-input/forest-tracks.jpg#1630445535492248\n",
      "gs://video-erschmid/DnD-batch-predict-input/hard-landing.jpg#1630445447750400\n",
      "gs://video-erschmid/DnD-batch-predict-input/small-cemetary.jpg#1630445606511548\n",
      "gs://video-erschmid/DnD-batch-predict-input/social-SNOW-FOREST-ROAD.jpg#1627076480234330\n",
      "gs://video-erschmid/DnD-batch-predict-input/output/\n"
     ]
    }
   ],
   "source": [
    "! gsutil ls -a $BATCH_PREDICTION_URI"
   ]
  },
  {
   "cell_type": "markdown",
   "id": "e59e40db-2023-499b-8a08-852bcb531215",
   "metadata": {},
   "source": [
    "## List files in GCS bucket"
   ]
  },
  {
   "cell_type": "code",
   "execution_count": 18,
   "id": "91778eb8-70d1-47a5-8ce2-95a955a4e377",
   "metadata": {
    "tags": []
   },
   "outputs": [
    {
     "name": "stdout",
     "output_type": "stream",
     "text": [
      "['gs://fantasy-maps/SampleData/desert.jpg', 'gs://fantasy-maps/SampleData/ruined-keep.jpg', 'gs://fantasy-maps/SampleData/small-cemetary.jpg']\n"
     ]
    }
   ],
   "source": [
    "SAMPLE_DATA_FOLDER = f\"gs://{gcs_bucket_name}/SampleData\"\n",
    "\n",
    "test_files = ! gsutil ls $SAMPLE_DATA_FOLDER\n",
    "test_files = filter(lambda k: k.find(\"jpg\") > -1, test_files)\n",
    "test_files = list(test_files)\n",
    "print(test_files)"
   ]
  },
  {
   "cell_type": "code",
   "execution_count": null,
   "id": "e3581f73-3c16-4981-bc69-3c71b45e9e49",
   "metadata": {},
   "outputs": [],
   "source": []
  }
 ],
 "metadata": {
  "environment": {
   "kernel": "python3",
   "name": "common-cu110.m87",
   "type": "gcloud",
   "uri": "gcr.io/deeplearning-platform-release/base-cu110:m87"
  },
  "kernelspec": {
   "display_name": "Python 3",
   "language": "python",
   "name": "python3"
  },
  "language_info": {
   "codemirror_mode": {
    "name": "ipython",
    "version": 3
   },
   "file_extension": ".py",
   "mimetype": "text/x-python",
   "name": "python",
   "nbconvert_exporter": "python",
   "pygments_lexer": "ipython3",
   "version": "3.7.12"
  }
 },
 "nbformat": 4,
 "nbformat_minor": 5
}
