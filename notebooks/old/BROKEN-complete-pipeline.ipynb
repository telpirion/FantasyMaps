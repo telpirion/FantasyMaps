{
 "cells": [
  {
   "cell_type": "markdown",
   "id": "47735c95",
   "metadata": {},
   "source": [
    "# Complete Fantasy Maps pipeline\n",
    "\n",
    "\n",
    "The completed, self-bootstrapping FantasyMaps pipeline should look something like the following:\n",
    "\n",
    "1.  Scrape images from Reddit (and Pinterest [p2], Quora [p2])\n",
    "    *   Inputs: The sources to scrape maps from\n",
    "    *   Outputs: Array of image URLs; Saved image files in GCS (implicit)\n",
    "1.  Send new, scraped images out for batch prediction\n",
    "    *   Inputs: Array of image URLs, current model resource name\n",
    "    *   Outputs: URI of JSONL of batch prediction results\n",
    "1.  Upload batch prediction results to Firestore\n",
    "    *   Inputs: URI of JSONL of batch prediction results\n",
    "    *   Outputs: None\n",
    "1.  Train new online & exportable model\n",
    "    *   Inputs: Firestore collection name with training data\n",
    "    *   Outputs: Online model and exportable model\n",
    "1.  Deploy online model (not necessary for batch prediction)\n",
    "    *   Inputs: Online model resource name\n",
    "    *   Outputs: Endpoint resource name for deployed model\n"
   ]
  },
  {
   "cell_type": "markdown",
   "id": "c99dd921",
   "metadata": {},
   "source": [
    "## Data states\n",
    "\n",
    "1.  Initial image data\n",
    "    *  Image URI (not GCS)\n",
    "    *  VTT grid data (for images provided by contributor)\n",
    "1.  Prediction data\n",
    "    *  URI on GCS\n",
    "    *  Predicted bounding boxes\n",
    "1.  Known image\n",
    "    *  URI on GCS\n",
    "    *  Identified VTT coordinates\n",
    "1.  Training data\n",
    "    *  URI on GCS\n",
    "    *  Identified VTT coordinates & bounding boxes\n",
    "\n",
    "Scraped data flow:\n",
    "Initial => predicted => known => training data\n",
    "\n",
    "Contributed data flow:\n",
    "Initial => known => training data"
   ]
  },
  {
   "cell_type": "code",
   "execution_count": 1,
   "id": "be11becd-5630-4b2f-a12f-9bfec6f1ecd9",
   "metadata": {
    "collapsed": true,
    "jupyter": {
     "outputs_hidden": true
    },
    "tags": []
   },
   "outputs": [
    {
     "name": "stdout",
     "output_type": "stream",
     "text": [
      "Requirement already satisfied: google-cloud-aiplatform in /home/jupyter/.local/lib/python3.7/site-packages (1.3.0)\n",
      "Requirement already satisfied: google-cloud-firestore in /opt/conda/lib/python3.7/site-packages (2.3.4)\n",
      "Requirement already satisfied: google-cloud-storage in /opt/conda/lib/python3.7/site-packages (1.43.0)\n",
      "Requirement already satisfied: kfp in /home/jupyter/.local/lib/python3.7/site-packages (1.8.10)\n",
      "Requirement already satisfied: google-cloud-pipeline-components in /home/jupyter/.local/lib/python3.7/site-packages (0.1.5)\n",
      "Requirement already satisfied: google-cloud-bigquery<3.0.0dev,>=1.15.0 in /opt/conda/lib/python3.7/site-packages (from google-cloud-aiplatform) (2.30.1)\n",
      "Requirement already satisfied: packaging>=14.3 in /opt/conda/lib/python3.7/site-packages (from google-cloud-aiplatform) (21.3)\n",
      "Requirement already satisfied: proto-plus>=1.10.1 in /opt/conda/lib/python3.7/site-packages (from google-cloud-aiplatform) (1.19.8)\n",
      "Requirement already satisfied: google-api-core[grpc]<3.0.0dev,>=1.26.0 in /home/jupyter/.local/lib/python3.7/site-packages (from google-cloud-aiplatform) (1.31.4)\n",
      "Requirement already satisfied: google-cloud-core<3.0.0dev,>=1.4.1 in /opt/conda/lib/python3.7/site-packages (from google-cloud-firestore) (2.2.1)\n",
      "Requirement already satisfied: requests<3.0.0dev,>=2.18.0 in /opt/conda/lib/python3.7/site-packages (from google-cloud-storage) (2.26.0)\n",
      "Requirement already satisfied: google-resumable-media<3.0dev,>=1.3.0 in /opt/conda/lib/python3.7/site-packages (from google-cloud-storage) (2.1.0)\n",
      "Requirement already satisfied: six in /opt/conda/lib/python3.7/site-packages (from google-cloud-storage) (1.16.0)\n",
      "Requirement already satisfied: protobuf in /opt/conda/lib/python3.7/site-packages (from google-cloud-storage) (3.19.1)\n",
      "Requirement already satisfied: google-auth<3.0dev,>=1.25.0 in /home/jupyter/.local/lib/python3.7/site-packages (from google-cloud-storage) (1.35.0)\n",
      "Requirement already satisfied: jsonschema<4,>=3.0.1 in /home/jupyter/.local/lib/python3.7/site-packages (from kfp) (3.2.0)\n",
      "Requirement already satisfied: Deprecated<2,>=1.2.7 in /home/jupyter/.local/lib/python3.7/site-packages (from kfp) (1.2.13)\n",
      "Requirement already satisfied: google-api-python-client<2,>=1.7.8 in /home/jupyter/.local/lib/python3.7/site-packages (from kfp) (1.12.8)\n",
      "Requirement already satisfied: uritemplate<4,>=3.0.1 in /opt/conda/lib/python3.7/site-packages (from kfp) (3.0.1)\n",
      "Requirement already satisfied: fire<1,>=0.3.1 in /home/jupyter/.local/lib/python3.7/site-packages (from kfp) (0.4.0)\n",
      "Requirement already satisfied: requests-toolbelt<1,>=0.8.0 in /home/jupyter/.local/lib/python3.7/site-packages (from kfp) (0.9.1)\n",
      "Requirement already satisfied: click<9,>=7.1.2 in /opt/conda/lib/python3.7/site-packages (from kfp) (8.0.3)\n",
      "Requirement already satisfied: kfp-pipeline-spec<0.2.0,>=0.1.13 in /home/jupyter/.local/lib/python3.7/site-packages (from kfp) (0.1.13)\n",
      "Requirement already satisfied: cloudpickle<3,>=2.0.0 in /opt/conda/lib/python3.7/site-packages (from kfp) (2.0.0)\n",
      "Requirement already satisfied: typing-extensions<4,>=3.7.4 in /home/jupyter/.local/lib/python3.7/site-packages (from kfp) (3.10.0.2)\n",
      "Requirement already satisfied: kubernetes<19,>=8.0.0 in /home/jupyter/.local/lib/python3.7/site-packages (from kfp) (18.20.0)\n",
      "Requirement already satisfied: pydantic<2,>=1.8.2 in /opt/conda/lib/python3.7/site-packages (from kfp) (1.8.2)\n",
      "Requirement already satisfied: PyYAML<6,>=5.3 in /home/jupyter/.local/lib/python3.7/site-packages (from kfp) (5.4.1)\n",
      "Requirement already satisfied: kfp-server-api<2.0.0,>=1.1.2 in /home/jupyter/.local/lib/python3.7/site-packages (from kfp) (1.7.1)\n",
      "Requirement already satisfied: absl-py<=0.11,>=0.9 in /home/jupyter/.local/lib/python3.7/site-packages (from kfp) (0.11.0)\n",
      "Requirement already satisfied: strip-hints<1,>=0.1.8 in /home/jupyter/.local/lib/python3.7/site-packages (from kfp) (0.1.10)\n",
      "Requirement already satisfied: docstring-parser<1,>=0.7.3 in /home/jupyter/.local/lib/python3.7/site-packages (from kfp) (0.13)\n",
      "Requirement already satisfied: tabulate<1,>=0.8.6 in /home/jupyter/.local/lib/python3.7/site-packages (from kfp) (0.8.9)\n",
      "Requirement already satisfied: typer<1.0,>=0.3.2 in /home/jupyter/.local/lib/python3.7/site-packages (from kfp) (0.4.0)\n",
      "Requirement already satisfied: importlib-metadata in /opt/conda/lib/python3.7/site-packages (from click<9,>=7.1.2->kfp) (4.8.2)\n",
      "Requirement already satisfied: wrapt<2,>=1.10 in /opt/conda/lib/python3.7/site-packages (from Deprecated<2,>=1.2.7->kfp) (1.13.3)\n",
      "Requirement already satisfied: termcolor in /home/jupyter/.local/lib/python3.7/site-packages (from fire<1,>=0.3.1->kfp) (1.1.0)\n",
      "Requirement already satisfied: setuptools>=40.3.0 in /opt/conda/lib/python3.7/site-packages (from google-api-core[grpc]<3.0.0dev,>=1.26.0->google-cloud-aiplatform) (59.4.0)\n",
      "Requirement already satisfied: pytz in /opt/conda/lib/python3.7/site-packages (from google-api-core[grpc]<3.0.0dev,>=1.26.0->google-cloud-aiplatform) (2021.3)\n",
      "Requirement already satisfied: googleapis-common-protos<2.0dev,>=1.6.0 in /opt/conda/lib/python3.7/site-packages (from google-api-core[grpc]<3.0.0dev,>=1.26.0->google-cloud-aiplatform) (1.53.0)\n",
      "Requirement already satisfied: grpcio<2.0dev,>=1.29.0 in /opt/conda/lib/python3.7/site-packages (from google-api-core[grpc]<3.0.0dev,>=1.26.0->google-cloud-aiplatform) (1.42.0)\n",
      "Requirement already satisfied: google-auth-httplib2>=0.0.3 in /opt/conda/lib/python3.7/site-packages (from google-api-python-client<2,>=1.7.8->kfp) (0.1.0)\n",
      "Requirement already satisfied: httplib2<1dev,>=0.15.0 in /opt/conda/lib/python3.7/site-packages (from google-api-python-client<2,>=1.7.8->kfp) (0.20.2)\n",
      "Requirement already satisfied: pyasn1-modules>=0.2.1 in /opt/conda/lib/python3.7/site-packages (from google-auth<3.0dev,>=1.25.0->google-cloud-storage) (0.2.7)\n",
      "Requirement already satisfied: rsa<5,>=3.1.4 in /opt/conda/lib/python3.7/site-packages (from google-auth<3.0dev,>=1.25.0->google-cloud-storage) (4.8)\n",
      "Requirement already satisfied: cachetools<5.0,>=2.0.0 in /opt/conda/lib/python3.7/site-packages (from google-auth<3.0dev,>=1.25.0->google-cloud-storage) (4.2.4)\n",
      "Requirement already satisfied: python-dateutil<3.0dev,>=2.7.2 in /opt/conda/lib/python3.7/site-packages (from google-cloud-bigquery<3.0.0dev,>=1.15.0->google-cloud-aiplatform) (2.8.2)\n",
      "Requirement already satisfied: google-crc32c<2.0dev,>=1.0 in /opt/conda/lib/python3.7/site-packages (from google-resumable-media<3.0dev,>=1.3.0->google-cloud-storage) (1.1.2)\n",
      "Requirement already satisfied: attrs>=17.4.0 in /opt/conda/lib/python3.7/site-packages (from jsonschema<4,>=3.0.1->kfp) (21.2.0)\n",
      "Requirement already satisfied: pyrsistent>=0.14.0 in /opt/conda/lib/python3.7/site-packages (from jsonschema<4,>=3.0.1->kfp) (0.18.0)\n",
      "Requirement already satisfied: urllib3>=1.15 in /opt/conda/lib/python3.7/site-packages (from kfp-server-api<2.0.0,>=1.1.2->kfp) (1.26.7)\n",
      "Requirement already satisfied: certifi in /opt/conda/lib/python3.7/site-packages (from kfp-server-api<2.0.0,>=1.1.2->kfp) (2021.10.8)\n",
      "Requirement already satisfied: websocket-client!=0.40.0,!=0.41.*,!=0.42.*,>=0.32.0 in /opt/conda/lib/python3.7/site-packages (from kubernetes<19,>=8.0.0->kfp) (1.2.1)\n",
      "Requirement already satisfied: requests-oauthlib in /opt/conda/lib/python3.7/site-packages (from kubernetes<19,>=8.0.0->kfp) (1.3.0)\n",
      "Requirement already satisfied: pyparsing!=3.0.5,>=2.0.2 in /opt/conda/lib/python3.7/site-packages (from packaging>=14.3->google-cloud-aiplatform) (3.0.6)\n",
      "Requirement already satisfied: idna<4,>=2.5 in /opt/conda/lib/python3.7/site-packages (from requests<3.0.0dev,>=2.18.0->google-cloud-storage) (3.1)\n",
      "Requirement already satisfied: charset-normalizer~=2.0.0 in /opt/conda/lib/python3.7/site-packages (from requests<3.0.0dev,>=2.18.0->google-cloud-storage) (2.0.8)\n",
      "Requirement already satisfied: wheel in /opt/conda/lib/python3.7/site-packages (from strip-hints<1,>=0.1.8->kfp) (0.37.0)\n",
      "Requirement already satisfied: cffi>=1.0.0 in /opt/conda/lib/python3.7/site-packages (from google-crc32c<2.0dev,>=1.0->google-resumable-media<3.0dev,>=1.3.0->google-cloud-storage) (1.15.0)\n",
      "Requirement already satisfied: pyasn1<0.5.0,>=0.4.6 in /opt/conda/lib/python3.7/site-packages (from pyasn1-modules>=0.2.1->google-auth<3.0dev,>=1.25.0->google-cloud-storage) (0.4.8)\n",
      "Requirement already satisfied: zipp>=0.5 in /opt/conda/lib/python3.7/site-packages (from importlib-metadata->click<9,>=7.1.2->kfp) (3.6.0)\n",
      "Requirement already satisfied: oauthlib>=3.0.0 in /opt/conda/lib/python3.7/site-packages (from requests-oauthlib->kubernetes<19,>=8.0.0->kfp) (3.1.1)\n",
      "Requirement already satisfied: pycparser in /opt/conda/lib/python3.7/site-packages (from cffi>=1.0.0->google-crc32c<2.0dev,>=1.0->google-resumable-media<3.0dev,>=1.3.0->google-cloud-storage) (2.21)\n"
     ]
    }
   ],
   "source": [
    "! pip install google-cloud-aiplatform google-cloud-firestore google-cloud-storage kfp google-cloud-pipeline-components"
   ]
  },
  {
   "cell_type": "code",
   "execution_count": 7,
   "id": "578247a9-a1cb-4513-8b32-db24c9ec4e07",
   "metadata": {
    "tags": []
   },
   "outputs": [],
   "source": [
    "import kfp\n",
    "from google.cloud import storage\n",
    "from google.cloud import aiplatform\n",
    "from google_cloud_pipeline_components import aiplatform as gcc_aip\n",
    "from kfp.v2 import compiler\n",
    "from kfp import dsl\n",
    "from kfp.v2.dsl import component\n",
    "from kfp.v2.google.client import AIPlatformClient\n",
    "from typing import NamedTuple"
   ]
  },
  {
   "cell_type": "code",
   "execution_count": 106,
   "id": "71991176-57f9-48e4-a04a-1bbbb89fefe7",
   "metadata": {
    "tags": []
   },
   "outputs": [
    {
     "name": "stdout",
     "output_type": "stream",
     "text": [
      "fantasymaps-334622\n"
     ]
    }
   ],
   "source": [
    "from datetime import datetime\n",
    "\n",
    "PROJECT_ID = !gcloud config get-value project\n",
    "PROJECT_ID = PROJECT_ID[0]\n",
    "print(PROJECT_ID)\n",
    "\n",
    "LOCATION = \"us-central1\"\n",
    "GCS_BUCKET_NAME = \"fantasy-maps\"\n",
    "GCS_TRAINING_SOURCE = \"gs://fantasy-maps/map_training_data.jsonl\"\n",
    "PIPELINE_ROOT = f\"gs://{GCS_BUCKET_NAME}/pipeline_root\""
   ]
  },
  {
   "cell_type": "markdown",
   "id": "cfb76b40-0cf7-4157-9547-e46606d532f3",
   "metadata": {
    "tags": []
   },
   "source": [
    "## Create training metadata component\n",
    "\n",
    "Demonstration code from [here](https://github.com/GoogleCloudPlatform/vertex-ai-samples/blob/main/notebooks/official/pipelines/pipelines_intro_kfp.ipynb)."
   ]
  },
  {
   "cell_type": "code",
   "execution_count": 96,
   "id": "5efd4830-95d5-4996-9055-f8bd0fc92160",
   "metadata": {
    "tags": []
   },
   "outputs": [],
   "source": [
    "aiplatform.init(project=PROJECT_ID, staging_bucket=f\"gs://{GCS_BUCKET_NAME}\")"
   ]
  },
  {
   "cell_type": "code",
   "execution_count": 110,
   "id": "11d33d04-bebc-44ca-933a-93f37f24a15a",
   "metadata": {},
   "outputs": [
    {
     "name": "stdout",
     "output_type": "stream",
     "text": [
      "20220401222313\n"
     ]
    }
   ],
   "source": [
    "TIMESTAMP = datetime.now().strftime(\"%Y%m%d%H%M%S\")\n",
    "print(TIMESTAMP)\n",
    "\n",
    "@component(\n",
    "    output_component_file=\"metadata-from-fs.yaml\",\n",
    "    base_image=\"python:3.9\",\n",
    "    packages_to_install=[\"google-cloud-storage\", \"google-cloud-firestore\"],\n",
    ")\n",
    "def create_training_metadata_from_firestore_op(\n",
    "    collection_name: str,\n",
    "    timestamp_str: str,\n",
    "    project_id: str,\n",
    "    bucket_name: str\n",
    ") -> str:\n",
    "    from google.cloud import firestore\n",
    "    from google.cloud import storage\n",
    "    \n",
    "    gs_training_data_uri = f\"Manifests/map_training_{timestamp_str}.jsonl\"\n",
    "    \n",
    "    print(f\"Project ID: {project_id}\")\n",
    "    \n",
    "    firestore_client = firestore.Client(project=project_id)\n",
    "    collection_ref = firestore_client.collection(collection_name)\n",
    "    \n",
    "    training_data = []\n",
    "    \n",
    "    # Get all of the non-test training data from collection\n",
    "    docs = (collection_ref\n",
    "                .where(\"source\", \"==\", \"TrainingData\")\n",
    "                .select([\"gcsURI\", \"computedBBoxes\"])\n",
    "                #.limit(10)\n",
    "                .stream())\n",
    "    for doc in docs:\n",
    "        doc_dict = doc.to_dict()\n",
    "        \n",
    "        datum = {\n",
    "            \"imageGcsUri\": doc_dict[\"gcsURI\"],\n",
    "            \"boundingBoxAnnotations\": doc_dict[\"computedBBoxes\"]\n",
    "        }\n",
    "        training_data.append(datum)\n",
    "    \n",
    "    # TODO: collect user submitted and scraped data\n",
    "    \n",
    "    \n",
    "    storage_client = storage.Client(project=project_id)\n",
    "    bucket = storage_client.bucket(bucket_name)\n",
    "    \n",
    "    input_str = \"\\n\".join([str(d) for d in training_data])\n",
    "    file_blob = bucket.blob(gs_training_data_uri)\n",
    "    file_blob.upload_from_string(input_str)\n",
    "    \n",
    "    full_uri = f\"gs://{bucket_name}/{gs_training_data_uri}\"\n",
    "    \n",
    "    return full_uri"
   ]
  },
  {
   "cell_type": "code",
   "execution_count": 107,
   "id": "ec0f32b5-69d4-4784-9203-6b119169e307",
   "metadata": {},
   "outputs": [],
   "source": [
    "@dsl.pipeline(\n",
    "    name=\"training-from-firestore\",\n",
    "    description=\"Converts collection data from Firestore into training data\",\n",
    "    pipeline_root=PIPELINE_ROOT,\n",
    ")\n",
    "def pipeline(\n",
    "    collection_name: str = \"FantasyMaps\",\n",
    "    timestamp_str: str = TIMESTAMP,\n",
    "    project_id: str = PROJECT_ID,\n",
    "    bucket_name:str = GCS_BUCKET_NAME\n",
    "):\n",
    "    \"\"\"\n",
    "    manifest_uri_op = create_training_metadata_from_firestore_op(\n",
    "        collection_name, \n",
    "        timestamp_str,\n",
    "        project_id,\n",
    "        bucket_name\n",
    "    )\n",
    "    \n",
    "    manifest_uri = manifest_uri_op.output\n",
    "    \"\"\"\n",
    "    \n",
    "    manifest_uri = \"gs://fantasy-maps/Manifests/map_training_20220401212024.jsonl\"\n",
    "    project_id = \"fantasymaps-334622\"\n",
    "    \n",
    "    dataset_op = gcc_aip.ImageDatasetCreateOp(\n",
    "        project=project_id,\n",
    "        display_name=f\"fantasy-maps-max-grid-{timestamp_str}\",\n",
    "        gcs_source=manifest_uri,\n",
    "        import_schema_uri=aiplatform.schema.dataset.ioformat.image.bounding_box,\n",
    "    )\n",
    "    \n",
    "\n",
    "    training_job_online_run_op = gcc_aip.AutoMLImageTrainingJobRunOp(\n",
    "        project=project_id,\n",
    "        display_name=f\"train-fantasy-maps-online-model-{timestamp_str}\",\n",
    "        prediction_type=\"object_detection\",\n",
    "        model_type=\"CLOUD_HIGH_ACCURACY_1\",\n",
    "        base_model=None,\n",
    "        dataset=dataset_op.outputs[\"dataset\"],\n",
    "        model_display_name=f\"fantasy-maps-online-model-{timestamp_str}\",\n",
    "        training_fraction_split=0.7,\n",
    "        validation_fraction_split=0.2,\n",
    "        test_fraction_split=0.1,\n",
    "        budget_milli_node_hours=40000,\n",
    "    )\n",
    "        "
   ]
  },
  {
   "cell_type": "code",
   "execution_count": 108,
   "id": "dd74e864-f928-4874-9f66-07e88c20f99c",
   "metadata": {},
   "outputs": [],
   "source": [
    "compiler.Compiler().compile(\n",
    "    pipeline_func=pipeline, package_path=\"firestore_data.json\"\n",
    ")"
   ]
  },
  {
   "cell_type": "code",
   "execution_count": 109,
   "id": "f1c1ba23-a676-421b-9872-1d41f6eaba45",
   "metadata": {},
   "outputs": [
    {
     "name": "stdout",
     "output_type": "stream",
     "text": [
      "INFO:google.cloud.aiplatform.pipeline_jobs:Creating PipelineJob\n",
      "INFO:google.cloud.aiplatform.pipeline_jobs:PipelineJob created. Resource name: projects/733537716875/locations/us-central1/pipelineJobs/training-from-firestore-20220401220220\n",
      "INFO:google.cloud.aiplatform.pipeline_jobs:To use this PipelineJob in another session:\n",
      "INFO:google.cloud.aiplatform.pipeline_jobs:pipeline_job = aiplatform.PipelineJob.get('projects/733537716875/locations/us-central1/pipelineJobs/training-from-firestore-20220401220220')\n",
      "INFO:google.cloud.aiplatform.pipeline_jobs:View Pipeline Job:\n",
      "https://console.cloud.google.com/vertex-ai/locations/us-central1/pipelines/runs/training-from-firestore-20220401220220?project=733537716875\n",
      "INFO:google.cloud.aiplatform.pipeline_jobs:PipelineJob projects/733537716875/locations/us-central1/pipelineJobs/training-from-firestore-20220401220220 current state:\n",
      "PipelineState.PIPELINE_STATE_RUNNING\n",
      "INFO:google.cloud.aiplatform.pipeline_jobs:PipelineJob projects/733537716875/locations/us-central1/pipelineJobs/training-from-firestore-20220401220220 current state:\n",
      "PipelineState.PIPELINE_STATE_RUNNING\n",
      "INFO:google.cloud.aiplatform.pipeline_jobs:PipelineJob projects/733537716875/locations/us-central1/pipelineJobs/training-from-firestore-20220401220220 current state:\n",
      "PipelineState.PIPELINE_STATE_RUNNING\n",
      "INFO:google.cloud.aiplatform.pipeline_jobs:PipelineJob projects/733537716875/locations/us-central1/pipelineJobs/training-from-firestore-20220401220220 current state:\n",
      "PipelineState.PIPELINE_STATE_RUNNING\n"
     ]
    },
    {
     "ename": "RuntimeError",
     "evalue": "Job failed with:\ncode: 9\nmessage: \"The DAG failed because some tasks failed. The failed tasks are: [automlimagetrainingjob-run].; Job (project_id = fantasymaps-334622, job_id = 1008133415414792192) is failed due to the above error.; Failed to handle the job: {project_number = 733537716875, job_id = 1008133415414792192}\"\n",
     "output_type": "error",
     "traceback": [
      "\u001b[0;31m---------------------------------------------------------------------------\u001b[0m",
      "\u001b[0;31mRuntimeError\u001b[0m                              Traceback (most recent call last)",
      "\u001b[0;32m/tmp/ipykernel_11121/1416862753.py\u001b[0m in \u001b[0;36m<module>\u001b[0;34m\u001b[0m\n\u001b[1;32m      7\u001b[0m )\n\u001b[1;32m      8\u001b[0m \u001b[0;34m\u001b[0m\u001b[0m\n\u001b[0;32m----> 9\u001b[0;31m \u001b[0mjob\u001b[0m\u001b[0;34m.\u001b[0m\u001b[0mrun\u001b[0m\u001b[0;34m(\u001b[0m\u001b[0;34m)\u001b[0m\u001b[0;34m\u001b[0m\u001b[0;34m\u001b[0m\u001b[0m\n\u001b[0m",
      "\u001b[0;32m~/.local/lib/python3.7/site-packages/google/cloud/aiplatform/base.py\u001b[0m in \u001b[0;36mwrapper\u001b[0;34m(*args, **kwargs)\u001b[0m\n\u001b[1;32m    662\u001b[0m                 \u001b[0;32mif\u001b[0m \u001b[0mself\u001b[0m\u001b[0;34m:\u001b[0m\u001b[0;34m\u001b[0m\u001b[0;34m\u001b[0m\u001b[0m\n\u001b[1;32m    663\u001b[0m                     \u001b[0mself\u001b[0m\u001b[0;34m.\u001b[0m\u001b[0mwait\u001b[0m\u001b[0;34m(\u001b[0m\u001b[0;34m)\u001b[0m\u001b[0;34m\u001b[0m\u001b[0;34m\u001b[0m\u001b[0m\n\u001b[0;32m--> 664\u001b[0;31m                 \u001b[0;32mreturn\u001b[0m \u001b[0mmethod\u001b[0m\u001b[0;34m(\u001b[0m\u001b[0;34m*\u001b[0m\u001b[0margs\u001b[0m\u001b[0;34m,\u001b[0m \u001b[0;34m**\u001b[0m\u001b[0mkwargs\u001b[0m\u001b[0;34m)\u001b[0m\u001b[0;34m\u001b[0m\u001b[0;34m\u001b[0m\u001b[0m\n\u001b[0m\u001b[1;32m    665\u001b[0m \u001b[0;34m\u001b[0m\u001b[0m\n\u001b[1;32m    666\u001b[0m             \u001b[0;31m# callbacks to call within the Future (in same Thread)\u001b[0m\u001b[0;34m\u001b[0m\u001b[0;34m\u001b[0m\u001b[0;34m\u001b[0m\u001b[0m\n",
      "\u001b[0;32m~/.local/lib/python3.7/site-packages/google/cloud/aiplatform/pipeline_jobs.py\u001b[0m in \u001b[0;36mrun\u001b[0;34m(self, service_account, network, sync)\u001b[0m\n\u001b[1;32m    277\u001b[0m         \u001b[0m_LOGGER\u001b[0m\u001b[0;34m.\u001b[0m\u001b[0minfo\u001b[0m\u001b[0;34m(\u001b[0m\u001b[0;34m\"View Pipeline Job:\\n%s\"\u001b[0m \u001b[0;34m%\u001b[0m \u001b[0mself\u001b[0m\u001b[0;34m.\u001b[0m\u001b[0m_dashboard_uri\u001b[0m\u001b[0;34m(\u001b[0m\u001b[0;34m)\u001b[0m\u001b[0;34m)\u001b[0m\u001b[0;34m\u001b[0m\u001b[0;34m\u001b[0m\u001b[0m\n\u001b[1;32m    278\u001b[0m \u001b[0;34m\u001b[0m\u001b[0m\n\u001b[0;32m--> 279\u001b[0;31m         \u001b[0mself\u001b[0m\u001b[0;34m.\u001b[0m\u001b[0m_block_until_complete\u001b[0m\u001b[0;34m(\u001b[0m\u001b[0;34m)\u001b[0m\u001b[0;34m\u001b[0m\u001b[0;34m\u001b[0m\u001b[0m\n\u001b[0m\u001b[1;32m    280\u001b[0m \u001b[0;34m\u001b[0m\u001b[0m\n\u001b[1;32m    281\u001b[0m     \u001b[0;34m@\u001b[0m\u001b[0mproperty\u001b[0m\u001b[0;34m\u001b[0m\u001b[0;34m\u001b[0m\u001b[0m\n",
      "\u001b[0;32m~/.local/lib/python3.7/site-packages/google/cloud/aiplatform/pipeline_jobs.py\u001b[0m in \u001b[0;36m_block_until_complete\u001b[0;34m(self)\u001b[0m\n\u001b[1;32m    333\u001b[0m         \u001b[0;31m# JOB_STATE_FAILED or JOB_STATE_CANCELLED.\u001b[0m\u001b[0;34m\u001b[0m\u001b[0;34m\u001b[0m\u001b[0;34m\u001b[0m\u001b[0m\n\u001b[1;32m    334\u001b[0m         \u001b[0;32mif\u001b[0m \u001b[0mself\u001b[0m\u001b[0;34m.\u001b[0m\u001b[0m_gca_resource\u001b[0m\u001b[0;34m.\u001b[0m\u001b[0mstate\u001b[0m \u001b[0;32min\u001b[0m \u001b[0m_PIPELINE_ERROR_STATES\u001b[0m\u001b[0;34m:\u001b[0m\u001b[0;34m\u001b[0m\u001b[0;34m\u001b[0m\u001b[0m\n\u001b[0;32m--> 335\u001b[0;31m             \u001b[0;32mraise\u001b[0m \u001b[0mRuntimeError\u001b[0m\u001b[0;34m(\u001b[0m\u001b[0;34m\"Job failed with:\\n%s\"\u001b[0m \u001b[0;34m%\u001b[0m \u001b[0mself\u001b[0m\u001b[0;34m.\u001b[0m\u001b[0m_gca_resource\u001b[0m\u001b[0;34m.\u001b[0m\u001b[0merror\u001b[0m\u001b[0;34m)\u001b[0m\u001b[0;34m\u001b[0m\u001b[0;34m\u001b[0m\u001b[0m\n\u001b[0m\u001b[1;32m    336\u001b[0m         \u001b[0;32melse\u001b[0m\u001b[0;34m:\u001b[0m\u001b[0;34m\u001b[0m\u001b[0;34m\u001b[0m\u001b[0m\n\u001b[1;32m    337\u001b[0m             \u001b[0m_LOGGER\u001b[0m\u001b[0;34m.\u001b[0m\u001b[0mlog_action_completed_against_resource\u001b[0m\u001b[0;34m(\u001b[0m\u001b[0;34m\"run\"\u001b[0m\u001b[0;34m,\u001b[0m \u001b[0;34m\"completed\"\u001b[0m\u001b[0;34m,\u001b[0m \u001b[0mself\u001b[0m\u001b[0;34m)\u001b[0m\u001b[0;34m\u001b[0m\u001b[0;34m\u001b[0m\u001b[0m\n",
      "\u001b[0;31mRuntimeError\u001b[0m: Job failed with:\ncode: 9\nmessage: \"The DAG failed because some tasks failed. The failed tasks are: [automlimagetrainingjob-run].; Job (project_id = fantasymaps-334622, job_id = 1008133415414792192) is failed due to the above error.; Failed to handle the job: {project_number = 733537716875, job_id = 1008133415414792192}\"\n"
     ]
    }
   ],
   "source": [
    "DISPLAY_NAME = \"firestore_dataset_\" + TIMESTAMP\n",
    "\n",
    "job = aiplatform.PipelineJob(\n",
    "    display_name=DISPLAY_NAME,\n",
    "    template_path=\"firestore_data.json\",\n",
    "    pipeline_root=PIPELINE_ROOT,\n",
    ")\n",
    "\n",
    "job.run()"
   ]
  },
  {
   "cell_type": "markdown",
   "id": "f81a8847-376c-41e1-a9f6-b62df141e7ca",
   "metadata": {},
   "source": [
    "## Debug the pipeline code"
   ]
  },
  {
   "cell_type": "code",
   "execution_count": 46,
   "id": "7eac5794-90e5-4a53-aa0a-d56c8953fc97",
   "metadata": {
    "tags": []
   },
   "outputs": [],
   "source": [
    "project_id = PROJECT_ID\n",
    "collection_name = \"FantasyMaps\"\n",
    "bucket_name = GCS_BUCKET_NAME\n",
    "timestamp_str = TIMESTAMP\n",
    "\n",
    "\n",
    "from google.cloud import firestore\n",
    "from google.cloud import storage\n",
    "\n",
    "gs_training_data_uri = f\"Manifests/map_training_{timestamp_str}.jsonl\"\n",
    "\n",
    "firestore_client = firestore.Client(project=project_id)\n",
    "collection_ref = firestore_client.collection(collection_name)\n",
    "\n",
    "training_data = []\n",
    "\n",
    "# Get all of the non-test training data from collection\n",
    "docs = (collection_ref\n",
    "        .where(\"source\", \"==\", \"TrainingData\")\n",
    "        .select([\"gcsURI\", \"computedBBoxes\"])\n",
    "        .stream())\n",
    "for doc in docs:\n",
    "    doc_dict = doc.to_dict()\n",
    "    \n",
    "    datum = {\n",
    "        \"imageGcsUri\": doc_dict[\"gcsURI\"],\n",
    "        \"boundingBoxAnnotations\": doc_dict[\"computedBBoxes\"]\n",
    "    }\n",
    "    training_data.append(datum)\n",
    "\n",
    "storage_client = storage.Client(project=project_id)\n",
    "bucket = storage_client.bucket(bucket_name)\n",
    "\n",
    "input_str = \"\\n\".join([str(d) for d in training_data])\n",
    "file_blob = bucket.blob(gs_training_data_uri)\n",
    "file_blob.upload_from_string(input_str)\n"
   ]
  },
  {
   "cell_type": "code",
   "execution_count": null,
   "id": "863b2022-de8a-4efa-ac03-fd8c45ec315a",
   "metadata": {},
   "outputs": [],
   "source": []
  }
 ],
 "metadata": {
  "environment": {
   "kernel": "python3",
   "name": "common-cu110.m87",
   "type": "gcloud",
   "uri": "gcr.io/deeplearning-platform-release/base-cu110:m87"
  },
  "kernelspec": {
   "display_name": "Python 3",
   "language": "python",
   "name": "python3"
  },
  "language_info": {
   "codemirror_mode": {
    "name": "ipython",
    "version": 3
   },
   "file_extension": ".py",
   "mimetype": "text/x-python",
   "name": "python",
   "nbconvert_exporter": "python",
   "pygments_lexer": "ipython3",
   "version": "3.7.12"
  }
 },
 "nbformat": 4,
 "nbformat_minor": 5
}
