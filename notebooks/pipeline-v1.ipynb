{
 "cells": [
  {
   "cell_type": "markdown",
   "id": "8ddcd580-44c7-4701-9000-658512618455",
   "metadata": {},
   "source": [
    "# Training pipeline, v1"
   ]
  },
  {
   "cell_type": "markdown",
   "id": "3a43a0e4-ab57-4ea3-b505-5c78f94eeb40",
   "metadata": {
    "id": "jvm8kDS2LOKB"
   },
   "source": [
    "In this step, we will create a training pipeline that will result in gradually improved models over successive runs.\n",
    "\n",
    "1. Run batch prediction with the LKG / MVP of the online model. Batch prediction will identify cells in maps contained withinan \"input\" a GCS bucket\n",
    "\n",
    "  + Results are processed--cell coordinates are determined both in DnD format and in image training format.\n",
    "  + Maps from input are moved into a dataset GCS bucket.\n",
    "  + Contents of input maps bucket are deleted.\n",
    "\n",
    "2. Create a new dataset from the old + new (from batch predict) data.\n",
    "\n",
    "3. Train two new models: an online `CLOUD` model and a high-accuracy Edge model\n",
    "\n",
    "4. Display metrics about each model."
   ]
  },
  {
   "cell_type": "code",
   "execution_count": null,
   "id": "57babcdf-8159-48ee-8e92-5beb5ecef3e1",
   "metadata": {},
   "outputs": [],
   "source": []
  },
  {
   "cell_type": "code",
   "execution_count": null,
   "id": "eb88c757-ac57-46e1-ab7d-e685f7028119",
   "metadata": {},
   "outputs": [],
   "source": [
    "import kfp\n",
    "from google.cloud import storage\n",
    "from google.cloud import aiplatform\n",
    "from google_cloud_pipeline_components import aiplatform as gcc_aip\n",
    "from kfp.v2 import compiler\n",
    "from kfp.v2.google.client import AIPlatformClient"
   ]
  },
  {
   "cell_type": "markdown",
   "id": "74056f3e-e065-4551-891e-d2c03e43607c",
   "metadata": {},
   "source": [
    "## Create the simple image object detection pipeline\n",
    "\n",
    "This code based upon the notebook [here](https://github.com/GoogleCloudPlatform/ai-platform-samples/blob/master/ai-platform-unified/notebooks/official/pipelines/google-cloud-pipeline-components_automl_images.ipynb)."
   ]
  },
  {
   "cell_type": "code",
   "execution_count": null,
   "id": "71991176-57f9-48e4-a04a-1bbbb89fefe7",
   "metadata": {},
   "outputs": [],
   "source": [
    "from datetime import datetime\n",
    "\n",
    "PROJECT_ID = \"fantasymaps-334622\"\n",
    "LOCATION = \"us-central1\"\n",
    "GCS_BUCKET_NAME = \"fantasy-maps\"\n",
    "GCS_TRAINING_SOURCE = \"gs://fantasy-maps/map_training_data.jsonl\"\n",
    "TIMESTAMP = datetime.now().strftime(\"%Y%m%d%H%M%S\")\n",
    "PIPELINE_ROOT = f\"gs://{GCS_BUCKET_NAME}/pipeline_root\""
   ]
  },
  {
   "cell_type": "markdown",
   "id": "f956d160-4e67-4a0a-88d7-dcba1d4d5735",
   "metadata": {},
   "source": [
    "## Define the pipeline"
   ]
  },
  {
   "cell_type": "code",
   "execution_count": null,
   "id": "fd315c1e-6606-4d80-a69e-3c4f0b83173c",
   "metadata": {},
   "outputs": [],
   "source": [
    "@kfp.dsl.pipeline(name=f\"dnd-maps-training-and-deployment\")\n",
    "def pipeline(project: str = PROJECT_ID):\n",
    "    dataset_op = gcc_aip.ImageDatasetCreateOp(\n",
    "        project=project,\n",
    "        display_name=f\"dnd-maps-max-grid-{TIMESTAMP}\",\n",
    "        gcs_source=GCS_TRAINING_SOURCE,\n",
    "        import_schema_uri=aiplatform.schema.dataset.ioformat.image.bounding_box,\n",
    "    )\n",
    "\n",
    "    training_job_online_run_op = gcc_aip.AutoMLImageTrainingJobRunOp(\n",
    "        project=project,\n",
    "        display_name=f\"train-dnd-maps-full-grid-model-online-{TIMESTAMP}\",\n",
    "        prediction_type=\"object_detection\",\n",
    "        model_type=\"CLOUD_HIGH_ACCURACY_1\",\n",
    "        base_model=None,\n",
    "        dataset=dataset_op.outputs[\"dataset\"],\n",
    "        model_display_name=f\"dnd-maps-full-grid-model-online-{TIMESTAMP}\",\n",
    "        training_fraction_split=0.7,\n",
    "        validation_fraction_split=0.2,\n",
    "        test_fraction_split=0.1,\n",
    "        budget_milli_node_hours=40000,\n",
    "    )\n",
    "    \n",
    "    training_job_run_op = gcc_aip.AutoMLImageTrainingJobRunOp(\n",
    "        project=project,\n",
    "        display_name=f\"train-dnd-maps-full-grid-model-exportable-{TIMESTAMP}\",\n",
    "        prediction_type=\"object_detection\",\n",
    "        model_type=\"MOBILE_TF_HIGH_ACCURACY_1\",\n",
    "        base_model=None,\n",
    "        dataset=dataset_op.outputs[\"dataset\"],\n",
    "        model_display_name=f\"dnd-maps-full-grid-model-exportable-{TIMESTAMP}\",\n",
    "        training_fraction_split=0.7,\n",
    "        validation_fraction_split=0.2,\n",
    "        test_fraction_split=0.1,\n",
    "        budget_milli_node_hours=90000, # 100000 is the maximum for an exportable TF model\n",
    "    )\n",
    "    \n",
    "    endpoint_op = gcc_aip.ModelDeployOp(\n",
    "        project=project, model=training_job_online_run_op.outputs[\"model\"]\n",
    "    )"
   ]
  },
  {
   "cell_type": "markdown",
   "id": "19af4f69-85ad-4cdb-99ab-41b1cf7aae24",
   "metadata": {},
   "source": [
    "## Compile the pipeline and run it"
   ]
  },
  {
   "cell_type": "code",
   "execution_count": null,
   "id": "095e10d8-70d6-482f-a41a-7872c2d0bf5f",
   "metadata": {},
   "outputs": [
    {
     "name": "stderr",
     "output_type": "stream",
     "text": [
      "/home/jupyter/.local/lib/python3.7/site-packages/kfp/v2/compiler/compiler.py:1266: FutureWarning: APIs imported from the v1 namespace (e.g. kfp.dsl, kfp.components, etc) will not be supported by the v2 compiler since v2.0.0\n",
      "  category=FutureWarning,\n"
     ]
    }
   ],
   "source": [
    "from kfp.v2 import compiler  # noqa: F811\n",
    "\n",
    "compiler.Compiler().compile(\n",
    "    pipeline_func=pipeline, package_path=\"dnd_maps_pipeline.json\"\n",
    ")"
   ]
  },
  {
   "cell_type": "code",
   "execution_count": 7,
   "id": "8166dd25-07e1-4486-adfb-90b4f3aab592",
   "metadata": {},
   "outputs": [
    {
     "name": "stderr",
     "output_type": "stream",
     "text": [
      "/home/jupyter/.local/lib/python3.7/site-packages/kfp/v2/google/client/client.py:173: FutureWarning: AIPlatformClient will be deprecated in v2.0.0. Please use PipelineJob https://googleapis.dev/python/aiplatform/latest/_modules/google/cloud/aiplatform/pipeline_jobs.html in Vertex SDK. Install the SDK using \"pip install google-cloud-aiplatform\"\n",
      "  category=FutureWarning,\n"
     ]
    }
   ],
   "source": [
    "from kfp.v2.google.client import AIPlatformClient  # noqa: F811\n",
    "\n",
    "api_client = AIPlatformClient(project_id=PROJECT_ID, region=LOCATION)"
   ]
  },
  {
   "cell_type": "code",
   "execution_count": 13,
   "id": "c30a2220-fd10-4629-a3ed-d5329b3ac662",
   "metadata": {},
   "outputs": [
    {
     "data": {
      "text/html": [
       "See the Pipeline job <a href=\"https://console.cloud.google.com/vertex-ai/locations/us-central1/pipelines/runs/dnd-maps-training-and-deployment-20210916173521?project=video-erschmid\" target=\"_blank\" >here</a>."
      ],
      "text/plain": [
       "<IPython.core.display.HTML object>"
      ]
     },
     "metadata": {},
     "output_type": "display_data"
    }
   ],
   "source": [
    "response = api_client.create_run_from_job_spec(\n",
    "    \"dnd_maps_pipeline.json\",\n",
    "    pipeline_root=PIPELINE_ROOT,\n",
    "    parameter_values={\"project\": PROJECT_ID},\n",
    ")"
   ]
  },
  {
   "cell_type": "markdown",
   "id": "df4b7463-03fa-4fc1-8621-a15cd8ad998e",
   "metadata": {
    "id": "xseMtjkHNftY"
   },
   "source": [
    "## Create the simple batch prediction component\n",
    "\n",
    "Start with a simple, one-component batch prediction pipeline. First we need to create a batch prediction input file."
   ]
  },
  {
   "cell_type": "code",
   "execution_count": 146,
   "id": "b1d14c18-051e-4ab2-ab45-78cfe5bf9f35",
   "metadata": {
    "colab": {
     "base_uri": "https://localhost:8080/",
     "height": 232
    },
    "id": "yNEvOkG2Pe_O",
    "outputId": "8b47e5b7-43cd-430f-a19b-095c567e04bd"
   },
   "outputs": [
    {
     "name": "stdout",
     "output_type": "stream",
     "text": [
      "video-erschmid\n",
      "DnD-batch-predict-input\n",
      "<Bucket: video-erschmid>\n",
      "<Blob: video-erschmid, DnD-batch-predict-input/GRIDDED-The-Potato-Thief-Lovers-social.jpg, 1627076479591472>\n",
      "<Blob: video-erschmid, DnD-batch-predict-input/VTT-runeport-docks-GRID-social.jpg, 1627076480969298>\n",
      "<Blob: video-erschmid, DnD-batch-predict-input/forest-river-social-2.jpg, 1627076480173411>\n",
      "<Blob: video-erschmid, DnD-batch-predict-input/forest-tracks.jpg, 1630445535492248>\n",
      "<Blob: video-erschmid, DnD-batch-predict-input/hard-landing.jpg, 1630445447750400>\n",
      "<Blob: video-erschmid, DnD-batch-predict-input/small-cemetary.jpg, 1630445606511548>\n",
      "<Blob: video-erschmid, DnD-batch-predict-input/social-SNOW-FOREST-ROAD.jpg, 1627076480234330>\n"
     ]
    }
   ],
   "source": [
    "from google.cloud import storage\n",
    "\n",
    "storage_client = storage.Client(project=PROJECT_ID)\n",
    "\n",
    "bp_bucket_name, bp_prefix_name = batch_prediction_gcs_source.split(\"/\")[0:2]\n",
    "\n",
    "print(bp_bucket_name)\n",
    "print(bp_prefix_name)\n",
    "\n",
    "# List all of the maps in the batch prediction bucket\n",
    "maps_bucket = storage_client.bucket(bp_bucket_name)\n",
    "\n",
    "print(maps_bucket)\n",
    "items = maps_bucket.list_blobs()\n",
    "\n",
    "maps_in_bp_bucket = []\n",
    "\n",
    "for item in items:\n",
    "  if item.name.find(bp_prefix_name) > -1 and item.name.find('jpg') > -1:\n",
    "    print(item)\n",
    "    maps_in_bp_bucket.append(item.name)\n",
    "\n",
    "# Need to create the batch prediction input file\n"
   ]
  },
  {
   "cell_type": "code",
   "execution_count": null,
   "id": "6f53152a-8e95-4403-a31f-19fb0f112bc9",
   "metadata": {
    "id": "JmF6TvCMNkJb"
   },
   "outputs": [],
   "source": [
    "@kfp.dsl.pipeline(name=\"batch-prediction-data\")\n",
    "def pipeline(project: str = PROJECT_ID, model: str = model_id):\n",
    "\n",
    "    aiplatform.init(PROJECT_ID, location)\n",
    "    model = aiplatform.Model(f\"projects/{PROJECT_ID}/locations/{location}/models/{model_id}\")\n",
    "\n",
    "    batch_predict_op = gcc_aip.ModelBatchPredictOp(\n",
    "        project=project,\n",
    "        job_display_name=\"batch-prediction-data-\",\n",
    "        gcs_source=batch_prediction_gcs_source,\n",
    "        ##\n",
    "    )\n",
    "\n"
   ]
  }
 ],
 "metadata": {
  "environment": {
   "kernel": "python3",
   "name": "common-cu110.m87",
   "type": "gcloud",
   "uri": "gcr.io/deeplearning-platform-release/base-cu110:m87"
  },
  "kernelspec": {
   "display_name": "Python 3",
   "language": "python",
   "name": "python3"
  },
  "language_info": {
   "codemirror_mode": {
    "name": "ipython",
    "version": 3
   },
   "file_extension": ".py",
   "mimetype": "text/x-python",
   "name": "python",
   "nbconvert_exporter": "python",
   "pygments_lexer": "ipython3",
   "version": "3.7.12"
  }
 },
 "nbformat": 4,
 "nbformat_minor": 5
}
