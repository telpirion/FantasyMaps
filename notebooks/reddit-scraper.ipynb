{
 "cells": [
  {
   "cell_type": "markdown",
   "id": "d673b3fd",
   "metadata": {},
   "source": [
    "# Fantasy maps Reddit scraper\n",
    "\n",
    "This notebook is used to pull gridded map images from several subreddits. The images are then stored in a Google Cloud Storage bucket"
   ]
  },
  {
   "cell_type": "markdown",
   "id": "d5297fd5",
   "metadata": {},
   "source": [
    "## START HERE: Set up the GCP environment"
   ]
  },
  {
   "cell_type": "code",
   "execution_count": 4,
   "id": "202980c5",
   "metadata": {
    "collapsed": true,
    "jupyter": {
     "outputs_hidden": true
    },
    "tags": []
   },
   "outputs": [
    {
     "name": "stdout",
     "output_type": "stream",
     "text": [
      "Collecting google-cloud-secret-manager\n",
      "  Downloading google_cloud_secret_manager-2.9.2-py2.py3-none-any.whl (97 kB)\n",
      "     |████████████████████████████████| 97 kB 4.1 MB/s             \n",
      "\u001b[?25hRequirement already satisfied: google-cloud-storage in /opt/conda/lib/python3.7/site-packages (1.43.0)\n",
      "Requirement already satisfied: google-cloud-aiplatform==1.3.0 in /home/jupyter/.local/lib/python3.7/site-packages (1.3.0)\n",
      "Collecting praw\n",
      "  Downloading praw-7.5.0-py3-none-any.whl (176 kB)\n",
      "     |████████████████████████████████| 176 kB 31.8 MB/s            \n",
      "\u001b[?25hRequirement already satisfied: pandas in /opt/conda/lib/python3.7/site-packages (1.3.4)\n",
      "Requirement already satisfied: numpy in /opt/conda/lib/python3.7/site-packages (1.19.5)\n",
      "Requirement already satisfied: packaging>=14.3 in /opt/conda/lib/python3.7/site-packages (from google-cloud-aiplatform==1.3.0) (21.3)\n",
      "Requirement already satisfied: google-cloud-bigquery<3.0.0dev,>=1.15.0 in /opt/conda/lib/python3.7/site-packages (from google-cloud-aiplatform==1.3.0) (2.30.1)\n",
      "Requirement already satisfied: google-api-core[grpc]<3.0.0dev,>=1.26.0 in /home/jupyter/.local/lib/python3.7/site-packages (from google-cloud-aiplatform==1.3.0) (1.31.4)\n",
      "Requirement already satisfied: proto-plus>=1.10.1 in /opt/conda/lib/python3.7/site-packages (from google-cloud-aiplatform==1.3.0) (1.19.8)\n",
      "Requirement already satisfied: grpc-google-iam-v1<0.13dev,>=0.12.3 in /opt/conda/lib/python3.7/site-packages (from google-cloud-secret-manager) (0.12.3)\n",
      "Collecting google-api-core[grpc]<3.0.0dev,>=1.26.0\n",
      "  Downloading google_api_core-2.7.1-py3-none-any.whl (114 kB)\n",
      "     |████████████████████████████████| 114 kB 59.4 MB/s            \n",
      "\u001b[?25hRequirement already satisfied: google-auth<3.0dev,>=1.25.0 in /home/jupyter/.local/lib/python3.7/site-packages (from google-cloud-storage) (1.35.0)\n",
      "Requirement already satisfied: google-resumable-media<3.0dev,>=1.3.0 in /opt/conda/lib/python3.7/site-packages (from google-cloud-storage) (2.1.0)\n",
      "Requirement already satisfied: protobuf in /opt/conda/lib/python3.7/site-packages (from google-cloud-storage) (3.19.1)\n",
      "Requirement already satisfied: six in /opt/conda/lib/python3.7/site-packages (from google-cloud-storage) (1.16.0)\n",
      "Requirement already satisfied: requests<3.0.0dev,>=2.18.0 in /opt/conda/lib/python3.7/site-packages (from google-cloud-storage) (2.26.0)\n",
      "Requirement already satisfied: google-cloud-core<3.0dev,>=1.6.0 in /opt/conda/lib/python3.7/site-packages (from google-cloud-storage) (2.2.1)\n",
      "Collecting prawcore<3,>=2.1\n",
      "  Downloading prawcore-2.3.0-py3-none-any.whl (16 kB)\n",
      "Collecting update-checker>=0.18\n",
      "  Downloading update_checker-0.18.0-py3-none-any.whl (7.0 kB)\n",
      "Requirement already satisfied: websocket-client>=0.54.0 in /opt/conda/lib/python3.7/site-packages (from praw) (1.2.1)\n",
      "Requirement already satisfied: python-dateutil>=2.7.3 in /opt/conda/lib/python3.7/site-packages (from pandas) (2.8.2)\n",
      "Requirement already satisfied: pytz>=2017.3 in /opt/conda/lib/python3.7/site-packages (from pandas) (2021.3)\n",
      "Requirement already satisfied: setuptools>=40.3.0 in /opt/conda/lib/python3.7/site-packages (from google-api-core[grpc]<3.0.0dev,>=1.26.0->google-cloud-aiplatform==1.3.0) (59.4.0)\n",
      "Requirement already satisfied: googleapis-common-protos<2.0dev,>=1.6.0 in /opt/conda/lib/python3.7/site-packages (from google-api-core[grpc]<3.0.0dev,>=1.26.0->google-cloud-aiplatform==1.3.0) (1.53.0)\n",
      "Requirement already satisfied: grpcio<2.0dev,>=1.33.2 in /opt/conda/lib/python3.7/site-packages (from google-api-core[grpc]<3.0.0dev,>=1.26.0->google-cloud-aiplatform==1.3.0) (1.42.0)\n",
      "Requirement already satisfied: grpcio-status<2.0dev,>=1.33.2 in /opt/conda/lib/python3.7/site-packages (from google-api-core[grpc]<3.0.0dev,>=1.26.0->google-cloud-aiplatform==1.3.0) (1.42.0)\n",
      "Requirement already satisfied: pyasn1-modules>=0.2.1 in /opt/conda/lib/python3.7/site-packages (from google-auth<3.0dev,>=1.25.0->google-cloud-storage) (0.2.7)\n",
      "Requirement already satisfied: cachetools<5.0,>=2.0.0 in /opt/conda/lib/python3.7/site-packages (from google-auth<3.0dev,>=1.25.0->google-cloud-storage) (4.2.4)\n",
      "Requirement already satisfied: rsa<5,>=3.1.4 in /opt/conda/lib/python3.7/site-packages (from google-auth<3.0dev,>=1.25.0->google-cloud-storage) (4.8)\n",
      "Requirement already satisfied: google-crc32c<2.0dev,>=1.0 in /opt/conda/lib/python3.7/site-packages (from google-resumable-media<3.0dev,>=1.3.0->google-cloud-storage) (1.1.2)\n",
      "Requirement already satisfied: pyparsing!=3.0.5,>=2.0.2 in /opt/conda/lib/python3.7/site-packages (from packaging>=14.3->google-cloud-aiplatform==1.3.0) (3.0.6)\n",
      "Requirement already satisfied: charset-normalizer~=2.0.0 in /opt/conda/lib/python3.7/site-packages (from requests<3.0.0dev,>=2.18.0->google-cloud-storage) (2.0.8)\n",
      "Requirement already satisfied: idna<4,>=2.5 in /opt/conda/lib/python3.7/site-packages (from requests<3.0.0dev,>=2.18.0->google-cloud-storage) (3.1)\n",
      "Requirement already satisfied: urllib3<1.27,>=1.21.1 in /opt/conda/lib/python3.7/site-packages (from requests<3.0.0dev,>=2.18.0->google-cloud-storage) (1.26.7)\n",
      "Requirement already satisfied: certifi>=2017.4.17 in /opt/conda/lib/python3.7/site-packages (from requests<3.0.0dev,>=2.18.0->google-cloud-storage) (2021.10.8)\n",
      "Requirement already satisfied: cffi>=1.0.0 in /opt/conda/lib/python3.7/site-packages (from google-crc32c<2.0dev,>=1.0->google-resumable-media<3.0dev,>=1.3.0->google-cloud-storage) (1.15.0)\n",
      "Requirement already satisfied: pyasn1<0.5.0,>=0.4.6 in /opt/conda/lib/python3.7/site-packages (from pyasn1-modules>=0.2.1->google-auth<3.0dev,>=1.25.0->google-cloud-storage) (0.4.8)\n",
      "Requirement already satisfied: pycparser in /opt/conda/lib/python3.7/site-packages (from cffi>=1.0.0->google-crc32c<2.0dev,>=1.0->google-resumable-media<3.0dev,>=1.3.0->google-cloud-storage) (2.21)\n",
      "Installing collected packages: google-api-core, update-checker, prawcore, praw, google-cloud-secret-manager\n",
      "  Attempting uninstall: google-api-core\n",
      "    Found existing installation: google-api-core 1.31.4\n",
      "    Uninstalling google-api-core-1.31.4:\n",
      "      Successfully uninstalled google-api-core-1.31.4\n",
      "\u001b[31mERROR: pip's dependency resolver does not currently take into account all the packages that are installed. This behaviour is the source of the following dependency conflicts.\n",
      "google-cloud-pipeline-components 0.1.5 requires google-api-core<2dev,>=1.26.0, but you have google-api-core 2.7.1 which is incompatible.\n",
      "google-api-python-client 1.12.8 requires google-api-core<2dev,>=1.21.0, but you have google-api-core 2.7.1 which is incompatible.\u001b[0m\n",
      "Successfully installed google-api-core-2.7.1 google-cloud-secret-manager-2.9.2 praw-7.5.0 prawcore-2.3.0 update-checker-0.18.0\n"
     ]
    }
   ],
   "source": [
    "! pip install --user google-cloud-secret-manager google-cloud-storage google-cloud-aiplatform==1.3.0 praw pandas numpy"
   ]
  },
  {
   "cell_type": "markdown",
   "id": "24dea990",
   "metadata": {},
   "source": [
    "Set the `PROJECT_ID` variable from the environment."
   ]
  },
  {
   "cell_type": "code",
   "execution_count": 2,
   "id": "145252e1",
   "metadata": {},
   "outputs": [
    {
     "name": "stdout",
     "output_type": "stream",
     "text": [
      "fantasymaps-334622\n"
     ]
    }
   ],
   "source": [
    "import os\n",
    "\n",
    "PROJECT_ID = !gcloud config get-value project\n",
    "PROJECT_ID = PROJECT_ID[0]\n",
    "print(PROJECT_ID)\n"
   ]
  },
  {
   "cell_type": "markdown",
   "id": "6bec9580",
   "metadata": {},
   "source": [
    "## Get the Reddit API key out of Secret Manager"
   ]
  },
  {
   "cell_type": "code",
   "execution_count": 9,
   "id": "94512fb9",
   "metadata": {},
   "outputs": [
    {
     "name": "stdout",
     "output_type": "stream",
     "text": [
      "{'secret': '_XDRI2jgcVAJ6xKIWmA46yz8CZw', 'client_id': 'Z0g7xbmKNB9Mew', 'user_agent': 'script:ScrapeForNLP:v1.0 (by u/Telpirion-78)', 'user_name': 'Telpirion-78'}\n"
     ]
    }
   ],
   "source": [
    "from google.cloud import secretmanager\n",
    "import json\n",
    "\n",
    "client = secretmanager.SecretManagerServiceClient()\n",
    "\n",
    "secret_resource_name = f\"projects/{PROJECT_ID}/secrets/reddit-api-key/versions/1\"\n",
    "response = client.access_secret_version(request={\"name\": secret_resource_name})\n",
    "\n",
    "payload = response.payload.data.decode(\"UTF-8\")\n",
    "reddit_key_json = json.loads(payload)\n",
    "\n",
    "print(reddit_key_json)"
   ]
  },
  {
   "cell_type": "markdown",
   "id": "1fe8a9ea",
   "metadata": {},
   "source": [
    "## Get a batch of images from a subreddit\n",
    "\n",
    "First, connect to Reddit."
   ]
  },
  {
   "cell_type": "code",
   "execution_count": 10,
   "id": "02aff6d3",
   "metadata": {},
   "outputs": [
    {
     "name": "stdout",
     "output_type": "stream",
     "text": [
      "Reddit is in read-only mode: True\n"
     ]
    }
   ],
   "source": [
    "import praw\n",
    "import numpy as np\n",
    "import pandas as pd\n",
    "\n",
    "reddit = praw.Reddit(client_id=reddit_key_json['client_id'], \n",
    "                     client_secret=reddit_key_json['secret'],\n",
    "                     user_agent=reddit_key_json['user_agent'])\n",
    "print(f'Reddit is in read-only mode: {reddit.read_only}')"
   ]
  },
  {
   "cell_type": "markdown",
   "id": "4745b715",
   "metadata": {},
   "source": [
    "Next, download the top 1000 \"hot\" posts for one of the subreddits."
   ]
  },
  {
   "cell_type": "code",
   "execution_count": 11,
   "id": "36c8e8c6",
   "metadata": {},
   "outputs": [
    {
     "data": {
      "text/html": [
       "<div>\n",
       "<style scoped>\n",
       "    .dataframe tbody tr th:only-of-type {\n",
       "        vertical-align: middle;\n",
       "    }\n",
       "\n",
       "    .dataframe tbody tr th {\n",
       "        vertical-align: top;\n",
       "    }\n",
       "\n",
       "    .dataframe thead th {\n",
       "        text-align: right;\n",
       "    }\n",
       "</style>\n",
       "<table border=\"1\" class=\"dataframe\">\n",
       "  <thead>\n",
       "    <tr style=\"text-align: right;\">\n",
       "      <th></th>\n",
       "      <th>Title</th>\n",
       "      <th>Post</th>\n",
       "      <th>ID</th>\n",
       "      <th>URL</th>\n",
       "    </tr>\n",
       "  </thead>\n",
       "  <tbody>\n",
       "    <tr>\n",
       "      <th>0</th>\n",
       "      <td>[meta] Zero Tolerance on Shitty Behavior</td>\n",
       "      <td>Heads up folks. I have a zero tolerance policy...</td>\n",
       "      <td>fp0po8</td>\n",
       "      <td>https://www.reddit.com/r/FantasyMaps/comments/...</td>\n",
       "    </tr>\n",
       "    <tr>\n",
       "      <th>1</th>\n",
       "      <td>Sub Updates and Adjustments</td>\n",
       "      <td>Hello Everyone!\\n\\n**First, I want to thank yo...</td>\n",
       "      <td>s26g1s</td>\n",
       "      <td>https://www.reddit.com/r/FantasyMaps/comments/...</td>\n",
       "    </tr>\n",
       "    <tr>\n",
       "      <th>2</th>\n",
       "      <td>How could I improve my map?</td>\n",
       "      <td></td>\n",
       "      <td>tttznt</td>\n",
       "      <td>https://i.redd.it/rjlwtsr6vxq81.jpg</td>\n",
       "    </tr>\n",
       "    <tr>\n",
       "      <th>3</th>\n",
       "      <td>Cave Mine [40x40] [Battlemap]</td>\n",
       "      <td></td>\n",
       "      <td>ttp1dc</td>\n",
       "      <td>https://i.redd.it/qu7yexqvqwq81.jpg</td>\n",
       "    </tr>\n",
       "    <tr>\n",
       "      <th>4</th>\n",
       "      <td>Ice dungeon [40x55]</td>\n",
       "      <td></td>\n",
       "      <td>tto5f6</td>\n",
       "      <td>https://i.redd.it/pisgx1trhwq81.jpg</td>\n",
       "    </tr>\n",
       "    <tr>\n",
       "      <th>5</th>\n",
       "      <td>Chapel [32x44]</td>\n",
       "      <td></td>\n",
       "      <td>ttl8t5</td>\n",
       "      <td>https://i.redd.it/e2bw1tf4gvq81.jpg</td>\n",
       "    </tr>\n",
       "    <tr>\n",
       "      <th>6</th>\n",
       "      <td>Multiplanar battle. Ritual gone wrong.</td>\n",
       "      <td></td>\n",
       "      <td>ttsk0z</td>\n",
       "      <td>https://www.reddit.com/gallery/ttsk0z</td>\n",
       "    </tr>\n",
       "    <tr>\n",
       "      <th>7</th>\n",
       "      <td>World Map of El'kora (No Markers, Free to Cust...</td>\n",
       "      <td></td>\n",
       "      <td>tts2mv</td>\n",
       "      <td>https://www.reddit.com/gallery/tts2mv</td>\n",
       "    </tr>\n",
       "    <tr>\n",
       "      <th>8</th>\n",
       "      <td>Adding more adventure features to my hexagons</td>\n",
       "      <td></td>\n",
       "      <td>ttnymu</td>\n",
       "      <td>https://i.redd.it/p6ti380qfwq81.png</td>\n",
       "    </tr>\n",
       "    <tr>\n",
       "      <th>9</th>\n",
       "      <td>A map I've been working on for a little bit! s...</td>\n",
       "      <td></td>\n",
       "      <td>tty9yl</td>\n",
       "      <td>https://i.redd.it/n6zura2rqyq81.png</td>\n",
       "    </tr>\n",
       "  </tbody>\n",
       "</table>\n",
       "</div>"
      ],
      "text/plain": [
       "                                               Title  \\\n",
       "0           [meta] Zero Tolerance on Shitty Behavior   \n",
       "1                        Sub Updates and Adjustments   \n",
       "2                        How could I improve my map?   \n",
       "3                      Cave Mine [40x40] [Battlemap]   \n",
       "4                                Ice dungeon [40x55]   \n",
       "5                                     Chapel [32x44]   \n",
       "6             Multiplanar battle. Ritual gone wrong.   \n",
       "7  World Map of El'kora (No Markers, Free to Cust...   \n",
       "8      Adding more adventure features to my hexagons   \n",
       "9  A map I've been working on for a little bit! s...   \n",
       "\n",
       "                                                Post      ID  \\\n",
       "0  Heads up folks. I have a zero tolerance policy...  fp0po8   \n",
       "1  Hello Everyone!\\n\\n**First, I want to thank yo...  s26g1s   \n",
       "2                                                     tttznt   \n",
       "3                                                     ttp1dc   \n",
       "4                                                     tto5f6   \n",
       "5                                                     ttl8t5   \n",
       "6                                                     ttsk0z   \n",
       "7                                                     tts2mv   \n",
       "8                                                     ttnymu   \n",
       "9                                                     tty9yl   \n",
       "\n",
       "                                                 URL  \n",
       "0  https://www.reddit.com/r/FantasyMaps/comments/...  \n",
       "1  https://www.reddit.com/r/FantasyMaps/comments/...  \n",
       "2                https://i.redd.it/rjlwtsr6vxq81.jpg  \n",
       "3                https://i.redd.it/qu7yexqvqwq81.jpg  \n",
       "4                https://i.redd.it/pisgx1trhwq81.jpg  \n",
       "5                https://i.redd.it/e2bw1tf4gvq81.jpg  \n",
       "6              https://www.reddit.com/gallery/ttsk0z  \n",
       "7              https://www.reddit.com/gallery/tts2mv  \n",
       "8                https://i.redd.it/p6ti380qfwq81.png  \n",
       "9                https://i.redd.it/n6zura2rqyq81.png  "
      ]
     },
     "execution_count": 11,
     "metadata": {},
     "output_type": "execute_result"
    }
   ],
   "source": [
    "nan_value = float(\"NaN\")\n",
    "subreddit_name = 'fantasymaps'\n",
    "posts = reddit.subreddit(subreddit_name).hot(limit=1000)\n",
    "\n",
    "filtered_posts = [[s.title, s.selftext, s.id, s.url] for s in posts]\n",
    "filtered_posts = np.array(filtered_posts)\n",
    "reddit_posts_df = pd.DataFrame(filtered_posts,\n",
    "                               columns=['Title', 'Post', 'ID', 'URL'])\n",
    "\n",
    "reddit_posts_df.head(10)"
   ]
  },
  {
   "cell_type": "markdown",
   "id": "4b3cd067",
   "metadata": {},
   "source": [
    "Filter for only posts that contain JPG images."
   ]
  },
  {
   "cell_type": "code",
   "execution_count": 12,
   "id": "0d6f6764",
   "metadata": {},
   "outputs": [
    {
     "data": {
      "text/html": [
       "<div>\n",
       "<style scoped>\n",
       "    .dataframe tbody tr th:only-of-type {\n",
       "        vertical-align: middle;\n",
       "    }\n",
       "\n",
       "    .dataframe tbody tr th {\n",
       "        vertical-align: top;\n",
       "    }\n",
       "\n",
       "    .dataframe thead th {\n",
       "        text-align: right;\n",
       "    }\n",
       "</style>\n",
       "<table border=\"1\" class=\"dataframe\">\n",
       "  <thead>\n",
       "    <tr style=\"text-align: right;\">\n",
       "      <th></th>\n",
       "      <th>Title</th>\n",
       "      <th>Post</th>\n",
       "      <th>ID</th>\n",
       "      <th>URL</th>\n",
       "    </tr>\n",
       "  </thead>\n",
       "  <tbody>\n",
       "    <tr>\n",
       "      <th>2</th>\n",
       "      <td>How could I improve my map?</td>\n",
       "      <td></td>\n",
       "      <td>tttznt</td>\n",
       "      <td>https://i.redd.it/rjlwtsr6vxq81.jpg</td>\n",
       "    </tr>\n",
       "    <tr>\n",
       "      <th>3</th>\n",
       "      <td>Cave Mine [40x40] [Battlemap]</td>\n",
       "      <td></td>\n",
       "      <td>ttp1dc</td>\n",
       "      <td>https://i.redd.it/qu7yexqvqwq81.jpg</td>\n",
       "    </tr>\n",
       "    <tr>\n",
       "      <th>4</th>\n",
       "      <td>Ice dungeon [40x55]</td>\n",
       "      <td></td>\n",
       "      <td>tto5f6</td>\n",
       "      <td>https://i.redd.it/pisgx1trhwq81.jpg</td>\n",
       "    </tr>\n",
       "    <tr>\n",
       "      <th>5</th>\n",
       "      <td>Chapel [32x44]</td>\n",
       "      <td></td>\n",
       "      <td>ttl8t5</td>\n",
       "      <td>https://i.redd.it/e2bw1tf4gvq81.jpg</td>\n",
       "    </tr>\n",
       "    <tr>\n",
       "      <th>10</th>\n",
       "      <td>[Battlemap] Moonlit Giant Throne Room (36x50)</td>\n",
       "      <td></td>\n",
       "      <td>tu1esg</td>\n",
       "      <td>https://i.redd.it/nh9nwinkezq81.jpg</td>\n",
       "    </tr>\n",
       "    <tr>\n",
       "      <th>11</th>\n",
       "      <td>I hear this sub likes watermarks [30x30]</td>\n",
       "      <td></td>\n",
       "      <td>ttny8f</td>\n",
       "      <td>https://i.imgur.com/L7OJQXU.jpg</td>\n",
       "    </tr>\n",
       "    <tr>\n",
       "      <th>12</th>\n",
       "      <td>Trenches [Battlemap][3072x3072px]</td>\n",
       "      <td></td>\n",
       "      <td>ttuag2</td>\n",
       "      <td>https://i.redd.it/u7ffum0hxxq81.jpg</td>\n",
       "    </tr>\n",
       "    <tr>\n",
       "      <th>13</th>\n",
       "      <td>A city fit for a Pirate King! Shipwreck City [...</td>\n",
       "      <td></td>\n",
       "      <td>tt5hfu</td>\n",
       "      <td>https://i.redd.it/raq29tp2crq81.jpg</td>\n",
       "    </tr>\n",
       "    <tr>\n",
       "      <th>14</th>\n",
       "      <td>[2100x3780] [30x54] Dragon Meeting Temple [Bat...</td>\n",
       "      <td></td>\n",
       "      <td>ttwrrj</td>\n",
       "      <td>https://i.redd.it/9q8a8rkifyq81.jpg</td>\n",
       "    </tr>\n",
       "    <tr>\n",
       "      <th>17</th>\n",
       "      <td>[25x35] Acient Ruins [Forest][Battlemap][Ruins]</td>\n",
       "      <td></td>\n",
       "      <td>tsz644</td>\n",
       "      <td>https://i.redd.it/b9t0vo9uupq81.jpg</td>\n",
       "    </tr>\n",
       "  </tbody>\n",
       "</table>\n",
       "</div>"
      ],
      "text/plain": [
       "                                                Title Post      ID  \\\n",
       "2                         How could I improve my map?       tttznt   \n",
       "3                       Cave Mine [40x40] [Battlemap]       ttp1dc   \n",
       "4                                 Ice dungeon [40x55]       tto5f6   \n",
       "5                                      Chapel [32x44]       ttl8t5   \n",
       "10      [Battlemap] Moonlit Giant Throne Room (36x50)       tu1esg   \n",
       "11           I hear this sub likes watermarks [30x30]       ttny8f   \n",
       "12                  Trenches [Battlemap][3072x3072px]       ttuag2   \n",
       "13  A city fit for a Pirate King! Shipwreck City [...       tt5hfu   \n",
       "14  [2100x3780] [30x54] Dragon Meeting Temple [Bat...       ttwrrj   \n",
       "17    [25x35] Acient Ruins [Forest][Battlemap][Ruins]       tsz644   \n",
       "\n",
       "                                    URL  \n",
       "2   https://i.redd.it/rjlwtsr6vxq81.jpg  \n",
       "3   https://i.redd.it/qu7yexqvqwq81.jpg  \n",
       "4   https://i.redd.it/pisgx1trhwq81.jpg  \n",
       "5   https://i.redd.it/e2bw1tf4gvq81.jpg  \n",
       "10  https://i.redd.it/nh9nwinkezq81.jpg  \n",
       "11      https://i.imgur.com/L7OJQXU.jpg  \n",
       "12  https://i.redd.it/u7ffum0hxxq81.jpg  \n",
       "13  https://i.redd.it/raq29tp2crq81.jpg  \n",
       "14  https://i.redd.it/9q8a8rkifyq81.jpg  \n",
       "17  https://i.redd.it/b9t0vo9uupq81.jpg  "
      ]
     },
     "execution_count": 12,
     "metadata": {},
     "output_type": "execute_result"
    }
   ],
   "source": [
    "jpg_df = reddit_posts_df.loc[reddit_posts_df[\"URL\"].str.contains(\"jpg\")]\n",
    "jpg_df.head(10)\n",
    "#print(jpg_df.shape)"
   ]
  },
  {
   "cell_type": "markdown",
   "id": "700fbe47",
   "metadata": {},
   "source": [
    "Download just the first image as a test"
   ]
  },
  {
   "cell_type": "code",
   "execution_count": 13,
   "id": "961eba1f",
   "metadata": {},
   "outputs": [
    {
     "name": "stdout",
     "output_type": "stream",
     "text": [
      "https://i.redd.it/rjlwtsr6vxq81.jpg\n",
      "how_could_i_improve_my_map?\n"
     ]
    }
   ],
   "source": [
    "import os\n",
    "import re\n",
    "import requests\n",
    "import shutil\n",
    "\n",
    "regex = \"[\\s|\\(|\\\"|\\)]\"\n",
    "\n",
    "test_image = jpg_df.head(1).URL.item()\n",
    "#test_file_name = jpg_df.head(1).Title.item().replace(\" \", \"_\").lower() + \".jpg\"\n",
    "test_file_name = jpg_df.head(1).Title.item()\n",
    "test_file_name = re.sub(regex, \"_\", test_file_name)\n",
    "test_file_name = test_file_name.lower()[:100]\n",
    "\n",
    "print(test_image)\n",
    "print(test_file_name)"
   ]
  },
  {
   "cell_type": "code",
   "execution_count": 14,
   "id": "630043f9",
   "metadata": {},
   "outputs": [],
   "source": [
    "r = requests.get(test_image, stream=True)\n",
    "if r.status_code == 200:\n",
    "    r.raw.decode_content = True\n",
    "    with open(test_file_name, 'wb') as f:\n",
    "        shutil.copyfileobj(r.raw, f)"
   ]
  },
  {
   "cell_type": "code",
   "execution_count": 15,
   "id": "28ec5181",
   "metadata": {},
   "outputs": [],
   "source": [
    "def make_nice_filename(name):\n",
    "    \"\"\"Create a nice file name.\n",
    "    TODO(telpirion):\n",
    "       + Condense multiple underscores to single underscores\n",
    "       + Reduce maximum filename length to 30 char\n",
    "       + Add brackets [] to regex\n",
    "    \"\"\"\n",
    "    regex = \"[\\s|\\(|\\\"|\\)]\"\n",
    "    new_name = re.sub(regex, \"_\", name)\n",
    "    new_name = new_name.lower()[:30]\n",
    "    return f\"{new_name}.jpg\""
   ]
  },
  {
   "cell_type": "markdown",
   "id": "2589c965",
   "metadata": {},
   "source": [
    "Download first 50 images and put them into a local directory."
   ]
  },
  {
   "cell_type": "code",
   "execution_count": 16,
   "id": "f3844e20",
   "metadata": {},
   "outputs": [],
   "source": [
    "local_reddit_data_dir = \"reddit_maps_data\"\n",
    "\n",
    "if not os.path.exists(local_reddit_data_dir):\n",
    "    os.mkdir(local_reddit_data_dir)\n",
    "    \n",
    "for index, row, in jpg_df.head(50).iterrows():\n",
    "    image_url = row[\"URL\"]\n",
    "    image_filename = make_nice_filename(row[\"Title\"])\n",
    "    \n",
    "    r = requests.get(image_url, stream=True)\n",
    "    if (r.status_code == 200):\n",
    "        r.raw.decode_content = True\n",
    "        with open(f\"{local_reddit_data_dir}/{image_filename}\", \"wb\") as f:\n",
    "            shutil.copyfileobj(r.raw, f)"
   ]
  },
  {
   "cell_type": "markdown",
   "id": "97520ff4",
   "metadata": {},
   "source": [
    "## Review downloaded images for prediction\n",
    "\n",
    "The images downloaded from Reddit contain a mix of gridded images and ungridded images. Unfortunately, the easiest way to determine which are gridded (and which aren't) is through manual inspection.\n",
    "\n",
    "The \"image_reviewer.ipynb\" notebook can be used to review images. Once the set of images to use for batch prediction are ready, create a list of the images to upload."
   ]
  },
  {
   "cell_type": "code",
   "execution_count": 119,
   "id": "03784265",
   "metadata": {},
   "outputs": [
    {
     "name": "stdout",
     "output_type": "stream",
     "text": [
      "['reddit_maps_data/48__x_48__text_to_map_prototype_of_a_jungle_road_&_camp.jpg', 'reddit_maps_data/[22x17]_wild_rapids_[battlemap.jpg', 'reddit_maps_data/[24x36]_teleporter_portals_[fo.jpg', 'reddit_maps_data/[25_x_41]_[6000_x_10000px]_fey.jpg', 'reddit_maps_data/[25x30]_nest_[cave][battlemap].jpg', 'reddit_maps_data/[26x39]_fireflies_at_the_cross.jpg', 'reddit_maps_data/[36x30]_desert_oasis_battlemap.jpg', 'reddit_maps_data/[battlemap][30x30][2160x2160px.jpg', 'reddit_maps_data/[battlemap]_the_hanging_tree_[.jpg', 'reddit_maps_data/[battlemap]_the_river_--_[oc]_.jpg', 'reddit_maps_data/[battlemap]_town_infirmary_[25.jpg', 'reddit_maps_data/[battlemap]_underwater_temple_.jpg', \"reddit_maps_data/[oc]_airship's_crash_site_[32x.jpg\", 'reddit_maps_data/[oc]_red_rocks_[battlemap][53x.jpg', 'reddit_maps_data/[oc]_rocky_ruins_[battlemap][4.jpg', \"reddit_maps_data/airship's_crash_site_[32x46][desert].jpg\", 'reddit_maps_data/city_drawbridge_[32x44].jpg', 'reddit_maps_data/city_port_docks_[55x40][oc][ba.jpg', 'reddit_maps_data/desert_oasis_bazaar_battlemap_.jpg', 'reddit_maps_data/desert_oasis_town_battlemap_[3.jpg', 'reddit_maps_data/free_map_friday_from_grim_pres.jpg', 'reddit_maps_data/gridlock_vault_[part_03]_[33x20].jpg', 'reddit_maps_data/halls_of_the_spider_queen_[bat.jpg', 'reddit_maps_data/just_a_small_clearing_filled_with_the_energies_of_a_long-forgotten_water_goddess_[oc][art][battle_ma.jpg', 'reddit_maps_data/mountain_outpost_[battlemap][oc][22x33][1540x2310].jpg', 'reddit_maps_data/tartarus_facility_-_03_[31x31].jpg', 'reddit_maps_data/this_is_my_first_battle_map._let_me_know_what_you_think!.jpg', 'reddit_maps_data/tomb_bridge_[art][battlemap][3.jpg', 'reddit_maps_data/tunnel_cave.jpg', 'reddit_maps_data/what_do_you_mean?_did_you_pay_30_gold_for_a_bridge?_what_bridge_costs_30_gold?_small__bridge__encoun.jpg']\n"
     ]
    }
   ],
   "source": [
    "\"\"\"\n",
    "gridded_images = [\n",
    "    \"reddit_maps_data/[oc]_rocky_ruins_battlemap[48x48].jpg\",\n",
    "    \"reddit_maps_data/48__x_48__text_to_map_prototype_of_a_jungle_road_&_camp.jpg\",\n",
    "    \"reddit_maps_data/airship's_crash_site_[32x46][desert].jpg\",\n",
    "    \"reddit_maps_data/canal_city_battle_map_30x30.jpg\",\n",
    "    \"reddit_maps_data/city_drawbridge_[32x44].jpg\",\n",
    "    \"reddit_maps_data/crypt_of_the_hellriders.jpg\",\n",
    "    \"reddit_maps_data/desert_oasis_town_battlemap_[36x30].jpg\",\n",
    "    \"reddit_maps_data/gridlock_vault_[part_03]_[33x20].jpg\",\n",
    "    \"reddit_maps_data/just_a_small_clearing_filled_with_the_energies_of_a_long-forgotten_water_goddess_[oc][art][battle_ma.jpg\",\n",
    "    \"reddit_maps_data/mountain_outpost_[battlemap][oc][22x33][1540x2310].jpg\",\n",
    "    \"reddit_maps_data/nest_[25x30].jpg\",\n",
    "    \"reddit_maps_data/tunnel_cave.jpg\",\n",
    "    \"reddit_maps_data/what_do_you_mean?_did_you_pay_30_gold_for_a_bridge?_what_bridge_costs_30_gold?_small__bridge__encoun.jpg\",\n",
    "]\n",
    "\"\"\"\n",
    "\n",
    "dataset_files = [f for d, o, f in os.walk('reddit_maps_data')]\n",
    "dataset_files = dataset_files[0]\n",
    "dataset_files = sorted(dataset_files)\n",
    "\n",
    "#print(dataset_files)\n",
    "\n",
    "gridded_images = [f\"reddit_maps_data/{i}\" for i in dataset_files]\n",
    "print(gridded_images)"
   ]
  },
  {
   "cell_type": "markdown",
   "id": "5ce39e85",
   "metadata": {},
   "source": [
    "## Create the batch prediction job"
   ]
  },
  {
   "cell_type": "code",
   "execution_count": 120,
   "id": "8d22a872",
   "metadata": {
    "colab": {
     "base_uri": "https://localhost:8080/"
    },
    "id": "qyUD66u0dB4o",
    "outputId": "5a8af756-88af-4558-b79a-c13808a063d0"
   },
   "outputs": [
    {
     "name": "stdout",
     "output_type": "stream",
     "text": [
      "video-erschmid\n",
      "video-erschmid\n",
      "DnD-batch-predict-input/20211005225454/batch-prediction-input.jsonl\n"
     ]
    }
   ],
   "source": [
    "import os\n",
    "from datetime import datetime\n",
    "\n",
    "from google.cloud import aiplatform as aip\n",
    "from google.cloud import storage\n",
    "\n",
    "aip.init(project=PROJECT_ID, location=\"us-central1\")\n",
    "storage_client = storage.Client(project=PROJECT_ID)\n",
    "\n",
    "TIMESTAMP = datetime.now().strftime(\"%Y%m%d%H%M%S\")\n",
    "BATCH_PREDICTION_BUCKET = \"video-erschmid\"\n",
    "BATCH_PREDICTION_PREFIX = f\"DnD-batch-predict-input/{TIMESTAMP}\"\n",
    "BATCH_PREDICTION_URI = f\"gs://{BATCH_PREDICTION_BUCKET}/{BATCH_PREDICTION_PREFIX}\"\n",
    "MODEL_ID = \"5982671465147793408\"\n",
    "\n",
    "os.environ['GOOGLE_CLOUD_PROJECT'] = PROJECT_ID\n",
    "input_file_uri = f\"{BATCH_PREDICTION_PREFIX}/batch-prediction-input.jsonl\"\n",
    "\n",
    "print(BATCH_PREDICTION_BUCKET)\n",
    "print(PROJECT_ID)\n",
    "print(input_file_uri)"
   ]
  },
  {
   "cell_type": "markdown",
   "id": "4db8138c",
   "metadata": {},
   "source": [
    "### Upload local files up to the bucket"
   ]
  },
  {
   "cell_type": "code",
   "execution_count": 121,
   "id": "23256102",
   "metadata": {},
   "outputs": [
    {
     "name": "stdout",
     "output_type": "stream",
     "text": [
      "48__x_48__text_to_map_prototype_of_a_jungle_road_&_camp.jpg\n",
      "[22x17]_wild_rapids_[battlemap.jpg\n",
      "[24x36]_teleporter_portals_[fo.jpg\n",
      "[25_x_41]_[6000_x_10000px]_fey.jpg\n",
      "[25x30]_nest_[cave][battlemap].jpg\n",
      "[26x39]_fireflies_at_the_cross.jpg\n",
      "[36x30]_desert_oasis_battlemap.jpg\n",
      "[battlemap][30x30][2160x2160px.jpg\n",
      "[battlemap]_the_hanging_tree_[.jpg\n",
      "[battlemap]_the_river_--_[oc]_.jpg\n",
      "[battlemap]_town_infirmary_[25.jpg\n",
      "[battlemap]_underwater_temple_.jpg\n",
      "[oc]_airship's_crash_site_[32x.jpg\n",
      "[oc]_red_rocks_[battlemap][53x.jpg\n",
      "[oc]_rocky_ruins_[battlemap][4.jpg\n",
      "airship's_crash_site_[32x46][desert].jpg\n",
      "city_drawbridge_[32x44].jpg\n",
      "city_port_docks_[55x40][oc][ba.jpg\n",
      "desert_oasis_bazaar_battlemap_.jpg\n",
      "desert_oasis_town_battlemap_[3.jpg\n",
      "free_map_friday_from_grim_pres.jpg\n",
      "gridlock_vault_[part_03]_[33x20].jpg\n",
      "halls_of_the_spider_queen_[bat.jpg\n",
      "just_a_small_clearing_filled_with_the_energies_of_a_long-forgotten_water_goddess_[oc][art][battle_ma.jpg\n",
      "mountain_outpost_[battlemap][oc][22x33][1540x2310].jpg\n",
      "tartarus_facility_-_03_[31x31].jpg\n",
      "this_is_my_first_battle_map._let_me_know_what_you_think!.jpg\n",
      "tomb_bridge_[art][battlemap][3.jpg\n",
      "tunnel_cave.jpg\n",
      "what_do_you_mean?_did_you_pay_30_gold_for_a_bridge?_what_bridge_costs_30_gold?_small__bridge__encoun.jpg\n"
     ]
    }
   ],
   "source": [
    "bucket = storage_client.bucket(BATCH_PREDICTION_BUCKET)\n",
    "\n",
    "for gridded_image in gridded_images:\n",
    "    filename = gridded_image.split(\"/\")[-1]\n",
    "    print(filename)\n",
    "    file_blob = bucket.blob(f\"{BATCH_PREDICTION_PREFIX}/{filename}\")\n",
    "    file_blob.upload_from_filename(gridded_image)"
   ]
  },
  {
   "cell_type": "markdown",
   "id": "fea28cda",
   "metadata": {},
   "source": [
    "### Create the batch prediction input file"
   ]
  },
  {
   "cell_type": "code",
   "execution_count": 122,
   "id": "c1b157e5",
   "metadata": {},
   "outputs": [
    {
     "name": "stdout",
     "output_type": "stream",
     "text": [
      "DnD-batch-predict-input/20211005225454/48__x_48__text_to_map_prototype_of_a_jungle_road_&_camp.jpg\n",
      "DnD-batch-predict-input/20211005225454/[22x17]_wild_rapids_[battlemap.jpg\n",
      "DnD-batch-predict-input/20211005225454/[24x36]_teleporter_portals_[fo.jpg\n",
      "DnD-batch-predict-input/20211005225454/[25_x_41]_[6000_x_10000px]_fey.jpg\n",
      "DnD-batch-predict-input/20211005225454/[25x30]_nest_[cave][battlemap].jpg\n",
      "DnD-batch-predict-input/20211005225454/[26x39]_fireflies_at_the_cross.jpg\n",
      "DnD-batch-predict-input/20211005225454/[36x30]_desert_oasis_battlemap.jpg\n",
      "DnD-batch-predict-input/20211005225454/[battlemap][30x30][2160x2160px.jpg\n",
      "DnD-batch-predict-input/20211005225454/[battlemap]_the_hanging_tree_[.jpg\n",
      "DnD-batch-predict-input/20211005225454/[battlemap]_the_river_--_[oc]_.jpg\n",
      "DnD-batch-predict-input/20211005225454/[battlemap]_town_infirmary_[25.jpg\n",
      "DnD-batch-predict-input/20211005225454/[battlemap]_underwater_temple_.jpg\n",
      "DnD-batch-predict-input/20211005225454/[oc]_airship's_crash_site_[32x.jpg\n",
      "DnD-batch-predict-input/20211005225454/[oc]_red_rocks_[battlemap][53x.jpg\n",
      "DnD-batch-predict-input/20211005225454/[oc]_rocky_ruins_[battlemap][4.jpg\n",
      "DnD-batch-predict-input/20211005225454/airship's_crash_site_[32x46][desert].jpg\n",
      "DnD-batch-predict-input/20211005225454/city_drawbridge_[32x44].jpg\n",
      "DnD-batch-predict-input/20211005225454/city_port_docks_[55x40][oc][ba.jpg\n",
      "DnD-batch-predict-input/20211005225454/desert_oasis_bazaar_battlemap_.jpg\n",
      "DnD-batch-predict-input/20211005225454/desert_oasis_town_battlemap_[3.jpg\n",
      "DnD-batch-predict-input/20211005225454/free_map_friday_from_grim_pres.jpg\n",
      "DnD-batch-predict-input/20211005225454/gridlock_vault_[part_03]_[33x20].jpg\n",
      "DnD-batch-predict-input/20211005225454/halls_of_the_spider_queen_[bat.jpg\n",
      "DnD-batch-predict-input/20211005225454/just_a_small_clearing_filled_with_the_energies_of_a_long-forgotten_water_goddess_[oc][art][battle_ma.jpg\n",
      "DnD-batch-predict-input/20211005225454/mountain_outpost_[battlemap][oc][22x33][1540x2310].jpg\n",
      "DnD-batch-predict-input/20211005225454/tartarus_facility_-_03_[31x31].jpg\n",
      "DnD-batch-predict-input/20211005225454/this_is_my_first_battle_map._let_me_know_what_you_think!.jpg\n",
      "DnD-batch-predict-input/20211005225454/tomb_bridge_[art][battlemap][3.jpg\n",
      "DnD-batch-predict-input/20211005225454/tunnel_cave.jpg\n",
      "DnD-batch-predict-input/20211005225454/what_do_you_mean?_did_you_pay_30_gold_for_a_bridge?_what_bridge_costs_30_gold?_small__bridge__encoun.jpg\n"
     ]
    }
   ],
   "source": [
    "blobs = bucket.list_blobs()\n",
    "input_file_data = []\n",
    "\n",
    "for blob in blobs:\n",
    "  if ((blob.name.find(str(TIMESTAMP)) > -1) and\n",
    "      (blob.name.find(\"jpg\") > -1)):\n",
    "    print(blob.name)\n",
    "\n",
    "    # Add the data to store in the JSONL input file.\n",
    "    tmp_data = {\"content\": f\"gs://{BATCH_PREDICTION_BUCKET}/{blob.name}\", \"mimeType\": \"image/jpeg\"}\n",
    "    input_file_data.append(tmp_data)\n",
    "\n",
    "input_str = \"\\n\".join([str(d) for d in input_file_data])\n",
    "file_blob = bucket.blob(input_file_uri)\n",
    "file_blob.upload_from_string(input_str)"
   ]
  },
  {
   "cell_type": "markdown",
   "id": "9750a6e7",
   "metadata": {},
   "source": [
    "### Create the batch prediction job"
   ]
  },
  {
   "cell_type": "code",
   "execution_count": 123,
   "id": "17733e02",
   "metadata": {
    "colab": {
     "base_uri": "https://localhost:8080/"
    },
    "id": "u7R2eiQxs2Y4",
    "outputId": "d111417e-5e2f-4cd1-e094-9e292acf5490"
   },
   "outputs": [
    {
     "name": "stdout",
     "output_type": "stream",
     "text": [
      "INFO:google.cloud.aiplatform.jobs:Creating BatchPredictionJob\n",
      "INFO:google.cloud.aiplatform.jobs:BatchPredictionJob created. Resource name: projects/147301782967/locations/us-central1/batchPredictionJobs/9196449395137052672\n",
      "INFO:google.cloud.aiplatform.jobs:To use this BatchPredictionJob in another session:\n",
      "INFO:google.cloud.aiplatform.jobs:bpj = aiplatform.BatchPredictionJob('projects/147301782967/locations/us-central1/batchPredictionJobs/9196449395137052672')\n",
      "INFO:google.cloud.aiplatform.jobs:View Batch Prediction Job:\n",
      "https://console.cloud.google.com/ai/platform/locations/us-central1/batch-predictions/9196449395137052672?project=147301782967\n",
      "INFO:google.cloud.aiplatform.jobs:BatchPredictionJob projects/147301782967/locations/us-central1/batchPredictionJobs/9196449395137052672 current state:\n",
      "JobState.JOB_STATE_RUNNING\n",
      "INFO:google.cloud.aiplatform.jobs:BatchPredictionJob projects/147301782967/locations/us-central1/batchPredictionJobs/9196449395137052672 current state:\n",
      "JobState.JOB_STATE_RUNNING\n",
      "INFO:google.cloud.aiplatform.jobs:BatchPredictionJob projects/147301782967/locations/us-central1/batchPredictionJobs/9196449395137052672 current state:\n",
      "JobState.JOB_STATE_RUNNING\n",
      "INFO:google.cloud.aiplatform.jobs:BatchPredictionJob projects/147301782967/locations/us-central1/batchPredictionJobs/9196449395137052672 current state:\n",
      "JobState.JOB_STATE_RUNNING\n",
      "INFO:google.cloud.aiplatform.jobs:BatchPredictionJob projects/147301782967/locations/us-central1/batchPredictionJobs/9196449395137052672 current state:\n",
      "JobState.JOB_STATE_RUNNING\n",
      "INFO:google.cloud.aiplatform.jobs:BatchPredictionJob projects/147301782967/locations/us-central1/batchPredictionJobs/9196449395137052672 current state:\n",
      "JobState.JOB_STATE_RUNNING\n",
      "INFO:google.cloud.aiplatform.jobs:BatchPredictionJob projects/147301782967/locations/us-central1/batchPredictionJobs/9196449395137052672 current state:\n",
      "JobState.JOB_STATE_RUNNING\n",
      "INFO:google.cloud.aiplatform.jobs:BatchPredictionJob projects/147301782967/locations/us-central1/batchPredictionJobs/9196449395137052672 current state:\n",
      "JobState.JOB_STATE_RUNNING\n",
      "INFO:google.cloud.aiplatform.jobs:BatchPredictionJob projects/147301782967/locations/us-central1/batchPredictionJobs/9196449395137052672 current state:\n",
      "JobState.JOB_STATE_SUCCEEDED\n",
      "INFO:google.cloud.aiplatform.jobs:BatchPredictionJob run completed. Resource name: projects/147301782967/locations/us-central1/batchPredictionJobs/9196449395137052672\n"
     ]
    }
   ],
   "source": [
    "from google.cloud.aiplatform import jobs\n",
    "\n",
    "job_display_name = f\"maps-batch-predict-{TIMESTAMP}\"\n",
    "model = aip.Model(model_name=f\"projects/{PROJECT_ID}/locations/us-central1/models/{MODEL_ID}\")\n",
    "\n",
    "batch_prediction_job = model.batch_predict(\n",
    "    job_display_name=job_display_name,\n",
    "    gcs_source=\"gs://video-erschmid/DnD-batch-predict-input/20210930231618/batch-prediction-input.jsonl\",\n",
    "    #f\"gs://{BATCH_PREDICTION_BUCKET}/{input_file_uri}\",\n",
    "    gcs_destination_prefix=f\"gs://{BATCH_PREDICTION_BUCKET}/{BATCH_PREDICTION_PREFIX}/output\",\n",
    "    sync=True,\n",
    ")"
   ]
  },
  {
   "cell_type": "code",
   "execution_count": null,
   "id": "664fa94c",
   "metadata": {},
   "outputs": [],
   "source": []
  }
 ],
 "metadata": {
  "environment": {
   "kernel": "conda-root-py",
   "name": "common-cu110.m87",
   "type": "gcloud",
   "uri": "gcr.io/deeplearning-platform-release/base-cu110:m87"
  },
  "kernelspec": {
   "display_name": "Python [conda env:root] *",
   "language": "python",
   "name": "conda-root-py"
  },
  "language_info": {
   "codemirror_mode": {
    "name": "ipython",
    "version": 3
   },
   "file_extension": ".py",
   "mimetype": "text/x-python",
   "name": "python",
   "nbconvert_exporter": "python",
   "pygments_lexer": "ipython3",
   "version": "3.7.12"
  }
 },
 "nbformat": 4,
 "nbformat_minor": 5
}
