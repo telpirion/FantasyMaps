{
 "cells": [
  {
   "cell_type": "markdown",
   "id": "view-in-github",
   "metadata": {
    "id": "view-in-github"
   },
   "source": [
    "<a href=\"https://colab.research.google.com/github/telpirion/FantasyMaps/blob/main/notebooks/final/1_firestore.ipynb\" target=\"_parent\"><img src=\"https://colab.research.google.com/assets/colab-badge.svg\" alt=\"Open In Colab\"/></a>"
   ]
  },
  {
   "cell_type": "code",
   "execution_count": null,
   "id": "67741dbe-06db-4f5c-baf9-b75416d69539",
   "metadata": {
    "id": "67741dbe-06db-4f5c-baf9-b75416d69539",
    "tags": []
   },
   "outputs": [],
   "source": [
    "# Copyright 2022 Google LLC\n",
    "#\n",
    "# Licensed under the Apache License, Version 2.0 (the \"License\");\n",
    "# you may not use this file except in compliance with the License.\n",
    "# You may obtain a copy of the License at\n",
    "#\n",
    "#     https://www.apache.org/licenses/LICENSE-2.0\n",
    "#\n",
    "# Unless required by applicable law or agreed to in writing, software\n",
    "# distributed under the License is distributed on an \"AS IS\" BASIS,\n",
    "# WITHOUT WARRANTIES OR CONDITIONS OF ANY KIND, either express or implied.\n",
    "# See the License for the specific language governing permissions and\n",
    "# limitations under the License."
   ]
  },
  {
   "cell_type": "markdown",
   "id": "c8489ffb-e3a6-4cb6-883a-547afd8eac82",
   "metadata": {
    "id": "c8489ffb-e3a6-4cb6-883a-547afd8eac82"
   },
   "source": [
    "# Storing training data in Firestore\n",
    "\n",
    "{TODO: Update the links below.}\n",
    "\n",
    "<table align=\"left\">\n",
    "\n",
    "  <td>\n",
    "    <a href=\"https://colab.research.google.com/github/GoogleCloudPlatform/vertex-ai-samples/blob/main/notebooks/notebook_template.ipynb\">\n",
    "      <img src=\"https://cloud.google.com/ml-engine/images/colab-logo-32px.png\" alt=\"Colab logo\"> Run in Colab\n",
    "    </a>\n",
    "  </td>\n",
    "  <td>\n",
    "    <a href=\"https://github.com/GoogleCloudPlatform/vertex-ai-samples/blob/main/notebooks/notebook_template.ipynb\">\n",
    "      <img src=\"https://cloud.google.com/ml-engine/images/github-logo-32px.png\" alt=\"GitHub logo\">\n",
    "      View on GitHub\n",
    "    </a>\n",
    "  </td>\n",
    "  <td>\n",
    "    <a href=\"https://console.cloud.google.com/vertex-ai/workbench/deploy-notebook?download_url=https://raw.githubusercontent.com/GoogleCloudPlatform/vertex-ai-samples/main/notebooks/notebook_template.ipynb\">\n",
    "      <img src=\"https://lh3.googleusercontent.com/UiNooY4LUgW_oTvpsNhPpQzsstV5W8F7rYgxgGBD85cWJoLmrOzhVs_ksK_vgx40SHs7jCqkTkCk=e14-rj-sc0xffffff-h130-w32\" alt=\"Vertex AI logo\">\n",
    "      Open in Vertex AI Workbench\n",
    "    </a>\n",
    "  </td>                                                                                               \n",
    "</table>"
   ]
  },
  {
   "cell_type": "markdown",
   "id": "fffca17d-1158-4ce0-ad90-f8b869358df5",
   "metadata": {
    "id": "fffca17d-1158-4ce0-ad90-f8b869358df5"
   },
   "source": [
    "## Overview\n",
    "\n",
    "This notebook demonstrates how to collect data from social media (e.g. Reddit), preprocess that data, and then store that data in a Firestore collection. In this scenario, you collect fictional, hand-drawn maps that are used for virtual role-playing games. (Later, you convert these maps into training data for a Vertex AI notebook.)\n"
   ]
  },
  {
   "cell_type": "markdown",
   "id": "2c569a85-e173-4c11-9988-7712fb0ac26f",
   "metadata": {
    "id": "2c569a85-e173-4c11-9988-7712fb0ac26f",
    "tags": []
   },
   "source": [
    "### Objective\n",
    "\n",
    "In this tutorial, you learn how to create a dataset in Cloud Storage and Firestore from a third-party API.\n",
    "\n",
    "This tutorial uses the following Google Cloud resources:\n",
    "\n",
    "+ Cloud Storage bucket\n",
    "+ Firestore collection\n",
    "\n",
    "The steps performed include:\n",
    "\n",
    "1. Collecting images from Reddit\n",
    "1. Storing the images in Cloud Storage\n",
    "1. Inferring training data from the images\n",
    "1. Storing that training data in a Firestore collection"
   ]
  },
  {
   "cell_type": "markdown",
   "id": "597098cf-1b89-4466-92d1-6c9434594677",
   "metadata": {
    "id": "597098cf-1b89-4466-92d1-6c9434594677"
   },
   "source": [
    "### Dataset\n",
    "\n",
    "In this tutorial, you collect data from subreddit posts on Reddit. The individual posts are processed and their metadata stored in Firestore. Any image data the posts contain are extracted and stored in a Storage bucket."
   ]
  },
  {
   "cell_type": "markdown",
   "id": "d2d14d80-853b-40cf-883a-9d762c082a08",
   "metadata": {
    "id": "d2d14d80-853b-40cf-883a-9d762c082a08"
   },
   "source": [
    "### Costs\n",
    "\n",
    "This tutorial uses billable components of Google Cloud:\n",
    "\n",
    "* Firestore\n",
    "* Cloud Storage\n",
    "\n",
    "Learn about [Firestore pricing](https://cloud.google.com/firestore/pricing),\n",
    "and [Cloud Storage pricing](https://cloud.google.com/storage/pricing),\n",
    "and use the [Pricing Calculator](https://cloud.google.com/products/calculator/)\n",
    "to generate a cost estimate based on your projected usage."
   ]
  },
  {
   "cell_type": "markdown",
   "id": "c0aad14a-3e5d-4a5f-a56e-9a91a8c4192a",
   "metadata": {
    "id": "c0aad14a-3e5d-4a5f-a56e-9a91a8c4192a"
   },
   "source": [
    "## Installation\n",
    "\n",
    "Install the following packages required to execute this notebook."
   ]
  },
  {
   "cell_type": "code",
   "execution_count": 1,
   "id": "237e0e69-b281-4683-bc2b-570e0ffeb713",
   "metadata": {
    "colab": {
     "base_uri": "https://localhost:8080/"
    },
    "executionInfo": {
     "elapsed": 92,
     "status": "ok",
     "timestamp": 1726690216539,
     "user": {
      "displayName": "",
      "userId": ""
     },
     "user_tz": 420
    },
    "id": "237e0e69-b281-4683-bc2b-570e0ffeb713",
    "outputId": "712e8a3e-b8cc-488b-d60c-d101d96d235d",
    "tags": []
   },
   "outputs": [
    {
     "name": "stdout",
     "output_type": "stream",
     "text": [
      "Overwriting requirements.txt\n"
     ]
    }
   ],
   "source": [
    "%%writefile requirements.txt\n",
    "google-cloud-firestore\n",
    "google-cloud-secret-manager\n",
    "google-cloud-storage\n",
    "praw\n",
    "pandas\n",
    "numpy\n",
    "spacy\n",
    "pillow"
   ]
  },
  {
   "cell_type": "code",
   "execution_count": 2,
   "id": "5e29f548-6bce-4b71-9a6c-244fe2ebd28f",
   "metadata": {
    "colab": {
     "base_uri": "https://localhost:8080/"
    },
    "executionInfo": {
     "elapsed": 31028,
     "status": "ok",
     "timestamp": 1726690252817,
     "user": {
      "displayName": "",
      "userId": ""
     },
     "user_tz": 420
    },
    "id": "5e29f548-6bce-4b71-9a6c-244fe2ebd28f",
    "outputId": "003e963a-f17b-4d0e-b013-f6b2aa2b31c0",
    "tags": []
   },
   "outputs": [
    {
     "name": "stdout",
     "output_type": "stream",
     "text": [
      "\u001b[33m  WARNING: The scripts f2py and numpy-config are installed in '/home/jupyter/.local/bin' which is not on PATH.\n",
      "  Consider adding this directory to PATH or, if you prefer to suppress this warning, use --no-warn-script-location.\u001b[0m\u001b[33m\n",
      "\u001b[0m\u001b[31mERROR: pip's dependency resolver does not currently take into account all the packages that are installed. This behaviour is the source of the following dependency conflicts.\n",
      "bigframes 0.22.0 requires pandas<2.1.4,>=1.5.0, but you have pandas 2.2.3 which is incompatible.\n",
      "ibis-framework 7.1.0 requires numpy<2,>=1, but you have numpy 2.2.1 which is incompatible.\n",
      "matplotlib 3.7.3 requires numpy<2,>=1.20, but you have numpy 2.2.1 which is incompatible.\n",
      "numba 0.58.1 requires numpy<1.27,>=1.22, but you have numpy 2.2.1 which is incompatible.\n",
      "scipy 1.11.4 requires numpy<1.28.0,>=1.21.6, but you have numpy 2.2.1 which is incompatible.\n",
      "ydata-profiling 4.6.0 requires numpy<1.26,>=1.16.0, but you have numpy 2.2.1 which is incompatible.\n",
      "ydata-profiling 4.6.0 requires pandas!=1.4.0,<2.1,>1.1, but you have pandas 2.2.3 which is incompatible.\u001b[0m\u001b[31m\n",
      "\u001b[0m"
     ]
    }
   ],
   "source": [
    "! pip install --user --upgrade -qr requirements.txt"
   ]
  },
  {
   "cell_type": "markdown",
   "id": "235a373b-c3ca-41e5-9a48-e7ac13c2ff5f",
   "metadata": {
    "id": "235a373b-c3ca-41e5-9a48-e7ac13c2ff5f"
   },
   "source": [
    "We will also use a simple natural language parsing library to analyze posts. For this use case, we'll use the open source library [spaCy](https://spacy.io). spaCy requires that a language model be downloaded before it can be used."
   ]
  },
  {
   "cell_type": "code",
   "execution_count": 3,
   "id": "3ec6dea5-e36d-495f-b765-3cf6949136b9",
   "metadata": {
    "colab": {
     "base_uri": "https://localhost:8080/"
    },
    "executionInfo": {
     "elapsed": 11308,
     "status": "ok",
     "timestamp": 1726690278351,
     "user": {
      "displayName": "",
      "userId": ""
     },
     "user_tz": 420
    },
    "id": "3ec6dea5-e36d-495f-b765-3cf6949136b9",
    "outputId": "12431226-0d4d-423b-8e58-c856c845fddc",
    "tags": []
   },
   "outputs": [
    {
     "name": "stdout",
     "output_type": "stream",
     "text": [
      "Collecting en-core-web-sm==3.8.0\n",
      "  Downloading https://github.com/explosion/spacy-models/releases/download/en_core_web_sm-3.8.0/en_core_web_sm-3.8.0-py3-none-any.whl (12.8 MB)\n",
      "\u001b[2K     \u001b[90m━━━━━━━━━━━━━━━━━━━━━━━━━━━━━━━━━━━━━━━\u001b[0m \u001b[32m12.8/12.8 MB\u001b[0m \u001b[31m111.8 MB/s\u001b[0m eta \u001b[36m0:00:00\u001b[0m\n",
      "\u001b[?25hInstalling collected packages: en-core-web-sm\n",
      "Successfully installed en-core-web-sm-3.8.0\n",
      "\u001b[38;5;2m✔ Download and installation successful\u001b[0m\n",
      "You can now load the package via spacy.load('en_core_web_sm')\n"
     ]
    }
   ],
   "source": [
    "!python -m spacy download en_core_web_sm"
   ]
  },
  {
   "cell_type": "markdown",
   "id": "F809nXQ-Bbkk",
   "metadata": {
    "id": "F809nXQ-Bbkk"
   },
   "source": [
    "We have prepared a library of functions to help you process images."
   ]
  },
  {
   "cell_type": "code",
   "execution_count": 4,
   "id": "dhvoZqO0mr6Q",
   "metadata": {
    "colab": {
     "base_uri": "https://localhost:8080/"
    },
    "executionInfo": {
     "elapsed": 14419,
     "status": "ok",
     "timestamp": 1726690297124,
     "user": {
      "displayName": "",
      "userId": ""
     },
     "user_tz": 420
    },
    "id": "dhvoZqO0mr6Q",
    "outputId": "1d260b5f-d217-454e-ff64-ba8a1b763433",
    "tags": []
   },
   "outputs": [
    {
     "name": "stdout",
     "output_type": "stream",
     "text": [
      "Found existing installation: fantasy_maps_lib 0.0.0\n",
      "Uninstalling fantasy_maps_lib-0.0.0:\n",
      "  Successfully uninstalled fantasy_maps_lib-0.0.0\n",
      "\u001b[33m  WARNING: The script f2py is installed in '/home/jupyter/.local/bin' which is not on PATH.\n",
      "  Consider adding this directory to PATH or, if you prefer to suppress this warning, use --no-warn-script-location.\u001b[0m\u001b[33m\n",
      "\u001b[0m\u001b[31mERROR: pip's dependency resolver does not currently take into account all the packages that are installed. This behaviour is the source of the following dependency conflicts.\n",
      "bigframes 0.22.0 requires pandas<2.1.4,>=1.5.0, but you have pandas 2.2.3 which is incompatible.\n",
      "ydata-profiling 4.6.0 requires numpy<1.26,>=1.16.0, but you have numpy 1.26.4 which is incompatible.\n",
      "ydata-profiling 4.6.0 requires pandas!=1.4.0,<2.1,>1.1, but you have pandas 2.2.3 which is incompatible.\u001b[0m\u001b[31m\n",
      "\u001b[0m"
     ]
    }
   ],
   "source": [
    "! pip uninstall -y fantasy_maps_lib\n",
    "! pip install --user -q \"git+https://github.com/telpirion/fantasy-maps-lib.git#egg=fantasy_maps_lib\""
   ]
  },
  {
   "cell_type": "markdown",
   "id": "47b82e4a-6b1e-4efb-85f4-5eb2b64f8eaf",
   "metadata": {
    "id": "47b82e4a-6b1e-4efb-85f4-5eb2b64f8eaf"
   },
   "source": [
    "## Before you begin\n",
    "\n",
    "### Set up your Google Cloud project\n",
    "\n",
    "**The following steps are required, regardless of your notebook environment.**\n",
    "\n",
    "1. [Select or create a Google Cloud project](https://console.cloud.google.com/cloud-resource-manager). When you first create an account, you get a $300 free credit towards your compute/storage costs.\n",
    "\n",
    "2. [Make sure that billing is enabled for your project](https://cloud.google.com/billing/docs/how-to/modify-project).\n",
    "\n",
    "3. [Enable the Firestore API](https://console.cloud.google.com/flows/enableapi?apiid=firestore.googleapis.com).\n",
    "\n",
    "4. [Enable the Secret Manager API](https://console.cloud.google.com/flows/enableapi?apiid=secretmanager.googleapis.com).\n",
    "\n",
    "5. [Enable the Cloud Storage API](https://console.cloud.google.com/flows/enableapi?apiid=storage.googleapis.com).\n",
    "\n",
    "6. If you are running this notebook locally, you need to install the [Cloud SDK](https://cloud.google.com/sdk)."
   ]
  },
  {
   "cell_type": "markdown",
   "id": "627dd1f8-9d0d-4c53-be6f-bc3a80d88cf2",
   "metadata": {
    "id": "627dd1f8-9d0d-4c53-be6f-bc3a80d88cf2"
   },
   "source": [
    "#### Set your project ID\n",
    "\n",
    "**If you don't know your project ID**, try the following:\n",
    "* Run `gcloud config list`.\n",
    "* Run `gcloud projects list`.\n",
    "* See the support page: [Locate the project ID](https://support.google.com/googleapi/answer/7014113)"
   ]
  },
  {
   "cell_type": "code",
   "execution_count": null,
   "id": "kJwbpxfnl9Qg",
   "metadata": {
    "id": "kJwbpxfnl9Qg"
   },
   "outputs": [],
   "source": [
    "# If using Colab secrets, import them here\n",
    "#from google.colab import userdata\n",
    "#PROJECT_ID = userdata.get('PROJECT_ID')\n",
    "\n",
    "#! gcloud config set project {PROJECT_ID}"
   ]
  },
  {
   "cell_type": "code",
   "execution_count": 5,
   "id": "N6HjEkHRE9mk",
   "metadata": {
    "colab": {
     "base_uri": "https://localhost:8080/"
    },
    "executionInfo": {
     "elapsed": 819,
     "status": "ok",
     "timestamp": 1726690314267,
     "user": {
      "displayName": "",
      "userId": ""
     },
     "user_tz": 420
    },
    "id": "N6HjEkHRE9mk",
    "outputId": "d1a53a41-a0e2-4695-8528-36a4ed4d94d7",
    "tags": []
   },
   "outputs": [
    {
     "name": "stdout",
     "output_type": "stream",
     "text": [
      "fantasymaps-334622\n"
     ]
    }
   ],
   "source": [
    "# If running in Vertex Workbench or Colab Enterprise, set your project here\n",
    "PROJECT_ID = !gcloud config get-value project\n",
    "PROJECT_ID = PROJECT_ID[0]\n",
    "print(PROJECT_ID)"
   ]
  },
  {
   "cell_type": "code",
   "execution_count": null,
   "id": "ddd84908-871b-4f8c-b586-3814514eac00",
   "metadata": {
    "id": "ddd84908-871b-4f8c-b586-3814514eac00"
   },
   "outputs": [],
   "source": [
    "# If running in some other Jupyter notebook installation, provide your\n",
    "# Google Cloud project name\n",
    "#PROJECT_ID = \"[your-project-id]\"  # @param {type:\"string\"}\n",
    "\n",
    "# Set the project id\n",
    "#! gcloud config set project {PROJECT_ID}"
   ]
  },
  {
   "cell_type": "markdown",
   "id": "99eb88ba-b0fe-4989-99b7-33be554958a0",
   "metadata": {
    "id": "99eb88ba-b0fe-4989-99b7-33be554958a0"
   },
   "source": [
    "#### Region\n",
    "\n",
    "You can also change the `REGION` variable used by Vertex AI. Learn more about [Vertex AI regions](https://cloud.google.com/vertex-ai/docs/general/locations)."
   ]
  },
  {
   "cell_type": "code",
   "execution_count": 6,
   "id": "6181b969-2184-4ea8-b42d-4f6377a91d5f",
   "metadata": {
    "executionInfo": {
     "elapsed": 89,
     "status": "ok",
     "timestamp": 1726690357985,
     "user": {
      "displayName": "",
      "userId": ""
     },
     "user_tz": 420
    },
    "id": "6181b969-2184-4ea8-b42d-4f6377a91d5f",
    "tags": []
   },
   "outputs": [],
   "source": [
    "REGION = \"us-west1\"  # @param {type: \"string\"}"
   ]
  },
  {
   "cell_type": "markdown",
   "id": "0455b922-0c10-4d2d-8861-3699c6ebd913",
   "metadata": {
    "id": "0455b922-0c10-4d2d-8861-3699c6ebd913"
   },
   "source": [
    "### Authenticate your Google Cloud account\n",
    "\n",
    "Depending on your Jupyter environment, you may have to manually authenticate. Follow the relevant instructions below."
   ]
  },
  {
   "cell_type": "markdown",
   "id": "46ba334b-e9b9-48fb-9ded-090bcf268cca",
   "metadata": {
    "id": "46ba334b-e9b9-48fb-9ded-090bcf268cca"
   },
   "source": [
    "**1. Vertex AI Workbench**\n",
    "* Do nothing as you are already authenticated."
   ]
  },
  {
   "cell_type": "markdown",
   "id": "1916caf9-48d1-4fe1-b42b-fd2fe2829200",
   "metadata": {
    "id": "1916caf9-48d1-4fe1-b42b-fd2fe2829200"
   },
   "source": [
    "**2. Local JupyterLab instance, uncomment and run:**"
   ]
  },
  {
   "cell_type": "code",
   "execution_count": null,
   "id": "6ac273d9-7f88-407e-9fe3-291bf2f0f5fb",
   "metadata": {
    "id": "6ac273d9-7f88-407e-9fe3-291bf2f0f5fb"
   },
   "outputs": [],
   "source": [
    "# ! gcloud auth login"
   ]
  },
  {
   "cell_type": "markdown",
   "id": "afd0c21b-fef6-44eb-8a8a-6a58140ff4f4",
   "metadata": {
    "id": "afd0c21b-fef6-44eb-8a8a-6a58140ff4f4"
   },
   "source": [
    "**3. Colab, uncomment and run:**"
   ]
  },
  {
   "cell_type": "code",
   "execution_count": null,
   "id": "57c6eb8f-f518-41a9-ae87-1558fe62eb8f",
   "metadata": {
    "id": "57c6eb8f-f518-41a9-ae87-1558fe62eb8f"
   },
   "outputs": [],
   "source": [
    "#from google.colab import auth\n",
    "#auth.authenticate_user()"
   ]
  },
  {
   "cell_type": "markdown",
   "id": "c550d1b8-0e7c-4b85-9c01-8bb8906c2287",
   "metadata": {
    "id": "c550d1b8-0e7c-4b85-9c01-8bb8906c2287"
   },
   "source": [
    "**4. Service account or other**\n",
    "* See how to grant Cloud Storage permissions to your service account at https://cloud.google.com/storage/docs/gsutil/commands/iam#ch-examples."
   ]
  },
  {
   "cell_type": "markdown",
   "id": "090dd331-0bd2-421b-bed5-8e8e4d7d8592",
   "metadata": {
    "id": "090dd331-0bd2-421b-bed5-8e8e4d7d8592"
   },
   "source": [
    "### Create a Cloud Storage bucket\n",
    "\n",
    "Create a storage bucket to store intermediate artifacts such as datasets.\n"
   ]
  },
  {
   "cell_type": "code",
   "execution_count": null,
   "id": "c9f2e97b-17d4-493d-a643-ef8670c95e1a",
   "metadata": {
    "executionInfo": {
     "elapsed": 93,
     "status": "ok",
     "timestamp": 1726690374663,
     "user": {
      "displayName": "",
      "userId": ""
     },
     "user_tz": 420
    },
    "id": "c9f2e97b-17d4-493d-a643-ef8670c95e1a",
    "tags": []
   },
   "outputs": [],
   "source": [
    "BUCKET_URI = f\"gs://fantasy-maps-{PROJECT_ID}-unique\"  # @param {type:\"string\"}"
   ]
  },
  {
   "cell_type": "markdown",
   "id": "2ad6a6be-446c-440f-ae91-02066b13d34e",
   "metadata": {
    "id": "2ad6a6be-446c-440f-ae91-02066b13d34e"
   },
   "source": [
    "**Only if your bucket doesn't already exist**: Run the following cell to create your Cloud Storage bucket."
   ]
  },
  {
   "cell_type": "code",
   "execution_count": null,
   "id": "77871323-0824-49c2-8c4c-fa0af8a67f4e",
   "metadata": {
    "id": "77871323-0824-49c2-8c4c-fa0af8a67f4e",
    "tags": []
   },
   "outputs": [],
   "source": [
    "#! gsutil mb -l $REGION -p $PROJECT_ID $BUCKET_URI"
   ]
  },
  {
   "cell_type": "markdown",
   "id": "efcd60f6-6872-48b1-8a64-a47f14bf3064",
   "metadata": {
    "id": "efcd60f6-6872-48b1-8a64-a47f14bf3064",
    "tags": []
   },
   "source": [
    "### Import libraries"
   ]
  },
  {
   "cell_type": "code",
   "execution_count": 7,
   "id": "34174e56-8d65-4e5a-9046-d74625090cc5",
   "metadata": {
    "executionInfo": {
     "elapsed": 4166,
     "status": "ok",
     "timestamp": 1726690383354,
     "user": {
      "displayName": "",
      "userId": ""
     },
     "user_tz": 420
    },
    "id": "34174e56-8d65-4e5a-9046-d74625090cc5",
    "tags": []
   },
   "outputs": [],
   "source": [
    "from google.cloud import firestore\n",
    "from google.cloud import secretmanager\n",
    "from google.cloud import storage\n",
    "\n",
    "from PIL import Image\n",
    "\n",
    "import hashlib\n",
    "import json\n",
    "import math\n",
    "import numpy as np\n",
    "import os\n",
    "import pandas as pd\n",
    "import pprint\n",
    "import praw\n",
    "import re\n",
    "import requests\n",
    "import shutil\n",
    "import spacy"
   ]
  },
  {
   "cell_type": "code",
   "execution_count": 8,
   "id": "a8a0f2bb-849a-4ab1-a48c-adeca3906509",
   "metadata": {
    "executionInfo": {
     "elapsed": 101,
     "status": "ok",
     "timestamp": 1726690384813,
     "user": {
      "displayName": "",
      "userId": ""
     },
     "user_tz": 420
    },
    "id": "a8a0f2bb-849a-4ab1-a48c-adeca3906509",
    "tags": []
   },
   "outputs": [],
   "source": [
    "from fantasy_maps.reddit import posts\n",
    "from fantasy_maps.image import extract, shards\n",
    "from fantasy_maps.image.image_metadata import ImageMetadata\n",
    "from fantasy_maps.gcp.storage import store_image_gcs\n",
    "from fantasy_maps.gcp.firestore import store_metadata_fs"
   ]
  },
  {
   "cell_type": "markdown",
   "id": "854f52c5-8e0e-4a46-af45-86914c745f7f",
   "metadata": {
    "id": "854f52c5-8e0e-4a46-af45-86914c745f7f"
   },
   "source": [
    "### Get a Reddit API key\n",
    "\n",
    "You need a [Reddit API key](https://www.reddit.com/wiki/api/) to access Reddit programmatically. Copy your API key into the labeled fields of the dictionary in the following cell.\n",
    "\n",
    "**Note**: Once you have an API key, you must store it somewhere safe. It is recommended to store your API key as a JSON-formatted string in Cloud Secret Manager."
   ]
  },
  {
   "cell_type": "code",
   "execution_count": 9,
   "id": "gmsje-JHslz8",
   "metadata": {
    "executionInfo": {
     "elapsed": 88,
     "status": "ok",
     "timestamp": 1726690388179,
     "user": {
      "displayName": "",
      "userId": ""
     },
     "user_tz": 420
    },
    "id": "gmsje-JHslz8",
    "tags": []
   },
   "outputs": [],
   "source": [
    "SECRET_RESOURCE_NAME = f\"projects/{PROJECT_ID}/secrets/reddit-api-key/versions/1\" # @param {type:\"string\"}"
   ]
  },
  {
   "cell_type": "code",
   "execution_count": 10,
   "id": "gWjJGFtRrvw6",
   "metadata": {
    "colab": {
     "base_uri": "https://localhost:8080/"
    },
    "executionInfo": {
     "elapsed": 926,
     "status": "ok",
     "timestamp": 1726690390710,
     "user": {
      "displayName": "",
      "userId": ""
     },
     "user_tz": 420
    },
    "id": "gWjJGFtRrvw6",
    "outputId": "fa800a54-b5f0-40a0-856d-1d2c84c21d9a",
    "tags": []
   },
   "outputs": [
    {
     "name": "stdout",
     "output_type": "stream",
     "text": [
      "{'client_id': 'Z0g7xbmKNB9Mew',\n",
      " 'secret': '_XDRI2jgcVAJ6xKIWmA46yz8CZw',\n",
      " 'user_agent': 'script:ScrapeForNLP:v1.0 (by u/Telpirion-78)',\n",
      " 'user_name': 'Telpirion-78'}\n"
     ]
    }
   ],
   "source": [
    "secret_client = secretmanager.SecretManagerServiceClient()\n",
    "secret = secret_client.access_secret_version(name=SECRET_RESOURCE_NAME)\n",
    "reddit_key_json = json.loads(secret.payload.data)\n",
    "pprint.pprint(reddit_key_json)"
   ]
  },
  {
   "cell_type": "markdown",
   "id": "67219889-78bf-429a-b772-2f95a9904261",
   "metadata": {
    "id": "67219889-78bf-429a-b772-2f95a9904261"
   },
   "source": [
    "## Query data (posts) on Reddit\n",
    "\n",
    "Now that we have our API key ready for use, we can query Reddit for our data! In the next cell, we will read the top 100 \"hot\" posts from a subreddit.\n",
    "\n",
    "For our use-case, we want to check the posts to see whether: 1) they have an image associated with them; and 2) the title gives us some clues as to the contents (e.g. columns and rows) contained in the image."
   ]
  },
  {
   "cell_type": "code",
   "execution_count": 11,
   "id": "9dc26f93-3bcb-4737-9b92-a798938ede19",
   "metadata": {
    "colab": {
     "base_uri": "https://localhost:8080/"
    },
    "executionInfo": {
     "elapsed": 2487,
     "status": "ok",
     "timestamp": 1726690402182,
     "user": {
      "displayName": "",
      "userId": ""
     },
     "user_tz": 420
    },
    "id": "9dc26f93-3bcb-4737-9b92-a798938ede19",
    "outputId": "3b6bbf95-a814-485b-e75d-b482f58cb0aa",
    "tags": []
   },
   "outputs": [],
   "source": [
    "columns = ['Title', 'Post', 'ID', 'URL']\n",
    "\n",
    "subreddit_name = \"battlemaps\"\n",
    "reddit_posts = posts.get_reddit_posts(reddit_credentials=reddit_key_json,\n",
    "                                subreddit_name=subreddit_name, limit=100)\n",
    "reddit_dicts = posts.convert_posts_to_dicts(reddit_posts, columns)"
   ]
  },
  {
   "cell_type": "markdown",
   "id": "4dbd67c7-d1e8-404f-89d9-f2540ea7ace9",
   "metadata": {
    "id": "4dbd67c7-d1e8-404f-89d9-f2540ea7ace9"
   },
   "source": [
    "Now that we have the top 100 \"hot\" posts from the subreddit, we're going to filter for only the posts that we want. Again, our criteria are: 1) must have an image; 2) the title must have the grid dimensions of the image.\n",
    "\n",
    "We'll use Pandas to visualize the resulting data."
   ]
  },
  {
   "cell_type": "code",
   "execution_count": 12,
   "id": "Q5hVfhOyH9Nm",
   "metadata": {
    "colab": {
     "base_uri": "https://localhost:8080/"
    },
    "executionInfo": {
     "elapsed": 98,
     "status": "ok",
     "timestamp": 1726690406736,
     "user": {
      "displayName": "",
      "userId": ""
     },
     "user_tz": 420
    },
    "id": "Q5hVfhOyH9Nm",
    "outputId": "36600bad-3916-4ec6-8ad7-6dd23c88d03c",
    "tags": []
   },
   "outputs": [
    {
     "name": "stdout",
     "output_type": "stream",
     "text": [
      "34\n"
     ]
    }
   ],
   "source": [
    "reddit_images = [\n",
    "  ImageMetadata(\n",
    "      url=d['URL'],\n",
    "      title=d['Title'],\n",
    "      rid=d['ID']) for d in reddit_dicts if (\n",
    "    'jpeg' in d['URL'] and\n",
    "    re.search(r'\\d+x\\d+', d['Title'])\n",
    "  )\n",
    "]\n",
    "print(len(reddit_images))"
   ]
  },
  {
   "cell_type": "markdown",
   "id": "25212aba-89e7-4e7d-95f3-4ba5beecd476",
   "metadata": {
    "id": "25212aba-89e7-4e7d-95f3-4ba5beecd476"
   },
   "source": [
    "## Process the images and their metadata\n",
    "\n",
    "In this next step, we will process all of the Reddit posts with images posts:\n",
    "\n",
    "1. Download the image itself\n",
    "2. Parse each image's metadata\n",
    "3. (If needed) Split the image into smaller images\n",
    "4. Store the metadata in Firestore\n",
    "5. Save the images on Cloud Storage"
   ]
  },
  {
   "cell_type": "markdown",
   "id": "e7326eee-5514-4521-938c-3637ff3dcb3c",
   "metadata": {
    "id": "e7326eee-5514-4521-938c-3637ff3dcb3c"
   },
   "source": [
    "### Download the image\n",
    "\n",
    "We're going to download the image locally. We'll need a meaningful filename to save the image. We also need a directory system to save the image to.\n",
    "\n",
    "We also want to avoid downloading the same image more than once. We'll need to compare the images programmatically to verify that each image is unique.\n",
    "\n",
    "The easiest way to do this will be to reduce each image to a unique hash value and then ensure that we never have two copies of the same hash value. For the sake of simplicity, we'll use these hash values as the unique ID for each image."
   ]
  },
  {
   "cell_type": "code",
   "execution_count": 13,
   "id": "E9Tbz7hwTtaC",
   "metadata": {
    "id": "E9Tbz7hwTtaC",
    "tags": []
   },
   "outputs": [],
   "source": [
    "# If using Vertex Workbench or a local Jupyter notebook, run this cell.\n",
    "root_dir = os.getcwd()"
   ]
  },
  {
   "cell_type": "code",
   "execution_count": null,
   "id": "YdPYHDL3_QMV",
   "metadata": {
    "id": "YdPYHDL3_QMV"
   },
   "outputs": [],
   "source": [
    "# If using Colab (not Colab Enterprise), mount Google Drive\n",
    "#root_dir = '/content/drive'\n",
    "#from google.colab import drive\n",
    "#drive.mount(root_dir)"
   ]
  },
  {
   "cell_type": "code",
   "execution_count": null,
   "id": "Zg300dsBujw6",
   "metadata": {
    "colab": {
     "base_uri": "https://localhost:8080/"
    },
    "executionInfo": {
     "elapsed": 11828,
     "status": "ok",
     "timestamp": 1726689779489,
     "user": {
      "displayName": "",
      "userId": ""
     },
     "user_tz": 420
    },
    "id": "Zg300dsBujw6",
    "outputId": "0b3d946c-d253-4240-b0c0-4829de9e84bc"
   },
   "outputs": [],
   "source": [
    "# If using Colab Enterprise, use gcsfuse\n",
    "#root_dir = '/content/drive'\n",
    "\n",
    "#!echo \"deb https://packages.cloud.google.com/apt gcsfuse-`lsb_release -c -s` main\" | sudo tee /etc/apt/sources.list.d/gcsfuse.list\n",
    "#!curl https://packages.cloud.google.com/apt/doc/apt-key.gpg | sudo apt-key add -\n",
    "#!apt -qq update && apt -qq install gcsfuse\n",
    "#!gcsfuse --implicit-dirs $BUCKET_URI $root_dir\n",
    "\n",
    "#BUCKET_NAME = BUCKET_URI.replace('gs://', '')\n",
    "#root_dir = '/gcs/content'\n",
    "\n",
    "#if not os.path.exists(root_dir):\n",
    "#  os.makedirs(root_dir, exist_ok=True)\n",
    "\n",
    "#!gcsfuse --implicit-dirs {BUCKET_NAME} {root_dir}"
   ]
  },
  {
   "cell_type": "markdown",
   "id": "136ea20c-57af-439b-86f3-d6813659beaf",
   "metadata": {},
   "source": [
    "Next, download the images to a mounted drive. Once the image is downloaded, we will read its dimensions and store those dimensions as metadata."
   ]
  },
  {
   "cell_type": "code",
   "execution_count": 14,
   "id": "f3844e20",
   "metadata": {
    "executionInfo": {
     "elapsed": 42259,
     "status": "ok",
     "timestamp": 1726690675087,
     "user": {
      "displayName": "",
      "userId": ""
     },
     "user_tz": 420
    },
    "id": "f3844e20",
    "tags": []
   },
   "outputs": [],
   "source": [
    "local_reddit_data_dir = f'{root_dir}/reddit_maps_data'\n",
    "\n",
    "if os.path.exists(local_reddit_data_dir):\n",
    "  shutil.rmtree(local_reddit_data_dir)\n",
    "\n",
    "os.mkdir(local_reddit_data_dir)\n",
    "\n",
    "hashes = []\n",
    "\n",
    "for post in reddit_images:\n",
    "    url = post.url\n",
    "    filename = posts.make_nice_filename(post.title)\n",
    "\n",
    "    if filename == '':\n",
    "        continue\n",
    "\n",
    "    path = f'{local_reddit_data_dir}/{filename}'\n",
    "    uid = extract.download_image_local(url=url, path=path)\n",
    "    if uid in hashes:\n",
    "      continue\n",
    "\n",
    "    hashes.append(uid)\n",
    "\n",
    "    post.path = path\n",
    "    post.uid = uid"
   ]
  },
  {
   "cell_type": "code",
   "execution_count": 15,
   "id": "7bCMuF8i2wX0",
   "metadata": {
    "colab": {
     "base_uri": "https://localhost:8080/"
    },
    "executionInfo": {
     "elapsed": 97,
     "status": "ok",
     "timestamp": 1726690721834,
     "user": {
      "displayName": "",
      "userId": ""
     },
     "user_tz": 420
    },
    "id": "7bCMuF8i2wX0",
    "outputId": "8e440c11-1236-4697-ff06-29d1a656a045",
    "tags": []
   },
   "outputs": [
    {
     "name": "stdout",
     "output_type": "stream",
     "text": [
      "{'bboxes': [],\n",
      " 'path': '/home/jupyter/FantasyMaps/notebooks/final/reddit_maps_data/cliffside_beach_battle_map.30x40.jpg',\n",
      " 'rid': '1hnjots',\n",
      " 'title': 'Cliffside Beach 30x40 battle map ',\n",
      " 'uid': '98cfb16c9250a9926c94a7961eb54eebc658192b',\n",
      " 'url': 'https://i.redd.it/hufv9eagcf9e1.jpeg',\n",
      " 'vtt': {'cellHeight': 0,\n",
      "         'cellWidth': 0,\n",
      "         'cellsOffsetX': 0,\n",
      "         'cellsOffsetY': 0,\n",
      "         'imageHeight': 0,\n",
      "         'imageWidth': 0}}\n"
     ]
    }
   ],
   "source": [
    "pprint.pprint(reddit_images[0].to_dict())"
   ]
  },
  {
   "cell_type": "markdown",
   "id": "73d6641d-c090-47f1-9a2c-6da98f183299",
   "metadata": {
    "id": "73d6641d-c090-47f1-9a2c-6da98f183299"
   },
   "source": [
    "### Parse the image for metadata\n",
    "\n",
    "All we know from the Reddit API is that these posts have JPGs associated with them and that they contain a substring in the format \"NNxNN.\" However, we need more than just images and rough columns and rows for training a Vertex AI AutoML image object detection model. We would even need more data just to use these images in a VTT app.\n",
    "\n",
    "To get valid training data and VTT data, we need to make some inferences about the images based upon the data that we have (or can get). The data we have are the number of columns and rows stated in the post's title (granted, these are not always accurate). The data we can get is the image's width and height. From these four data points, and assuming that they are accurate and that all cells in the map are uniform, we can infer the width and height of cells in the map.\n",
    "\n",
    "Using the cell width and height, we can compute the rest of the data required for both an image object detection model and the data needed for a VTT app."
   ]
  },
  {
   "cell_type": "markdown",
   "id": "6dc0a53b-311a-4837-9213-b4049da61e4c",
   "metadata": {
    "id": "6dc0a53b-311a-4837-9213-b4049da61e4c"
   },
   "source": [
    "#### Virtual tabletop (VTT) data\n",
    "\n",
    "The easiest for us to compute is the VTT data. This data provides us with the `cellWidth` and `cellHeight` data that will allow us to complete the ML training data.\n",
    "\n",
    "The JSON structure of VTT data is:\n",
    "\n",
    "```json\n",
    "{\n",
    "    \"imageHeight\": ##,\n",
    "    \"imageWidth\": ##,\n",
    "    \"cellHeight\": ##,\n",
    "    \"cellWidth\": ##,\n",
    "    \"cellOffsetY\": ##,\n",
    "    \"cellOffsetX\": ##\n",
    "}\n",
    "\n",
    "```\n"
   ]
  },
  {
   "cell_type": "markdown",
   "id": "cd38762b-ea37-4c1a-99b8-2b3022dd4f27",
   "metadata": {
    "id": "cd38762b-ea37-4c1a-99b8-2b3022dd4f27"
   },
   "source": [
    "#### Image object detection training data\n",
    "\n",
    "AutoML image object detection on Vertex AI requires a JSONL file with information for the training data. Each line in the JSONL file needs to contain: the Cloud Storage URI of the image; and the bounding boxes of the objects (cells) that we want to train the model to identify on the image.\n",
    "\n",
    "**Tip**: The format we use for training data is called the [Common Objects in Context (COCO)](https://cocodataset.org/#format-data), with some notable exceptions. The canonical example expresses the maximum values as `width` and `height`, where as we will annotate our data as `x` and `y` values expressed as a percentage of the total height and widthy of the image.\n",
    "\n",
    "The structure of the JSON data in the JSONL file is:\n",
    "\n",
    "```json\n",
    "{\n",
    "    \"imageGcsUri\": \"URI\",\n",
    "    \"boundingBoxAnnotations\": {\n",
    "        \"displayName\": \"LABEL_NAME\",\n",
    "        \"xMin\": ##,\n",
    "        \"xMax\": ##,\n",
    "        \"yMin\": ##,\n",
    "        \"yMax\": ##,\n",
    "    }\n",
    "}\n",
    "```"
   ]
  },
  {
   "cell_type": "markdown",
   "id": "0QnWvAZrkDLE",
   "metadata": {
    "id": "0QnWvAZrkDLE"
   },
   "source": [
    "For each bounding box, we need to provide a percentage value that expresses the vertices of the bounding box as a set of x and y pairs. Also, each bounding box needs to be given a label for that bounding box; all of our bounding boxes are \"cells\" so each one gets the label `cell`.\n",
    "\n",
    "**Note**: A training image in Vertex AI can only have at most 500 bounding boxes; many fantasy maps have many more than 500 cells. So that we can use the most of the training data, we will split too large images until smaller images, or \"shards\", and use the shards  for training. We'll create the shards a bit later.\n",
    "\n",
    "You can read more about how to format your training manifest JSONL file in [the documentation](https://cloud.google.com/vertex-ai/docs/datasets/prepare-image#object-detection)."
   ]
  },
  {
   "cell_type": "code",
   "execution_count": 16,
   "id": "1c482662-0e48-4dc9-9d6b-e41a3fa15e6e",
   "metadata": {
    "tags": []
   },
   "outputs": [
    {
     "name": "stdout",
     "output_type": "stream",
     "text": [
      "30 40\n"
     ]
    }
   ],
   "source": [
    "test_img = reddit_images[0]\n",
    "w, h = extract.get_image_width_and_height(test_img.path)\n",
    "test_img.width = w\n",
    "test_img.height = h\n",
    "\n",
    "exp = '\\.\\d+x\\d+\\.'\n",
    "match = re.search(exp, test_img.path)\n",
    "if match:\n",
    "    dims = match.group()\n",
    "\n",
    "cols, rows = [int(d) for d in re.split(r'\\.|x', dims) if d != '']\n",
    "test_img.columns = cols\n",
    "test_img.rows = rows\n",
    "\n",
    "print(cols, rows)"
   ]
  },
  {
   "cell_type": "code",
   "execution_count": 17,
   "id": "a569b0c0-59ef-4fe5-9262-d08a0150f6a6",
   "metadata": {
    "colab": {
     "base_uri": "https://localhost:8080/",
     "height": 391
    },
    "executionInfo": {
     "elapsed": 89,
     "status": "error",
     "timestamp": 1726690771251,
     "user": {
      "displayName": "",
      "userId": ""
     },
     "user_tz": 420
    },
    "id": "a569b0c0-59ef-4fe5-9262-d08a0150f6a6",
    "outputId": "4d88a952-14d3-4802-d8ac-54454f3e9bf7",
    "tags": []
   },
   "outputs": [],
   "source": [
    "for post in reddit_images:\n",
    "    if not os.path.exists(post.path):\n",
    "      continue\n",
    "\n",
    "    local_path = post.path\n",
    "\n",
    "    # Get width & height for original image\n",
    "    w, h = extract.get_image_width_and_height(local_path)\n",
    "\n",
    "    post.width = w\n",
    "    post.height = h\n",
    "\n",
    "    # Get columns & rows for original image, based upon the name.\n",
    "    exp = '\\.\\d+x\\d+\\.'\n",
    "    match = re.search(exp, post.path)\n",
    "    if match:\n",
    "        dims = match.group()\n",
    "\n",
    "    cols, rows = [int(d) for d in re.split(r'\\.|x', dims) if d != '']\n",
    "    post.columns = cols\n",
    "    post.rows = rows\n",
    "\n",
    "\n",
    "    # If image doesn't need to be sharded, simply compute and continue\n",
    "    if (cols * rows) <= 500:\n",
    "        bboxes = extract.compute_bboxes(img_metadata=post)\n",
    "        post.bboxes = bboxes\n",
    "        continue"
   ]
  },
  {
   "cell_type": "code",
   "execution_count": 18,
   "id": "0184511f-4346-4d6b-851d-1a490f9b0fe0",
   "metadata": {
    "tags": []
   },
   "outputs": [
    {
     "name": "stdout",
     "output_type": "stream",
     "text": [
      "[]\n",
      "34\n",
      "<fantasy_maps.image.image_metadata.ImageMetadata object at 0x7fac4f9e1d80>\n"
     ]
    }
   ],
   "source": [
    "#test_images = [p for p in reddit_images if (len(p.bboxes) > 0)]\n",
    "test_img = reddit_images[0]\n",
    "\n",
    "#pprint.pprint(test_img)\n",
    "print(test_img.bboxes)\n",
    "print(len(reddit_images))\n",
    "boxes = test_img.bboxes\n",
    "\n",
    "bboxes = extract.compute_bboxes(img_metadata=test_img)\n",
    "pprint.pprint(test_img)"
   ]
  },
  {
   "cell_type": "markdown",
   "id": "935e378d-a396-4e21-9b6e-de84c2f133fa",
   "metadata": {},
   "source": [
    "Finally, we are going to make smaller versions of the big(ger) images that we have downloaded. First, we'll define smaller segments of these images. Then, we will create the smaller segments. Finally we will compute the bounding boxes for the resulting smaller images."
   ]
  },
  {
   "cell_type": "code",
   "execution_count": 19,
   "id": "dce79871-aafe-460f-b3c8-524a1665af00",
   "metadata": {
    "tags": []
   },
   "outputs": [
    {
     "name": "stdout",
     "output_type": "stream",
     "text": [
      "27\n"
     ]
    }
   ],
   "source": [
    "big_images = [p for p in reddit_images if (p.columns * p.rows) >= 500]\n",
    "print(len(big_images))"
   ]
  },
  {
   "cell_type": "code",
   "execution_count": null,
   "id": "PGDvS7qjkbAz",
   "metadata": {
    "id": "PGDvS7qjkbAz",
    "tags": []
   },
   "outputs": [],
   "source": [
    "NUM_SHARDS = 3\n",
    "SHARD_COLS = 15\n",
    "SHARD_ROWS = 15\n",
    "\n",
    "for img_metadata in big_images:\n",
    "    smaller_images = shards.compute_shard_coordinates(img_metadata=img_metadata,\n",
    "                                                      num_shards=NUM_SHARDS,\n",
    "                                                      shard_cols=SHARD_COLS,\n",
    "                                                      shard_rows=SHARD_ROWS)\n",
    "    for sm_img in smaller_images:\n",
    "        print(img_metadata.to_dict())\n",
    "        print(img_metadata.path)\n",
    "        print(sm_img)\n",
    "        shard_metadata = shards.create_shard(x_min=sm_img[0],\n",
    "                                             y_min=sm_img[1],\n",
    "                                             x_max=sm_img[2],\n",
    "                                             y_max=sm_img[3],\n",
    "                                             cols=sm_img[4],\n",
    "                                             rows=sm_img[5],\n",
    "                                             parent_img=img_metadata)\n",
    "\n",
    "        if shard_metadata is None:\n",
    "            continue\n",
    "\n",
    "        bboxes = extract.compute_bboxes(img_metadata=shard_metadata)\n",
    "        shard_metadata.bboxes = bboxes\n",
    "        reddit_images.append(shard_metadata)"
   ]
  },
  {
   "cell_type": "markdown",
   "id": "b85519e0-e5d7-4d04-9d14-d8a79df43984",
   "metadata": {
    "id": "b85519e0-e5d7-4d04-9d14-d8a79df43984"
   },
   "source": [
    "Finally, now that we have all of the VTT and image object detection metadata computed for the original images and/or shards, we can join the two dataframes together into one. As part of this process, we also want to reindex the resulting dataframe so that it uses the UIDs we calculated instead of the automatically generated indices."
   ]
  },
  {
   "cell_type": "code",
   "execution_count": 21,
   "id": "d4d21b1c-95ec-40e4-89d9-011a06684e33",
   "metadata": {
    "id": "d4d21b1c-95ec-40e4-89d9-011a06684e33"
   },
   "outputs": [
    {
     "name": "stdout",
     "output_type": "stream",
     "text": [
      "115\n"
     ]
    }
   ],
   "source": [
    "print(len(reddit_images))"
   ]
  },
  {
   "cell_type": "markdown",
   "id": "0fb38256-b45c-4e32-a032-5c8bee3b2e0d",
   "metadata": {
    "id": "0fb38256-b45c-4e32-a032-5c8bee3b2e0d"
   },
   "source": [
    "## Store the images in Google Cloud Storage\n",
    "\n",
    "Now that we've created the image shards, we can begin uploading the images to Google Cloud Storage. We'll need to have a Storage bucket already created for this next cell of code."
   ]
  },
  {
   "cell_type": "code",
   "execution_count": null,
   "id": "93ae7518-8fad-48bc-acb9-78a4320bff57",
   "metadata": {
    "tags": []
   },
   "outputs": [],
   "source": [
    "help(store_image_gcs)"
   ]
  },
  {
   "cell_type": "code",
   "execution_count": 22,
   "id": "077f5105-81e0-4b77-aa8d-3c8bec170a39",
   "metadata": {
    "id": "077f5105-81e0-4b77-aa8d-3c8bec170a39"
   },
   "outputs": [],
   "source": [
    "BUCKET = 'fantasy-maps'\n",
    "for img in reddit_images:\n",
    "    gcs_uri = store_image_gcs(project_id=PROJECT_ID, img_metadata=img,\n",
    "                                bucket_name=BUCKET, prefix=\"FantasyMapsTest\")\n",
    "    img.gcs_uri = gcs_uri"
   ]
  },
  {
   "cell_type": "markdown",
   "id": "bb433af9-3674-4483-91fc-930ff6e71903",
   "metadata": {
    "id": "bb433af9-3674-4483-91fc-930ff6e71903"
   },
   "source": [
    "## Store the metadata in Firestore\n",
    "\n",
    "Next we're going to store all of this metadata and URI in Firestore. The benefit of using Firestore is that the fields with JSON-formatted strings-`VTT` and `BBoxes` will automatically be translated into the correct document structure in Firestore after they've been upserted."
   ]
  },
  {
   "cell_type": "markdown",
   "id": "35825de1-8209-48ed-9f09-472f97da92d3",
   "metadata": {
    "id": "35825de1-8209-48ed-9f09-472f97da92d3"
   },
   "source": [
    "Very, very last step: iterate over all the training data and store the metadata in the Firestore collection."
   ]
  },
  {
   "cell_type": "code",
   "execution_count": 23,
   "id": "c7968e57-2a80-45cf-bd38-495c273be909",
   "metadata": {
    "id": "c7968e57-2a80-45cf-bd38-495c273be909"
   },
   "outputs": [],
   "source": [
    "COLLECTION_NAME = 'FantasyMaps2'\n",
    "for img in reddit_images:\n",
    "    store_metadata_fs(project_id=PROJECT_ID, img_metadata=img,\n",
    "                      collection_name=COLLECTION_NAME)\n"
   ]
  },
  {
   "cell_type": "markdown",
   "id": "99950d94-57cc-47c7-85d4-093593f7c972",
   "metadata": {
    "id": "99950d94-57cc-47c7-85d4-093593f7c972"
   },
   "source": [
    "## Check the results of the metadata creation\n",
    "\n",
    "Now that (hopefully) all of the image metadata has been added to the Firestore collection, we can review the data to ensure that it is correct.\n",
    "\n",
    "To do this, we'll review the documents stored in the Firestore collection to verify that it has all the data we need--the VTT data, bounding boxes, and the GCS URI of the image."
   ]
  },
  {
   "cell_type": "code",
   "execution_count": 25,
   "id": "23c6764f-3f31-40bb-8361-3ce6bd17c9bb",
   "metadata": {
    "id": "23c6764f-3f31-40bb-8361-3ce6bd17c9bb"
   },
   "outputs": [],
   "source": [
    "client = firestore.Client(project=PROJECT_ID)\n",
    "collection = client.collection(COLLECTION_NAME)\n",
    "\n",
    "docs = collection.where(\"bboxes\", \"!=\", \"\").select(field_paths=[\n",
    "    \"gcs_uri\", \"filename\", \"vtt\", \"parent_uid\"]).stream()"
   ]
  },
  {
   "cell_type": "markdown",
   "id": "4cee72d1-da57-4383-aab8-7b236302e556",
   "metadata": {
    "id": "4cee72d1-da57-4383-aab8-7b236302e556"
   },
   "source": [
    "With this Firestore query, we can verify the image metadata against the stored image in the Storage bucket. We'll first take the results of this query, compose it into a `pandas.DataFrame` object, and then print it out to the cell output. We can first take a look at the parent map (assuming that the map has been sharded) and then conclude whether the map and all its shards should be removed from the training set."
   ]
  },
  {
   "cell_type": "code",
   "execution_count": 27,
   "id": "e31b72c5-ad31-42df-8808-2f6239eb4618",
   "metadata": {
    "id": "e31b72c5-ad31-42df-8808-2f6239eb4618"
   },
   "outputs": [],
   "source": [
    "docs_list = ((d.to_dict(), d.id) for d in docs)\n",
    "docs_df = pd.DataFrame()\n",
    "for i, d in enumerate(docs_list):\n",
    "    d_dict = d[0]\n",
    "    vtt = d_dict[\"vtt\"]\n",
    "    d_dict[\"vtt\"] = json.dumps(vtt)\n",
    "    d_dict[\"uid\"] = d[1]\n",
    "    docs_df = pd.concat([docs_df, pd.DataFrame(data=d_dict, index=[0])], ignore_index=True)"
   ]
  },
  {
   "cell_type": "code",
   "execution_count": 28,
   "id": "8df91b96-0a22-4a11-b3e0-80d05feff74f",
   "metadata": {
    "id": "8df91b96-0a22-4a11-b3e0-80d05feff74f"
   },
   "outputs": [
    {
     "data": {
      "text/html": [
       "<div>\n",
       "<style scoped>\n",
       "    .dataframe tbody tr th:only-of-type {\n",
       "        vertical-align: middle;\n",
       "    }\n",
       "\n",
       "    .dataframe tbody tr th {\n",
       "        vertical-align: top;\n",
       "    }\n",
       "\n",
       "    .dataframe thead th {\n",
       "        text-align: right;\n",
       "    }\n",
       "</style>\n",
       "<table border=\"1\" class=\"dataframe\">\n",
       "  <thead>\n",
       "    <tr style=\"text-align: right;\">\n",
       "      <th></th>\n",
       "      <th>filename</th>\n",
       "      <th>gcs_uri</th>\n",
       "      <th>parent_uid</th>\n",
       "    </tr>\n",
       "    <tr>\n",
       "      <th>uid</th>\n",
       "      <th></th>\n",
       "      <th></th>\n",
       "      <th></th>\n",
       "    </tr>\n",
       "  </thead>\n",
       "  <tbody>\n",
       "    <tr>\n",
       "      <th>1eff1c4e52adba942c719fe30daaf820684da683</th>\n",
       "      <td>nephalia_port_town.32x56.jpg</td>\n",
       "      <td>gs://fantasy-maps/FantasyMapsTest/nephalia_por...</td>\n",
       "      <td>NaN</td>\n",
       "    </tr>\n",
       "    <tr>\n",
       "      <th>23af0ee24b932fad8dac020de678cca76021c6c1</th>\n",
       "      <td>frozen_caverns_free_map_more_hd.57x82.jpg</td>\n",
       "      <td>gs://fantasy-maps/FantasyMapsTest/frozen_caver...</td>\n",
       "      <td>NaN</td>\n",
       "    </tr>\n",
       "    <tr>\n",
       "      <th>259cf5bb799baf15790534d41e71c7773f8a0eb7</th>\n",
       "      <td>tsolenka_pass_iii_curse_strahd_animated.32x18.jpg</td>\n",
       "      <td>gs://fantasy-maps/FantasyMapsTest/tsolenka_pas...</td>\n",
       "      <td>NaN</td>\n",
       "    </tr>\n",
       "    <tr>\n",
       "      <th>2936d487ac34d309563e47cf03fca301abc7c8df</th>\n",
       "      <td>mordhin_memorial.40x40.jpg</td>\n",
       "      <td>gs://fantasy-maps/FantasyMapsTest/mordhin_memo...</td>\n",
       "      <td>NaN</td>\n",
       "    </tr>\n",
       "    <tr>\n",
       "      <th>38d4408fd12a17e9382d219f7fdb7d1c34b52da1</th>\n",
       "      <td>tsolenka_pass_iv_curse_strahd_animated.32x18.jpg</td>\n",
       "      <td>gs://fantasy-maps/FantasyMapsTest/tsolenka_pas...</td>\n",
       "      <td>NaN</td>\n",
       "    </tr>\n",
       "    <tr>\n",
       "      <th>4653b32134cebfd0f0eadcd848a289ea135e4914</th>\n",
       "      <td>winter_wonderland_fey_ballroom_night_.38x56.jpg</td>\n",
       "      <td>gs://fantasy-maps/FantasyMapsTest/winter_wonde...</td>\n",
       "      <td>NaN</td>\n",
       "    </tr>\n",
       "    <tr>\n",
       "      <th>4f6aa901d0ecd2e01aa08cb240b04204215fdfdf</th>\n",
       "      <td>winter_solstice_feast_vikings_hall_.18x28.jpg</td>\n",
       "      <td>gs://fantasy-maps/FantasyMapsTest/winter_solst...</td>\n",
       "      <td>NaN</td>\n",
       "    </tr>\n",
       "    <tr>\n",
       "      <th>4f6ed9f919188bbba8cc344e23dc9a9e796f91bd</th>\n",
       "      <td>tsolenka_pass_v_curse_strahd_animated.32x18.jpg</td>\n",
       "      <td>gs://fantasy-maps/FantasyMapsTest/tsolenka_pas...</td>\n",
       "      <td>NaN</td>\n",
       "    </tr>\n",
       "    <tr>\n",
       "      <th>502067f9ecdc34a7047180ff6107c75a796cb53a</th>\n",
       "      <td>forgotten_king_tomb_40x100_battle_map.40x100.jpg</td>\n",
       "      <td>gs://fantasy-maps/FantasyMapsTest/forgotten_ki...</td>\n",
       "      <td>NaN</td>\n",
       "    </tr>\n",
       "    <tr>\n",
       "      <th>52bd1dd7b62da83e41f2964fd79687c478b76392</th>\n",
       "      <td>river_guard_battle_map.30x80.jpg</td>\n",
       "      <td>gs://fantasy-maps/FantasyMapsTest/river_guard_...</td>\n",
       "      <td>NaN</td>\n",
       "    </tr>\n",
       "  </tbody>\n",
       "</table>\n",
       "</div>"
      ],
      "text/plain": [
       "                                                                                   filename  \\\n",
       "uid                                                                                           \n",
       "1eff1c4e52adba942c719fe30daaf820684da683                       nephalia_port_town.32x56.jpg   \n",
       "23af0ee24b932fad8dac020de678cca76021c6c1          frozen_caverns_free_map_more_hd.57x82.jpg   \n",
       "259cf5bb799baf15790534d41e71c7773f8a0eb7  tsolenka_pass_iii_curse_strahd_animated.32x18.jpg   \n",
       "2936d487ac34d309563e47cf03fca301abc7c8df                         mordhin_memorial.40x40.jpg   \n",
       "38d4408fd12a17e9382d219f7fdb7d1c34b52da1   tsolenka_pass_iv_curse_strahd_animated.32x18.jpg   \n",
       "4653b32134cebfd0f0eadcd848a289ea135e4914    winter_wonderland_fey_ballroom_night_.38x56.jpg   \n",
       "4f6aa901d0ecd2e01aa08cb240b04204215fdfdf      winter_solstice_feast_vikings_hall_.18x28.jpg   \n",
       "4f6ed9f919188bbba8cc344e23dc9a9e796f91bd    tsolenka_pass_v_curse_strahd_animated.32x18.jpg   \n",
       "502067f9ecdc34a7047180ff6107c75a796cb53a   forgotten_king_tomb_40x100_battle_map.40x100.jpg   \n",
       "52bd1dd7b62da83e41f2964fd79687c478b76392                   river_guard_battle_map.30x80.jpg   \n",
       "\n",
       "                                                                                    gcs_uri  \\\n",
       "uid                                                                                           \n",
       "1eff1c4e52adba942c719fe30daaf820684da683  gs://fantasy-maps/FantasyMapsTest/nephalia_por...   \n",
       "23af0ee24b932fad8dac020de678cca76021c6c1  gs://fantasy-maps/FantasyMapsTest/frozen_caver...   \n",
       "259cf5bb799baf15790534d41e71c7773f8a0eb7  gs://fantasy-maps/FantasyMapsTest/tsolenka_pas...   \n",
       "2936d487ac34d309563e47cf03fca301abc7c8df  gs://fantasy-maps/FantasyMapsTest/mordhin_memo...   \n",
       "38d4408fd12a17e9382d219f7fdb7d1c34b52da1  gs://fantasy-maps/FantasyMapsTest/tsolenka_pas...   \n",
       "4653b32134cebfd0f0eadcd848a289ea135e4914  gs://fantasy-maps/FantasyMapsTest/winter_wonde...   \n",
       "4f6aa901d0ecd2e01aa08cb240b04204215fdfdf  gs://fantasy-maps/FantasyMapsTest/winter_solst...   \n",
       "4f6ed9f919188bbba8cc344e23dc9a9e796f91bd  gs://fantasy-maps/FantasyMapsTest/tsolenka_pas...   \n",
       "502067f9ecdc34a7047180ff6107c75a796cb53a  gs://fantasy-maps/FantasyMapsTest/forgotten_ki...   \n",
       "52bd1dd7b62da83e41f2964fd79687c478b76392  gs://fantasy-maps/FantasyMapsTest/river_guard_...   \n",
       "\n",
       "                                         parent_uid  \n",
       "uid                                                  \n",
       "1eff1c4e52adba942c719fe30daaf820684da683        NaN  \n",
       "23af0ee24b932fad8dac020de678cca76021c6c1        NaN  \n",
       "259cf5bb799baf15790534d41e71c7773f8a0eb7        NaN  \n",
       "2936d487ac34d309563e47cf03fca301abc7c8df        NaN  \n",
       "38d4408fd12a17e9382d219f7fdb7d1c34b52da1        NaN  \n",
       "4653b32134cebfd0f0eadcd848a289ea135e4914        NaN  \n",
       "4f6aa901d0ecd2e01aa08cb240b04204215fdfdf        NaN  \n",
       "4f6ed9f919188bbba8cc344e23dc9a9e796f91bd        NaN  \n",
       "502067f9ecdc34a7047180ff6107c75a796cb53a        NaN  \n",
       "52bd1dd7b62da83e41f2964fd79687c478b76392        NaN  "
      ]
     },
     "execution_count": 28,
     "metadata": {},
     "output_type": "execute_result"
    }
   ],
   "source": [
    "docs_df.set_index(\"uid\", inplace=True)\n",
    "check_set_df = docs_df[[\"filename\", \"gcs_uri\", \"parent_uid\"]]\n",
    "check_set_df.head(10)"
   ]
  },
  {
   "cell_type": "markdown",
   "id": "93a96aef-5fdd-427f-8f0d-aeec42d99cb4",
   "metadata": {
    "id": "93a96aef-5fdd-427f-8f0d-aeec42d99cb4"
   },
   "source": [
    "Not everyone on Reddit follows the same conventions. Sometimes, there might be be a post where there are dimensions mentioned in the post (e.g. \"50x40\"), but the image doesn't actually have gridlines.\n",
    "\n",
    "We shouldn't allow these images into the training and test dataset for our model. Unfortunately, we have to review the images that we've collected on GCS and then verify that they do (or don't!) have gridlines visually.\n",
    "\n",
    "\n",
    "We'll start by printing out the entirety of our `DataFrame`."
   ]
  },
  {
   "cell_type": "code",
   "execution_count": 29,
   "id": "81703224-47d9-4d86-95c7-928241e2461f",
   "metadata": {
    "id": "81703224-47d9-4d86-95c7-928241e2461f"
   },
   "outputs": [
    {
     "name": "stderr",
     "output_type": "stream",
     "text": [
      "/tmp/ipykernel_1/1771252515.py:2: SettingWithCopyWarning: \n",
      "A value is trying to be set on a copy of a slice from a DataFrame\n",
      "\n",
      "See the caveats in the documentation: https://pandas.pydata.org/pandas-docs/stable/user_guide/indexing.html#returning-a-view-versus-a-copy\n",
      "  check_set_df.sort_values(by=\"filename\", ascending=True, inplace=True)\n"
     ]
    },
    {
     "data": {
      "text/html": [
       "<div>\n",
       "<style scoped>\n",
       "    .dataframe tbody tr th:only-of-type {\n",
       "        vertical-align: middle;\n",
       "    }\n",
       "\n",
       "    .dataframe tbody tr th {\n",
       "        vertical-align: top;\n",
       "    }\n",
       "\n",
       "    .dataframe thead th {\n",
       "        text-align: right;\n",
       "    }\n",
       "</style>\n",
       "<table border=\"1\" class=\"dataframe\">\n",
       "  <thead>\n",
       "    <tr style=\"text-align: right;\">\n",
       "      <th></th>\n",
       "      <th>filename</th>\n",
       "      <th>gcs_uri</th>\n",
       "      <th>parent_uid</th>\n",
       "    </tr>\n",
       "    <tr>\n",
       "      <th>uid</th>\n",
       "      <th></th>\n",
       "      <th></th>\n",
       "      <th></th>\n",
       "    </tr>\n",
       "  </thead>\n",
       "  <tbody>\n",
       "    <tr>\n",
       "      <th>c02113c8c4f50faf141ba53129836c277f421b44</th>\n",
       "      <td>bandit_camp_ravine_part.0_2240.15x15.22x34.jpg</td>\n",
       "      <td>gs://fantasy-maps/FantasyMapsTest/bandit_camp_...</td>\n",
       "      <td>04debbbd5aaa4b4e498fcb0e1ceee1b2d542ef40</td>\n",
       "    </tr>\n",
       "    <tr>\n",
       "      <th>c53292009a9b6edc4373d7d89cb9ac1cfd3bbc5b</th>\n",
       "      <td>bandit_camp_ravine_part.560_2100.15x15.22x34.jpg</td>\n",
       "      <td>gs://fantasy-maps/FantasyMapsTest/bandit_camp_...</td>\n",
       "      <td>04debbbd5aaa4b4e498fcb0e1ceee1b2d542ef40</td>\n",
       "    </tr>\n",
       "    <tr>\n",
       "      <th>2c246bc4e3db9ae23e7283b2eff1dd4339d54a81</th>\n",
       "      <td>bandit_camp_ravine_part.980_1540.15x15.22x34.jpg</td>\n",
       "      <td>gs://fantasy-maps/FantasyMapsTest/bandit_camp_...</td>\n",
       "      <td>04debbbd5aaa4b4e498fcb0e1ceee1b2d542ef40</td>\n",
       "    </tr>\n",
       "    <tr>\n",
       "      <th>3eae006c7aa9c17f0e4c111d9cb279e408974fd9</th>\n",
       "      <td>candy_cane_knoll.16x22.jpg</td>\n",
       "      <td>gs://fantasy-maps/FantasyMapsTest/candy_cane_k...</td>\n",
       "      <td>NaN</td>\n",
       "    </tr>\n",
       "    <tr>\n",
       "      <th>fe49db70b3e37ea4b2b89622a6eb64a213c74bc3</th>\n",
       "      <td>cliffside_beach_battle_map.200_500.15x15.30x40...</td>\n",
       "      <td>gs://fantasy-maps/FantasyMapsTest/cliffside_be...</td>\n",
       "      <td>98cfb16c9250a9926c94a7961eb54eebc658192b</td>\n",
       "    </tr>\n",
       "    <tr>\n",
       "      <th>98cfb16c9250a9926c94a7961eb54eebc658192b</th>\n",
       "      <td>cliffside_beach_battle_map.30x40.jpg</td>\n",
       "      <td>gs://fantasy-maps/FantasyMapsTest/cliffside_be...</td>\n",
       "      <td>NaN</td>\n",
       "    </tr>\n",
       "    <tr>\n",
       "      <th>d63c70bea549942acec9376cc1c33de2aef60fb8</th>\n",
       "      <td>cliffside_beach_battle_map.400_300.15x15.30x40...</td>\n",
       "      <td>gs://fantasy-maps/FantasyMapsTest/cliffside_be...</td>\n",
       "      <td>98cfb16c9250a9926c94a7961eb54eebc658192b</td>\n",
       "    </tr>\n",
       "    <tr>\n",
       "      <th>1efe35d1a7954603b7eb3a4f91499ac71211b4fa</th>\n",
       "      <td>cliffside_beach_battle_map.750_450.15x15.30x40...</td>\n",
       "      <td>gs://fantasy-maps/FantasyMapsTest/cliffside_be...</td>\n",
       "      <td>98cfb16c9250a9926c94a7961eb54eebc658192b</td>\n",
       "    </tr>\n",
       "    <tr>\n",
       "      <th>ac307d84b7467bd122dc46393613e5ca99669a35</th>\n",
       "      <td>crystals.102_380.15x15.30x22.jpg</td>\n",
       "      <td>gs://fantasy-maps/FantasyMapsTest/crystals.102...</td>\n",
       "      <td>c0e58bffc60ba929424b2dbb916bbbe8fe5caa72</td>\n",
       "    </tr>\n",
       "    <tr>\n",
       "      <th>6497da9b7f1c1a9e717aec5806becbc1d53a487e</th>\n",
       "      <td>crystals.1428_190.15x15.30x22.jpg</td>\n",
       "      <td>gs://fantasy-maps/FantasyMapsTest/crystals.142...</td>\n",
       "      <td>c0e58bffc60ba929424b2dbb916bbbe8fe5caa72</td>\n",
       "    </tr>\n",
       "    <tr>\n",
       "      <th>c0e58bffc60ba929424b2dbb916bbbe8fe5caa72</th>\n",
       "      <td>crystals.30x22.jpg</td>\n",
       "      <td>gs://fantasy-maps/FantasyMapsTest/crystals.30x...</td>\n",
       "      <td>NaN</td>\n",
       "    </tr>\n",
       "    <tr>\n",
       "      <th>9d1e4422badbd48432fa64c718ce478db75c36ca</th>\n",
       "      <td>crystals.408_760.15x15.30x22.jpg</td>\n",
       "      <td>gs://fantasy-maps/FantasyMapsTest/crystals.408...</td>\n",
       "      <td>c0e58bffc60ba929424b2dbb916bbbe8fe5caa72</td>\n",
       "    </tr>\n",
       "    <tr>\n",
       "      <th>5177b5dc31f39d4637e1484b3e2285a2d9e4bf3f</th>\n",
       "      <td>dragonhead_inn.22x16.jpg</td>\n",
       "      <td>gs://fantasy-maps/FantasyMapsTest/dragonhead_i...</td>\n",
       "      <td>NaN</td>\n",
       "    </tr>\n",
       "    <tr>\n",
       "      <th>90de32f600b3651585dbbab015f6ffe95fe64db4</th>\n",
       "      <td>dread_maps_blackbriar_manor_basement_levels.20...</td>\n",
       "      <td>gs://fantasy-maps/FantasyMapsTest/dread_maps_b...</td>\n",
       "      <td>NaN</td>\n",
       "    </tr>\n",
       "    <tr>\n",
       "      <th>7cf53d1f2a0f085a0022cfd44c1ae74a5969c006</th>\n",
       "      <td>erm_way_💀_skull_climb.18x22.jpg</td>\n",
       "      <td>gs://fantasy-maps/FantasyMapsTest/erm_way_💀_sk...</td>\n",
       "      <td>NaN</td>\n",
       "    </tr>\n",
       "    <tr>\n",
       "      <th>b7d264b9a51c777387609b477b64fd78996b0a09</th>\n",
       "      <td>forgotten_king_tomb_40x100_battle_map.1000_640...</td>\n",
       "      <td>gs://fantasy-maps/FantasyMapsTest/forgotten_ki...</td>\n",
       "      <td>502067f9ecdc34a7047180ff6107c75a796cb53a</td>\n",
       "    </tr>\n",
       "    <tr>\n",
       "      <th>03fcfd65732a4e173960c3bce9a95df169dc7c58</th>\n",
       "      <td>forgotten_king_tomb_40x100_battle_map.360_3320...</td>\n",
       "      <td>gs://fantasy-maps/FantasyMapsTest/forgotten_ki...</td>\n",
       "      <td>502067f9ecdc34a7047180ff6107c75a796cb53a</td>\n",
       "    </tr>\n",
       "    <tr>\n",
       "      <th>fc53c9ba415fdf62c49f3195bf6a09523cfec874</th>\n",
       "      <td>forgotten_king_tomb_40x100_battle_map.40_600.1...</td>\n",
       "      <td>gs://fantasy-maps/FantasyMapsTest/forgotten_ki...</td>\n",
       "      <td>502067f9ecdc34a7047180ff6107c75a796cb53a</td>\n",
       "    </tr>\n",
       "    <tr>\n",
       "      <th>502067f9ecdc34a7047180ff6107c75a796cb53a</th>\n",
       "      <td>forgotten_king_tomb_40x100_battle_map.40x100.jpg</td>\n",
       "      <td>gs://fantasy-maps/FantasyMapsTest/forgotten_ki...</td>\n",
       "      <td>NaN</td>\n",
       "    </tr>\n",
       "    <tr>\n",
       "      <th>c4a7773527e8c7a1dfe897fc6b17f96b98d04c5e</th>\n",
       "      <td>frozen_caverns_free_map_more_hd.0_1554.15x15.5...</td>\n",
       "      <td>gs://fantasy-maps/FantasyMapsTest/frozen_caver...</td>\n",
       "      <td>23af0ee24b932fad8dac020de678cca76021c6c1</td>\n",
       "    </tr>\n",
       "    <tr>\n",
       "      <th>b366903c0af0efd2da182495f0d902d6484fe322</th>\n",
       "      <td>frozen_caverns_free_map_more_hd.2072_4662.15x1...</td>\n",
       "      <td>gs://fantasy-maps/FantasyMapsTest/frozen_caver...</td>\n",
       "      <td>23af0ee24b932fad8dac020de678cca76021c6c1</td>\n",
       "    </tr>\n",
       "    <tr>\n",
       "      <th>47ed9f0de20eb29806e56f383067449ce7d7711b</th>\n",
       "      <td>frozen_caverns_free_map_more_hd.2220_222.15x15...</td>\n",
       "      <td>gs://fantasy-maps/FantasyMapsTest/frozen_caver...</td>\n",
       "      <td>23af0ee24b932fad8dac020de678cca76021c6c1</td>\n",
       "    </tr>\n",
       "    <tr>\n",
       "      <th>23af0ee24b932fad8dac020de678cca76021c6c1</th>\n",
       "      <td>frozen_caverns_free_map_more_hd.57x82.jpg</td>\n",
       "      <td>gs://fantasy-maps/FantasyMapsTest/frozen_caver...</td>\n",
       "      <td>NaN</td>\n",
       "    </tr>\n",
       "    <tr>\n",
       "      <th>fb9839433b487ed3277408bfcc237576e9fb47e6</th>\n",
       "      <td>husk_terminal_jormara_25x35.0_306.15x15.25x35.jpg</td>\n",
       "      <td>gs://fantasy-maps/FantasyMapsTest/husk_termina...</td>\n",
       "      <td>cd35b6bbee2065816808517b926c448a6349d285</td>\n",
       "    </tr>\n",
       "    <tr>\n",
       "      <th>842b20c9793609ebf5d38f09ab4032a5719c5ef4</th>\n",
       "      <td>husk_terminal_jormara_25x35.230_408.15x15.25x3...</td>\n",
       "      <td>gs://fantasy-maps/FantasyMapsTest/husk_termina...</td>\n",
       "      <td>cd35b6bbee2065816808517b926c448a6349d285</td>\n",
       "    </tr>\n",
       "    <tr>\n",
       "      <th>cd35b6bbee2065816808517b926c448a6349d285</th>\n",
       "      <td>husk_terminal_jormara_25x35.25x35.jpg</td>\n",
       "      <td>gs://fantasy-maps/FantasyMapsTest/husk_termina...</td>\n",
       "      <td>NaN</td>\n",
       "    </tr>\n",
       "    <tr>\n",
       "      <th>c515cb1c7948b3e958e7e1212bdaedc9e539586e</th>\n",
       "      <td>husk_terminal_jormara_25x35.322_153.15x15.25x3...</td>\n",
       "      <td>gs://fantasy-maps/FantasyMapsTest/husk_termina...</td>\n",
       "      <td>cd35b6bbee2065816808517b926c448a6349d285</td>\n",
       "    </tr>\n",
       "    <tr>\n",
       "      <th>e9a51060ae1d80309c5e7f901c932925ce41a81e</th>\n",
       "      <td>magical_deepfrosted_library__ori_carto.144_108...</td>\n",
       "      <td>gs://fantasy-maps/FantasyMapsTest/magical_deep...</td>\n",
       "      <td>a2e0e2cf4f6058eb3c7d973536b5fbd5451bd2ec</td>\n",
       "    </tr>\n",
       "    <tr>\n",
       "      <th>a2e0e2cf4f6058eb3c7d973536b5fbd5451bd2ec</th>\n",
       "      <td>magical_deepfrosted_library__ori_carto.24x36.jpg</td>\n",
       "      <td>gs://fantasy-maps/FantasyMapsTest/magical_deep...</td>\n",
       "      <td>NaN</td>\n",
       "    </tr>\n",
       "    <tr>\n",
       "      <th>f860f7fb6f2a041b78a44b089edeb2a5fcf66e97</th>\n",
       "      <td>magical_deepfrosted_library__ori_carto.648_432...</td>\n",
       "      <td>gs://fantasy-maps/FantasyMapsTest/magical_deep...</td>\n",
       "      <td>a2e0e2cf4f6058eb3c7d973536b5fbd5451bd2ec</td>\n",
       "    </tr>\n",
       "    <tr>\n",
       "      <th>1f720cce4cc240674fcad59ef7a2c840805d3651</th>\n",
       "      <td>magical_deepfrosted_library__ori_carto.648_864...</td>\n",
       "      <td>gs://fantasy-maps/FantasyMapsTest/magical_deep...</td>\n",
       "      <td>a2e0e2cf4f6058eb3c7d973536b5fbd5451bd2ec</td>\n",
       "    </tr>\n",
       "    <tr>\n",
       "      <th>b1b53833a7a92bbf8a862cd6853788fe01b49d68</th>\n",
       "      <td>modern_manufacturing_plant.1825_1825.15x15.44x...</td>\n",
       "      <td>gs://fantasy-maps/FantasyMapsTest/modern_manuf...</td>\n",
       "      <td>89dbf4c4fbb23c8f508bf66c5c425cabdc750023</td>\n",
       "    </tr>\n",
       "    <tr>\n",
       "      <th>773b0f542b8666800730938f200fa64d2c6d1c84</th>\n",
       "      <td>modern_manufacturing_plant.365_1606.15x15.44x6...</td>\n",
       "      <td>gs://fantasy-maps/FantasyMapsTest/modern_manuf...</td>\n",
       "      <td>89dbf4c4fbb23c8f508bf66c5c425cabdc750023</td>\n",
       "    </tr>\n",
       "    <tr>\n",
       "      <th>89dbf4c4fbb23c8f508bf66c5c425cabdc750023</th>\n",
       "      <td>modern_manufacturing_plant.44x68.jpg</td>\n",
       "      <td>gs://fantasy-maps/FantasyMapsTest/modern_manuf...</td>\n",
       "      <td>NaN</td>\n",
       "    </tr>\n",
       "    <tr>\n",
       "      <th>d8005afe21deffcddea01999a2194afdec90f8e1</th>\n",
       "      <td>modern_manufacturing_plant.584_2409.15x15.44x6...</td>\n",
       "      <td>gs://fantasy-maps/FantasyMapsTest/modern_manuf...</td>\n",
       "      <td>89dbf4c4fbb23c8f508bf66c5c425cabdc750023</td>\n",
       "    </tr>\n",
       "    <tr>\n",
       "      <th>04863054ae5563276de9b38dc78306dff7635519</th>\n",
       "      <td>mordhin_memorial.100_2500.15x15.40x40.jpg</td>\n",
       "      <td>gs://fantasy-maps/FantasyMapsTest/mordhin_memo...</td>\n",
       "      <td>2936d487ac34d309563e47cf03fca301abc7c8df</td>\n",
       "    </tr>\n",
       "    <tr>\n",
       "      <th>0a67f0e57b11d507c8e1bdda9fefff5e973bf3ef</th>\n",
       "      <td>mordhin_memorial.1100_1200.15x15.40x40.jpg</td>\n",
       "      <td>gs://fantasy-maps/FantasyMapsTest/mordhin_memo...</td>\n",
       "      <td>2936d487ac34d309563e47cf03fca301abc7c8df</td>\n",
       "    </tr>\n",
       "    <tr>\n",
       "      <th>1f5de137ca9cfb835ce69821eea8c717a4143499</th>\n",
       "      <td>mordhin_memorial.1200_200.15x15.40x40.jpg</td>\n",
       "      <td>gs://fantasy-maps/FantasyMapsTest/mordhin_memo...</td>\n",
       "      <td>2936d487ac34d309563e47cf03fca301abc7c8df</td>\n",
       "    </tr>\n",
       "    <tr>\n",
       "      <th>2936d487ac34d309563e47cf03fca301abc7c8df</th>\n",
       "      <td>mordhin_memorial.40x40.jpg</td>\n",
       "      <td>gs://fantasy-maps/FantasyMapsTest/mordhin_memo...</td>\n",
       "      <td>NaN</td>\n",
       "    </tr>\n",
       "    <tr>\n",
       "      <th>ad9933b798d565984e0a8742ca196f826f922729</th>\n",
       "      <td>more_map_stor_helnit_pass.1260_0.15x15.30x20.jpg</td>\n",
       "      <td>gs://fantasy-maps/FantasyMapsTest/more_map_sto...</td>\n",
       "      <td>b4272bf1f62375938f0119d75e10eca5da8fedbd</td>\n",
       "    </tr>\n",
       "    <tr>\n",
       "      <th>b4272bf1f62375938f0119d75e10eca5da8fedbd</th>\n",
       "      <td>more_map_stor_helnit_pass.30x20.jpg</td>\n",
       "      <td>gs://fantasy-maps/FantasyMapsTest/more_map_sto...</td>\n",
       "      <td>NaN</td>\n",
       "    </tr>\n",
       "    <tr>\n",
       "      <th>b2ca8429a0d11072c005e2dc3c780b2e183dcee0</th>\n",
       "      <td>more_map_stor_helnit_pass.560_483.15x15.30x20.jpg</td>\n",
       "      <td>gs://fantasy-maps/FantasyMapsTest/more_map_sto...</td>\n",
       "      <td>b4272bf1f62375938f0119d75e10eca5da8fedbd</td>\n",
       "    </tr>\n",
       "    <tr>\n",
       "      <th>f5ba84659d4dbe00c5ea691ed74a5d4ea98cd784</th>\n",
       "      <td>more_map_stor_helnit_pass.980_161.15x15.30x20.jpg</td>\n",
       "      <td>gs://fantasy-maps/FantasyMapsTest/more_map_sto...</td>\n",
       "      <td>b4272bf1f62375938f0119d75e10eca5da8fedbd</td>\n",
       "    </tr>\n",
       "    <tr>\n",
       "      <th>3fa2633dc8d0df8ead640c164d488f69e1e4a65f</th>\n",
       "      <td>nephalia_port_town.1050_5100.15x15.32x56.jpg</td>\n",
       "      <td>gs://fantasy-maps/FantasyMapsTest/nephalia_por...</td>\n",
       "      <td>1eff1c4e52adba942c719fe30daaf820684da683</td>\n",
       "    </tr>\n",
       "    <tr>\n",
       "      <th>1f3f4de7999bc14b28ae1456f0c53f498dad235d</th>\n",
       "      <td>nephalia_port_town.1800_2100.15x15.32x56.jpg</td>\n",
       "      <td>gs://fantasy-maps/FantasyMapsTest/nephalia_por...</td>\n",
       "      <td>1eff1c4e52adba942c719fe30daaf820684da683</td>\n",
       "    </tr>\n",
       "    <tr>\n",
       "      <th>d504c4a09c26722218d6655ecd52107f9b78e3d5</th>\n",
       "      <td>nephalia_port_town.2100_1950.15x15.32x56.jpg</td>\n",
       "      <td>gs://fantasy-maps/FantasyMapsTest/nephalia_por...</td>\n",
       "      <td>1eff1c4e52adba942c719fe30daaf820684da683</td>\n",
       "    </tr>\n",
       "    <tr>\n",
       "      <th>1eff1c4e52adba942c719fe30daaf820684da683</th>\n",
       "      <td>nephalia_port_town.32x56.jpg</td>\n",
       "      <td>gs://fantasy-maps/FantasyMapsTest/nephalia_por...</td>\n",
       "      <td>NaN</td>\n",
       "    </tr>\n",
       "    <tr>\n",
       "      <th>b834e3773a406c0aff3b5ad577ad1ec8c9e9613a</th>\n",
       "      <td>orc_hideout_cavern_battle_map.1530_1155.15x15....</td>\n",
       "      <td>gs://fantasy-maps/FantasyMapsTest/orc_hideout_...</td>\n",
       "      <td>b5f74006e0d6d88d0ee13893940b431c5c80e982</td>\n",
       "    </tr>\n",
       "    <tr>\n",
       "      <th>a6547dcdd4dda77984c9d51dca3a2709a84b8e17</th>\n",
       "      <td>orc_hideout_cavern_battle_map.510_1122.15x15.6...</td>\n",
       "      <td>gs://fantasy-maps/FantasyMapsTest/orc_hideout_...</td>\n",
       "      <td>b5f74006e0d6d88d0ee13893940b431c5c80e982</td>\n",
       "    </tr>\n",
       "    <tr>\n",
       "      <th>b5f74006e0d6d88d0ee13893940b431c5c80e982</th>\n",
       "      <td>orc_hideout_cavern_battle_map.60x50.jpg</td>\n",
       "      <td>gs://fantasy-maps/FantasyMapsTest/orc_hideout_...</td>\n",
       "      <td>NaN</td>\n",
       "    </tr>\n",
       "    <tr>\n",
       "      <th>b78a2f0b53d6dfe1d6db9202fca8701a601af114</th>\n",
       "      <td>orc_hideout_cavern_battle_map.646_627.15x15.60...</td>\n",
       "      <td>gs://fantasy-maps/FantasyMapsTest/orc_hideout_...</td>\n",
       "      <td>b5f74006e0d6d88d0ee13893940b431c5c80e982</td>\n",
       "    </tr>\n",
       "    <tr>\n",
       "      <th>b24d14843ae6fc009a4a80b84f76e295f199aa86</th>\n",
       "      <td>rampant_rooster_tavern_140p.0_1540.15x15.21x51...</td>\n",
       "      <td>gs://fantasy-maps/FantasyMapsTest/rampant_roos...</td>\n",
       "      <td>759d2d351ff988b2eb478e0e40bbb404165ea093</td>\n",
       "    </tr>\n",
       "    <tr>\n",
       "      <th>759d2d351ff988b2eb478e0e40bbb404165ea093</th>\n",
       "      <td>rampant_rooster_tavern_140p.21x51.jpg</td>\n",
       "      <td>gs://fantasy-maps/FantasyMapsTest/rampant_roos...</td>\n",
       "      <td>NaN</td>\n",
       "    </tr>\n",
       "    <tr>\n",
       "      <th>488880e536a8c0dbbd9c9f44da78b098972a6a77</th>\n",
       "      <td>rampant_rooster_tavern_140p.420_1260.15x15.21x...</td>\n",
       "      <td>gs://fantasy-maps/FantasyMapsTest/rampant_roos...</td>\n",
       "      <td>759d2d351ff988b2eb478e0e40bbb404165ea093</td>\n",
       "    </tr>\n",
       "    <tr>\n",
       "      <th>c247c0123de177ad4653ff6db9545539eb8c68f8</th>\n",
       "      <td>rampant_rooster_tavern_140p.420_3920.15x15.21x...</td>\n",
       "      <td>gs://fantasy-maps/FantasyMapsTest/rampant_roos...</td>\n",
       "      <td>759d2d351ff988b2eb478e0e40bbb404165ea093</td>\n",
       "    </tr>\n",
       "    <tr>\n",
       "      <th>cd1cb37214a4cca4369acbba3134368a6be7a55b</th>\n",
       "      <td>river_guard_battle_map.204_510.15x15.30x80.jpg</td>\n",
       "      <td>gs://fantasy-maps/FantasyMapsTest/river_guard_...</td>\n",
       "      <td>52bd1dd7b62da83e41f2964fd79687c478b76392</td>\n",
       "    </tr>\n",
       "    <tr>\n",
       "      <th>177c418703c23cf34364605f66fc31f3dfdfabe7</th>\n",
       "      <td>river_guard_battle_map.255_612.15x15.30x80.jpg</td>\n",
       "      <td>gs://fantasy-maps/FantasyMapsTest/river_guard_...</td>\n",
       "      <td>52bd1dd7b62da83e41f2964fd79687c478b76392</td>\n",
       "    </tr>\n",
       "    <tr>\n",
       "      <th>52bd1dd7b62da83e41f2964fd79687c478b76392</th>\n",
       "      <td>river_guard_battle_map.30x80.jpg</td>\n",
       "      <td>gs://fantasy-maps/FantasyMapsTest/river_guard_...</td>\n",
       "      <td>NaN</td>\n",
       "    </tr>\n",
       "    <tr>\n",
       "      <th>954343ec877f93fbe937757d5b1b934d8008cbf9</th>\n",
       "      <td>river_guard_battle_map.765_102.15x15.30x80.jpg</td>\n",
       "      <td>gs://fantasy-maps/FantasyMapsTest/river_guard_...</td>\n",
       "      <td>52bd1dd7b62da83e41f2964fd79687c478b76392</td>\n",
       "    </tr>\n",
       "    <tr>\n",
       "      <th>a564fc2dc1e1ce3e5e7b9b7e491f99b31b5d3542</th>\n",
       "      <td>rooms_museum.18x22.jpg</td>\n",
       "      <td>gs://fantasy-maps/FantasyMapsTest/rooms_museum...</td>\n",
       "      <td>NaN</td>\n",
       "    </tr>\n",
       "    <tr>\n",
       "      <th>675264b0ffe88d1b36672c090d4618bc1fc548a5</th>\n",
       "      <td>shipyard_oneiromancy_maps.1240_120.15x15.50x40...</td>\n",
       "      <td>gs://fantasy-maps/FantasyMapsTest/shipyard_one...</td>\n",
       "      <td>d652d7f8460be7360b60d09da97c57f103f16b3d</td>\n",
       "    </tr>\n",
       "    <tr>\n",
       "      <th>103a31dfb382853e078dc10b7e568782adcb91f6</th>\n",
       "      <td>shipyard_oneiromancy_maps.1360_80.15x15.50x40.jpg</td>\n",
       "      <td>gs://fantasy-maps/FantasyMapsTest/shipyard_one...</td>\n",
       "      <td>d652d7f8460be7360b60d09da97c57f103f16b3d</td>\n",
       "    </tr>\n",
       "    <tr>\n",
       "      <th>d652d7f8460be7360b60d09da97c57f103f16b3d</th>\n",
       "      <td>shipyard_oneiromancy_maps.50x40.jpg</td>\n",
       "      <td>gs://fantasy-maps/FantasyMapsTest/shipyard_one...</td>\n",
       "      <td>NaN</td>\n",
       "    </tr>\n",
       "    <tr>\n",
       "      <th>1548daac4ef5c0868a37fabf1839a38579454a64</th>\n",
       "      <td>shipyard_oneiromancy_maps.760_0.15x15.50x40.jpg</td>\n",
       "      <td>gs://fantasy-maps/FantasyMapsTest/shipyard_one...</td>\n",
       "      <td>d652d7f8460be7360b60d09da97c57f103f16b3d</td>\n",
       "    </tr>\n",
       "    <tr>\n",
       "      <th>70b5557418fcb346ae4e5f99455e41c3abc2858c</th>\n",
       "      <td>skybridge_tower.0_696.15x15.32x56.jpg</td>\n",
       "      <td>gs://fantasy-maps/FantasyMapsTest/skybridge_to...</td>\n",
       "      <td>d510db7c22afb246856f189479be71b04f667ed8</td>\n",
       "    </tr>\n",
       "    <tr>\n",
       "      <th>d510db7c22afb246856f189479be71b04f667ed8</th>\n",
       "      <td>skybridge_tower.32x56.jpg</td>\n",
       "      <td>gs://fantasy-maps/FantasyMapsTest/skybridge_to...</td>\n",
       "      <td>NaN</td>\n",
       "    </tr>\n",
       "    <tr>\n",
       "      <th>1b5d054c98fbee46c132be02b658d5b4e8b80bcf</th>\n",
       "      <td>skybridge_tower.870_2320.15x15.32x56.jpg</td>\n",
       "      <td>gs://fantasy-maps/FantasyMapsTest/skybridge_to...</td>\n",
       "      <td>d510db7c22afb246856f189479be71b04f667ed8</td>\n",
       "    </tr>\n",
       "    <tr>\n",
       "      <th>e0d650d06383351ccbfd8c3a719e7128b1393a6a</th>\n",
       "      <td>skybridge_tower.986_1740.15x15.32x56.jpg</td>\n",
       "      <td>gs://fantasy-maps/FantasyMapsTest/skybridge_to...</td>\n",
       "      <td>d510db7c22afb246856f189479be71b04f667ed8</td>\n",
       "    </tr>\n",
       "    <tr>\n",
       "      <th>400648f817f9d544da351b2c65667af8cd7236b7</th>\n",
       "      <td>snowy_mountain_cave_entrance_battle_map.1400_2...</td>\n",
       "      <td>gs://fantasy-maps/FantasyMapsTest/snowy_mounta...</td>\n",
       "      <td>a34ddc6bce48783c6bb07d26914330eed6e8f3c5</td>\n",
       "    </tr>\n",
       "    <tr>\n",
       "      <th>db7ec0fb60af94cc90b23ebdd84effd3340690df</th>\n",
       "      <td>snowy_mountain_cave_entrance_battle_map.140_22...</td>\n",
       "      <td>gs://fantasy-maps/FantasyMapsTest/snowy_mounta...</td>\n",
       "      <td>a34ddc6bce48783c6bb07d26914330eed6e8f3c5</td>\n",
       "    </tr>\n",
       "    <tr>\n",
       "      <th>a34ddc6bce48783c6bb07d26914330eed6e8f3c5</th>\n",
       "      <td>snowy_mountain_cave_entrance_battle_map.30x35.jpg</td>\n",
       "      <td>gs://fantasy-maps/FantasyMapsTest/snowy_mounta...</td>\n",
       "      <td>NaN</td>\n",
       "    </tr>\n",
       "    <tr>\n",
       "      <th>1a7877edccdf08b9172c869985799a7ce5bba6f8</th>\n",
       "      <td>snowy_mountain_cave_entrance_battle_map.980_14...</td>\n",
       "      <td>gs://fantasy-maps/FantasyMapsTest/snowy_mounta...</td>\n",
       "      <td>a34ddc6bce48783c6bb07d26914330eed6e8f3c5</td>\n",
       "    </tr>\n",
       "    <tr>\n",
       "      <th>4101232a0d12e4d507962fb287d9cd0d3195c3a2</th>\n",
       "      <td>summer_ship.16x22.jpg</td>\n",
       "      <td>gs://fantasy-maps/FantasyMapsTest/summer_ship....</td>\n",
       "      <td>NaN</td>\n",
       "    </tr>\n",
       "    <tr>\n",
       "      <th>3a87e71a409787fd6dfa45a370f5f1b223f47d42</th>\n",
       "      <td>tsolenka_pass_ii_curse_strahd_animated.0_120.1...</td>\n",
       "      <td>gs://fantasy-maps/FantasyMapsTest/tsolenka_pas...</td>\n",
       "      <td>e761e44dec072de69eaa28c6563f5412a4a05bdf</td>\n",
       "    </tr>\n",
       "    <tr>\n",
       "      <th>0f8ddff07566b9257f492814e47e48888dd5c888</th>\n",
       "      <td>tsolenka_pass_ii_curse_strahd_animated.120_120...</td>\n",
       "      <td>gs://fantasy-maps/FantasyMapsTest/tsolenka_pas...</td>\n",
       "      <td>e761e44dec072de69eaa28c6563f5412a4a05bdf</td>\n",
       "    </tr>\n",
       "    <tr>\n",
       "      <th>5a93bbd70d504883414a6dc31ec94c9d76e5c550</th>\n",
       "      <td>tsolenka_pass_ii_curse_strahd_animated.2040_36...</td>\n",
       "      <td>gs://fantasy-maps/FantasyMapsTest/tsolenka_pas...</td>\n",
       "      <td>e761e44dec072de69eaa28c6563f5412a4a05bdf</td>\n",
       "    </tr>\n",
       "    <tr>\n",
       "      <th>e761e44dec072de69eaa28c6563f5412a4a05bdf</th>\n",
       "      <td>tsolenka_pass_ii_curse_strahd_animated.32x18.jpg</td>\n",
       "      <td>gs://fantasy-maps/FantasyMapsTest/tsolenka_pas...</td>\n",
       "      <td>NaN</td>\n",
       "    </tr>\n",
       "    <tr>\n",
       "      <th>863f97ef2947e9df7fcea518d4c5625cc08eae75</th>\n",
       "      <td>tsolenka_pass_iii_curse_strahd_animated.1200_3...</td>\n",
       "      <td>gs://fantasy-maps/FantasyMapsTest/tsolenka_pas...</td>\n",
       "      <td>259cf5bb799baf15790534d41e71c7773f8a0eb7</td>\n",
       "    </tr>\n",
       "    <tr>\n",
       "      <th>c59785d6c2ccb53b0c5fd1444508e48f26ddd707</th>\n",
       "      <td>tsolenka_pass_iii_curse_strahd_animated.120_36...</td>\n",
       "      <td>gs://fantasy-maps/FantasyMapsTest/tsolenka_pas...</td>\n",
       "      <td>259cf5bb799baf15790534d41e71c7773f8a0eb7</td>\n",
       "    </tr>\n",
       "    <tr>\n",
       "      <th>dbaa2d8ee2eddcff0b30169ccd87d24479de6c49</th>\n",
       "      <td>tsolenka_pass_iii_curse_strahd_animated.1800_3...</td>\n",
       "      <td>gs://fantasy-maps/FantasyMapsTest/tsolenka_pas...</td>\n",
       "      <td>259cf5bb799baf15790534d41e71c7773f8a0eb7</td>\n",
       "    </tr>\n",
       "    <tr>\n",
       "      <th>259cf5bb799baf15790534d41e71c7773f8a0eb7</th>\n",
       "      <td>tsolenka_pass_iii_curse_strahd_animated.32x18.jpg</td>\n",
       "      <td>gs://fantasy-maps/FantasyMapsTest/tsolenka_pas...</td>\n",
       "      <td>NaN</td>\n",
       "    </tr>\n",
       "    <tr>\n",
       "      <th>af65733281e05814c05cce8ad2c841b23a222a4e</th>\n",
       "      <td>tsolenka_pass_iv_curse_strahd_animated.0_360.1...</td>\n",
       "      <td>gs://fantasy-maps/FantasyMapsTest/tsolenka_pas...</td>\n",
       "      <td>38d4408fd12a17e9382d219f7fdb7d1c34b52da1</td>\n",
       "    </tr>\n",
       "    <tr>\n",
       "      <th>3a7c28bc814abd7011cc6797f1c48b2eb78a2597</th>\n",
       "      <td>tsolenka_pass_iv_curse_strahd_animated.1320_12...</td>\n",
       "      <td>gs://fantasy-maps/FantasyMapsTest/tsolenka_pas...</td>\n",
       "      <td>38d4408fd12a17e9382d219f7fdb7d1c34b52da1</td>\n",
       "    </tr>\n",
       "    <tr>\n",
       "      <th>38d4408fd12a17e9382d219f7fdb7d1c34b52da1</th>\n",
       "      <td>tsolenka_pass_iv_curse_strahd_animated.32x18.jpg</td>\n",
       "      <td>gs://fantasy-maps/FantasyMapsTest/tsolenka_pas...</td>\n",
       "      <td>NaN</td>\n",
       "    </tr>\n",
       "    <tr>\n",
       "      <th>59e4936ddf486ef021a2b7d036b60a3b5ad2e69e</th>\n",
       "      <td>tsolenka_pass_iv_curse_strahd_animated.360_240...</td>\n",
       "      <td>gs://fantasy-maps/FantasyMapsTest/tsolenka_pas...</td>\n",
       "      <td>38d4408fd12a17e9382d219f7fdb7d1c34b52da1</td>\n",
       "    </tr>\n",
       "    <tr>\n",
       "      <th>15c014a65796ebd57f4a836e77b7eb68473b3d88</th>\n",
       "      <td>tsolenka_pass_v_curse_strahd_animated.120_120....</td>\n",
       "      <td>gs://fantasy-maps/FantasyMapsTest/tsolenka_pas...</td>\n",
       "      <td>4f6ed9f919188bbba8cc344e23dc9a9e796f91bd</td>\n",
       "    </tr>\n",
       "    <tr>\n",
       "      <th>b9abc2f005138cbf77faf5fdf1c08a009a59d500</th>\n",
       "      <td>tsolenka_pass_v_curse_strahd_animated.1440_0.1...</td>\n",
       "      <td>gs://fantasy-maps/FantasyMapsTest/tsolenka_pas...</td>\n",
       "      <td>4f6ed9f919188bbba8cc344e23dc9a9e796f91bd</td>\n",
       "    </tr>\n",
       "    <tr>\n",
       "      <th>40873daec9e023751dfce0af4ebafa257110e2a4</th>\n",
       "      <td>tsolenka_pass_v_curse_strahd_animated.1560_240...</td>\n",
       "      <td>gs://fantasy-maps/FantasyMapsTest/tsolenka_pas...</td>\n",
       "      <td>4f6ed9f919188bbba8cc344e23dc9a9e796f91bd</td>\n",
       "    </tr>\n",
       "    <tr>\n",
       "      <th>4f6ed9f919188bbba8cc344e23dc9a9e796f91bd</th>\n",
       "      <td>tsolenka_pass_v_curse_strahd_animated.32x18.jpg</td>\n",
       "      <td>gs://fantasy-maps/FantasyMapsTest/tsolenka_pas...</td>\n",
       "      <td>NaN</td>\n",
       "    </tr>\n",
       "    <tr>\n",
       "      <th>f359286be988ca5f2e8a72fe738a5eaa95364138</th>\n",
       "      <td>tsolenka_pass_vi_curse_strahd_animated.1320_36...</td>\n",
       "      <td>gs://fantasy-maps/FantasyMapsTest/tsolenka_pas...</td>\n",
       "      <td>7a47cf8dade4dbdcb4cf21829aaeb8932778eb9f</td>\n",
       "    </tr>\n",
       "    <tr>\n",
       "      <th>7a47cf8dade4dbdcb4cf21829aaeb8932778eb9f</th>\n",
       "      <td>tsolenka_pass_vi_curse_strahd_animated.32x18.jpg</td>\n",
       "      <td>gs://fantasy-maps/FantasyMapsTest/tsolenka_pas...</td>\n",
       "      <td>NaN</td>\n",
       "    </tr>\n",
       "    <tr>\n",
       "      <th>656b224103082af34a44ca14d199b0a683d7e159</th>\n",
       "      <td>tsolenka_pass_vi_curse_strahd_animated.480_120...</td>\n",
       "      <td>gs://fantasy-maps/FantasyMapsTest/tsolenka_pas...</td>\n",
       "      <td>7a47cf8dade4dbdcb4cf21829aaeb8932778eb9f</td>\n",
       "    </tr>\n",
       "    <tr>\n",
       "      <th>516a5f1bf945a30dc2808f5f1bc8122eb0097926</th>\n",
       "      <td>tsolenka_pass_vi_curse_strahd_animated.960_120...</td>\n",
       "      <td>gs://fantasy-maps/FantasyMapsTest/tsolenka_pas...</td>\n",
       "      <td>7a47cf8dade4dbdcb4cf21829aaeb8932778eb9f</td>\n",
       "    </tr>\n",
       "    <tr>\n",
       "      <th>6cbe95f18451e89a267e05c64d7debee8f94e8dc</th>\n",
       "      <td>usual_sweet_efficient_elves_year_christmas.22x...</td>\n",
       "      <td>gs://fantasy-maps/FantasyMapsTest/usual_sweet_...</td>\n",
       "      <td>NaN</td>\n",
       "    </tr>\n",
       "    <tr>\n",
       "      <th>bb618ffae4ad1dafc86b01852b8a4d7b7217616e</th>\n",
       "      <td>werevolf_den_animated_battlemap_120px_square.1...</td>\n",
       "      <td>gs://fantasy-maps/FantasyMapsTest/werevolf_den...</td>\n",
       "      <td>a7f9c9d94f7b6c625fa7f2e6d26f5fd30a84bca0</td>\n",
       "    </tr>\n",
       "    <tr>\n",
       "      <th>4791b66d03036290adb7837bbd01bf8039950509</th>\n",
       "      <td>werevolf_den_animated_battlemap_120px_square.2...</td>\n",
       "      <td>gs://fantasy-maps/FantasyMapsTest/werevolf_den...</td>\n",
       "      <td>a7f9c9d94f7b6c625fa7f2e6d26f5fd30a84bca0</td>\n",
       "    </tr>\n",
       "    <tr>\n",
       "      <th>a7f9c9d94f7b6c625fa7f2e6d26f5fd30a84bca0</th>\n",
       "      <td>werevolf_den_animated_battlemap_120px_square.3...</td>\n",
       "      <td>gs://fantasy-maps/FantasyMapsTest/werevolf_den...</td>\n",
       "      <td>NaN</td>\n",
       "    </tr>\n",
       "    <tr>\n",
       "      <th>b5eecae531b234e05377b768dbc784d80d1aff0e</th>\n",
       "      <td>werevolf_den_animated_battlemap_120px_square.3...</td>\n",
       "      <td>gs://fantasy-maps/FantasyMapsTest/werevolf_den...</td>\n",
       "      <td>a7f9c9d94f7b6c625fa7f2e6d26f5fd30a84bca0</td>\n",
       "    </tr>\n",
       "    <tr>\n",
       "      <th>fb4d5411e61d743622c6b8580dd0e486334c6a4a</th>\n",
       "      <td>winter_river.1530_816.15x15.30x40.jpg</td>\n",
       "      <td>gs://fantasy-maps/FantasyMapsTest/winter_river...</td>\n",
       "      <td>826fc24386ab4c2e48bcb8ce19df4a6777f88297</td>\n",
       "    </tr>\n",
       "    <tr>\n",
       "      <th>3fdcd094712b3c4b9669901cb44d279d492db5bc</th>\n",
       "      <td>winter_river.204_714.15x15.30x40.jpg</td>\n",
       "      <td>gs://fantasy-maps/FantasyMapsTest/winter_river...</td>\n",
       "      <td>826fc24386ab4c2e48bcb8ce19df4a6777f88297</td>\n",
       "    </tr>\n",
       "    <tr>\n",
       "      <th>826fc24386ab4c2e48bcb8ce19df4a6777f88297</th>\n",
       "      <td>winter_river.30x40.jpg</td>\n",
       "      <td>gs://fantasy-maps/FantasyMapsTest/winter_river...</td>\n",
       "      <td>NaN</td>\n",
       "    </tr>\n",
       "    <tr>\n",
       "      <th>56758af7a52b1cdd7d3c8b35e2d788666db1db0f</th>\n",
       "      <td>winter_river.612_1428.15x15.30x40.jpg</td>\n",
       "      <td>gs://fantasy-maps/FantasyMapsTest/winter_river...</td>\n",
       "      <td>826fc24386ab4c2e48bcb8ce19df4a6777f88297</td>\n",
       "    </tr>\n",
       "    <tr>\n",
       "      <th>2655823df6b83042c7becada5f6ab000241cd123</th>\n",
       "      <td>winter_solstice_feast_vikings_hall_.144_792.15...</td>\n",
       "      <td>gs://fantasy-maps/FantasyMapsTest/winter_solst...</td>\n",
       "      <td>4f6aa901d0ecd2e01aa08cb240b04204215fdfdf</td>\n",
       "    </tr>\n",
       "    <tr>\n",
       "      <th>4f6aa901d0ecd2e01aa08cb240b04204215fdfdf</th>\n",
       "      <td>winter_solstice_feast_vikings_hall_.18x28.jpg</td>\n",
       "      <td>gs://fantasy-maps/FantasyMapsTest/winter_solst...</td>\n",
       "      <td>NaN</td>\n",
       "    </tr>\n",
       "    <tr>\n",
       "      <th>9c35f6d46041e2d26b57556130423f732acfc8da</th>\n",
       "      <td>winter_solstice_feast_vikings_hall_.216_144.15...</td>\n",
       "      <td>gs://fantasy-maps/FantasyMapsTest/winter_solst...</td>\n",
       "      <td>4f6aa901d0ecd2e01aa08cb240b04204215fdfdf</td>\n",
       "    </tr>\n",
       "    <tr>\n",
       "      <th>62b783bf665e68fd354618123e476b564ef368fc</th>\n",
       "      <td>winter_solstice_feast_vikings_hall_.72_432.15x...</td>\n",
       "      <td>gs://fantasy-maps/FantasyMapsTest/winter_solst...</td>\n",
       "      <td>4f6aa901d0ecd2e01aa08cb240b04204215fdfdf</td>\n",
       "    </tr>\n",
       "    <tr>\n",
       "      <th>efa40678bb5a94aeaa5005a2ceb9ee48cc5b1bd1</th>\n",
       "      <td>winter_tavern.1680_1260.15x15.40x30.jpg</td>\n",
       "      <td>gs://fantasy-maps/FantasyMapsTest/winter_taver...</td>\n",
       "      <td>edcae4c88460b5d07af3a134d41db5b72bf382f6</td>\n",
       "    </tr>\n",
       "    <tr>\n",
       "      <th>794525a82152556be29bfa51a82d8a1dbec2dac3</th>\n",
       "      <td>winter_tavern.2520_840.15x15.40x30.jpg</td>\n",
       "      <td>gs://fantasy-maps/FantasyMapsTest/winter_taver...</td>\n",
       "      <td>edcae4c88460b5d07af3a134d41db5b72bf382f6</td>\n",
       "    </tr>\n",
       "    <tr>\n",
       "      <th>f3c73d4489540716f3279c8d99ec406120ed4c80</th>\n",
       "      <td>winter_tavern.2660_140.15x15.40x30.jpg</td>\n",
       "      <td>gs://fantasy-maps/FantasyMapsTest/winter_taver...</td>\n",
       "      <td>edcae4c88460b5d07af3a134d41db5b72bf382f6</td>\n",
       "    </tr>\n",
       "    <tr>\n",
       "      <th>edcae4c88460b5d07af3a134d41db5b72bf382f6</th>\n",
       "      <td>winter_tavern.40x30.jpg</td>\n",
       "      <td>gs://fantasy-maps/FantasyMapsTest/winter_taver...</td>\n",
       "      <td>NaN</td>\n",
       "    </tr>\n",
       "    <tr>\n",
       "      <th>1037a505909cd6b8bf43681c529d06233a435fde</th>\n",
       "      <td>winter_wonderland_fey_ballroom_night_.1157_356...</td>\n",
       "      <td>gs://fantasy-maps/FantasyMapsTest/winter_wonde...</td>\n",
       "      <td>4653b32134cebfd0f0eadcd848a289ea135e4914</td>\n",
       "    </tr>\n",
       "    <tr>\n",
       "      <th>8659c3c0c37c9685d38a3e3470fe432214d20ce5</th>\n",
       "      <td>winter_wonderland_fey_ballroom_night_.1869_186...</td>\n",
       "      <td>gs://fantasy-maps/FantasyMapsTest/winter_wonde...</td>\n",
       "      <td>4653b32134cebfd0f0eadcd848a289ea135e4914</td>\n",
       "    </tr>\n",
       "    <tr>\n",
       "      <th>61f85ebc7b9bf165944262530a67b1f07afbb04d</th>\n",
       "      <td>winter_wonderland_fey_ballroom_night_.1869_311...</td>\n",
       "      <td>gs://fantasy-maps/FantasyMapsTest/winter_wonde...</td>\n",
       "      <td>4653b32134cebfd0f0eadcd848a289ea135e4914</td>\n",
       "    </tr>\n",
       "    <tr>\n",
       "      <th>4653b32134cebfd0f0eadcd848a289ea135e4914</th>\n",
       "      <td>winter_wonderland_fey_ballroom_night_.38x56.jpg</td>\n",
       "      <td>gs://fantasy-maps/FantasyMapsTest/winter_wonde...</td>\n",
       "      <td>NaN</td>\n",
       "    </tr>\n",
       "  </tbody>\n",
       "</table>\n",
       "</div>"
      ],
      "text/plain": [
       "                                                                                   filename  \\\n",
       "uid                                                                                           \n",
       "c02113c8c4f50faf141ba53129836c277f421b44     bandit_camp_ravine_part.0_2240.15x15.22x34.jpg   \n",
       "c53292009a9b6edc4373d7d89cb9ac1cfd3bbc5b   bandit_camp_ravine_part.560_2100.15x15.22x34.jpg   \n",
       "2c246bc4e3db9ae23e7283b2eff1dd4339d54a81   bandit_camp_ravine_part.980_1540.15x15.22x34.jpg   \n",
       "3eae006c7aa9c17f0e4c111d9cb279e408974fd9                         candy_cane_knoll.16x22.jpg   \n",
       "fe49db70b3e37ea4b2b89622a6eb64a213c74bc3  cliffside_beach_battle_map.200_500.15x15.30x40...   \n",
       "98cfb16c9250a9926c94a7961eb54eebc658192b               cliffside_beach_battle_map.30x40.jpg   \n",
       "d63c70bea549942acec9376cc1c33de2aef60fb8  cliffside_beach_battle_map.400_300.15x15.30x40...   \n",
       "1efe35d1a7954603b7eb3a4f91499ac71211b4fa  cliffside_beach_battle_map.750_450.15x15.30x40...   \n",
       "ac307d84b7467bd122dc46393613e5ca99669a35                   crystals.102_380.15x15.30x22.jpg   \n",
       "6497da9b7f1c1a9e717aec5806becbc1d53a487e                  crystals.1428_190.15x15.30x22.jpg   \n",
       "c0e58bffc60ba929424b2dbb916bbbe8fe5caa72                                 crystals.30x22.jpg   \n",
       "9d1e4422badbd48432fa64c718ce478db75c36ca                   crystals.408_760.15x15.30x22.jpg   \n",
       "5177b5dc31f39d4637e1484b3e2285a2d9e4bf3f                           dragonhead_inn.22x16.jpg   \n",
       "90de32f600b3651585dbbab015f6ffe95fe64db4  dread_maps_blackbriar_manor_basement_levels.20...   \n",
       "7cf53d1f2a0f085a0022cfd44c1ae74a5969c006                    erm_way_💀_skull_climb.18x22.jpg   \n",
       "b7d264b9a51c777387609b477b64fd78996b0a09  forgotten_king_tomb_40x100_battle_map.1000_640...   \n",
       "03fcfd65732a4e173960c3bce9a95df169dc7c58  forgotten_king_tomb_40x100_battle_map.360_3320...   \n",
       "fc53c9ba415fdf62c49f3195bf6a09523cfec874  forgotten_king_tomb_40x100_battle_map.40_600.1...   \n",
       "502067f9ecdc34a7047180ff6107c75a796cb53a   forgotten_king_tomb_40x100_battle_map.40x100.jpg   \n",
       "c4a7773527e8c7a1dfe897fc6b17f96b98d04c5e  frozen_caverns_free_map_more_hd.0_1554.15x15.5...   \n",
       "b366903c0af0efd2da182495f0d902d6484fe322  frozen_caverns_free_map_more_hd.2072_4662.15x1...   \n",
       "47ed9f0de20eb29806e56f383067449ce7d7711b  frozen_caverns_free_map_more_hd.2220_222.15x15...   \n",
       "23af0ee24b932fad8dac020de678cca76021c6c1          frozen_caverns_free_map_more_hd.57x82.jpg   \n",
       "fb9839433b487ed3277408bfcc237576e9fb47e6  husk_terminal_jormara_25x35.0_306.15x15.25x35.jpg   \n",
       "842b20c9793609ebf5d38f09ab4032a5719c5ef4  husk_terminal_jormara_25x35.230_408.15x15.25x3...   \n",
       "cd35b6bbee2065816808517b926c448a6349d285              husk_terminal_jormara_25x35.25x35.jpg   \n",
       "c515cb1c7948b3e958e7e1212bdaedc9e539586e  husk_terminal_jormara_25x35.322_153.15x15.25x3...   \n",
       "e9a51060ae1d80309c5e7f901c932925ce41a81e  magical_deepfrosted_library__ori_carto.144_108...   \n",
       "a2e0e2cf4f6058eb3c7d973536b5fbd5451bd2ec   magical_deepfrosted_library__ori_carto.24x36.jpg   \n",
       "f860f7fb6f2a041b78a44b089edeb2a5fcf66e97  magical_deepfrosted_library__ori_carto.648_432...   \n",
       "1f720cce4cc240674fcad59ef7a2c840805d3651  magical_deepfrosted_library__ori_carto.648_864...   \n",
       "b1b53833a7a92bbf8a862cd6853788fe01b49d68  modern_manufacturing_plant.1825_1825.15x15.44x...   \n",
       "773b0f542b8666800730938f200fa64d2c6d1c84  modern_manufacturing_plant.365_1606.15x15.44x6...   \n",
       "89dbf4c4fbb23c8f508bf66c5c425cabdc750023               modern_manufacturing_plant.44x68.jpg   \n",
       "d8005afe21deffcddea01999a2194afdec90f8e1  modern_manufacturing_plant.584_2409.15x15.44x6...   \n",
       "04863054ae5563276de9b38dc78306dff7635519          mordhin_memorial.100_2500.15x15.40x40.jpg   \n",
       "0a67f0e57b11d507c8e1bdda9fefff5e973bf3ef         mordhin_memorial.1100_1200.15x15.40x40.jpg   \n",
       "1f5de137ca9cfb835ce69821eea8c717a4143499          mordhin_memorial.1200_200.15x15.40x40.jpg   \n",
       "2936d487ac34d309563e47cf03fca301abc7c8df                         mordhin_memorial.40x40.jpg   \n",
       "ad9933b798d565984e0a8742ca196f826f922729   more_map_stor_helnit_pass.1260_0.15x15.30x20.jpg   \n",
       "b4272bf1f62375938f0119d75e10eca5da8fedbd                more_map_stor_helnit_pass.30x20.jpg   \n",
       "b2ca8429a0d11072c005e2dc3c780b2e183dcee0  more_map_stor_helnit_pass.560_483.15x15.30x20.jpg   \n",
       "f5ba84659d4dbe00c5ea691ed74a5d4ea98cd784  more_map_stor_helnit_pass.980_161.15x15.30x20.jpg   \n",
       "3fa2633dc8d0df8ead640c164d488f69e1e4a65f       nephalia_port_town.1050_5100.15x15.32x56.jpg   \n",
       "1f3f4de7999bc14b28ae1456f0c53f498dad235d       nephalia_port_town.1800_2100.15x15.32x56.jpg   \n",
       "d504c4a09c26722218d6655ecd52107f9b78e3d5       nephalia_port_town.2100_1950.15x15.32x56.jpg   \n",
       "1eff1c4e52adba942c719fe30daaf820684da683                       nephalia_port_town.32x56.jpg   \n",
       "b834e3773a406c0aff3b5ad577ad1ec8c9e9613a  orc_hideout_cavern_battle_map.1530_1155.15x15....   \n",
       "a6547dcdd4dda77984c9d51dca3a2709a84b8e17  orc_hideout_cavern_battle_map.510_1122.15x15.6...   \n",
       "b5f74006e0d6d88d0ee13893940b431c5c80e982            orc_hideout_cavern_battle_map.60x50.jpg   \n",
       "b78a2f0b53d6dfe1d6db9202fca8701a601af114  orc_hideout_cavern_battle_map.646_627.15x15.60...   \n",
       "b24d14843ae6fc009a4a80b84f76e295f199aa86  rampant_rooster_tavern_140p.0_1540.15x15.21x51...   \n",
       "759d2d351ff988b2eb478e0e40bbb404165ea093              rampant_rooster_tavern_140p.21x51.jpg   \n",
       "488880e536a8c0dbbd9c9f44da78b098972a6a77  rampant_rooster_tavern_140p.420_1260.15x15.21x...   \n",
       "c247c0123de177ad4653ff6db9545539eb8c68f8  rampant_rooster_tavern_140p.420_3920.15x15.21x...   \n",
       "cd1cb37214a4cca4369acbba3134368a6be7a55b     river_guard_battle_map.204_510.15x15.30x80.jpg   \n",
       "177c418703c23cf34364605f66fc31f3dfdfabe7     river_guard_battle_map.255_612.15x15.30x80.jpg   \n",
       "52bd1dd7b62da83e41f2964fd79687c478b76392                   river_guard_battle_map.30x80.jpg   \n",
       "954343ec877f93fbe937757d5b1b934d8008cbf9     river_guard_battle_map.765_102.15x15.30x80.jpg   \n",
       "a564fc2dc1e1ce3e5e7b9b7e491f99b31b5d3542                             rooms_museum.18x22.jpg   \n",
       "675264b0ffe88d1b36672c090d4618bc1fc548a5  shipyard_oneiromancy_maps.1240_120.15x15.50x40...   \n",
       "103a31dfb382853e078dc10b7e568782adcb91f6  shipyard_oneiromancy_maps.1360_80.15x15.50x40.jpg   \n",
       "d652d7f8460be7360b60d09da97c57f103f16b3d                shipyard_oneiromancy_maps.50x40.jpg   \n",
       "1548daac4ef5c0868a37fabf1839a38579454a64    shipyard_oneiromancy_maps.760_0.15x15.50x40.jpg   \n",
       "70b5557418fcb346ae4e5f99455e41c3abc2858c              skybridge_tower.0_696.15x15.32x56.jpg   \n",
       "d510db7c22afb246856f189479be71b04f667ed8                          skybridge_tower.32x56.jpg   \n",
       "1b5d054c98fbee46c132be02b658d5b4e8b80bcf           skybridge_tower.870_2320.15x15.32x56.jpg   \n",
       "e0d650d06383351ccbfd8c3a719e7128b1393a6a           skybridge_tower.986_1740.15x15.32x56.jpg   \n",
       "400648f817f9d544da351b2c65667af8cd7236b7  snowy_mountain_cave_entrance_battle_map.1400_2...   \n",
       "db7ec0fb60af94cc90b23ebdd84effd3340690df  snowy_mountain_cave_entrance_battle_map.140_22...   \n",
       "a34ddc6bce48783c6bb07d26914330eed6e8f3c5  snowy_mountain_cave_entrance_battle_map.30x35.jpg   \n",
       "1a7877edccdf08b9172c869985799a7ce5bba6f8  snowy_mountain_cave_entrance_battle_map.980_14...   \n",
       "4101232a0d12e4d507962fb287d9cd0d3195c3a2                              summer_ship.16x22.jpg   \n",
       "3a87e71a409787fd6dfa45a370f5f1b223f47d42  tsolenka_pass_ii_curse_strahd_animated.0_120.1...   \n",
       "0f8ddff07566b9257f492814e47e48888dd5c888  tsolenka_pass_ii_curse_strahd_animated.120_120...   \n",
       "5a93bbd70d504883414a6dc31ec94c9d76e5c550  tsolenka_pass_ii_curse_strahd_animated.2040_36...   \n",
       "e761e44dec072de69eaa28c6563f5412a4a05bdf   tsolenka_pass_ii_curse_strahd_animated.32x18.jpg   \n",
       "863f97ef2947e9df7fcea518d4c5625cc08eae75  tsolenka_pass_iii_curse_strahd_animated.1200_3...   \n",
       "c59785d6c2ccb53b0c5fd1444508e48f26ddd707  tsolenka_pass_iii_curse_strahd_animated.120_36...   \n",
       "dbaa2d8ee2eddcff0b30169ccd87d24479de6c49  tsolenka_pass_iii_curse_strahd_animated.1800_3...   \n",
       "259cf5bb799baf15790534d41e71c7773f8a0eb7  tsolenka_pass_iii_curse_strahd_animated.32x18.jpg   \n",
       "af65733281e05814c05cce8ad2c841b23a222a4e  tsolenka_pass_iv_curse_strahd_animated.0_360.1...   \n",
       "3a7c28bc814abd7011cc6797f1c48b2eb78a2597  tsolenka_pass_iv_curse_strahd_animated.1320_12...   \n",
       "38d4408fd12a17e9382d219f7fdb7d1c34b52da1   tsolenka_pass_iv_curse_strahd_animated.32x18.jpg   \n",
       "59e4936ddf486ef021a2b7d036b60a3b5ad2e69e  tsolenka_pass_iv_curse_strahd_animated.360_240...   \n",
       "15c014a65796ebd57f4a836e77b7eb68473b3d88  tsolenka_pass_v_curse_strahd_animated.120_120....   \n",
       "b9abc2f005138cbf77faf5fdf1c08a009a59d500  tsolenka_pass_v_curse_strahd_animated.1440_0.1...   \n",
       "40873daec9e023751dfce0af4ebafa257110e2a4  tsolenka_pass_v_curse_strahd_animated.1560_240...   \n",
       "4f6ed9f919188bbba8cc344e23dc9a9e796f91bd    tsolenka_pass_v_curse_strahd_animated.32x18.jpg   \n",
       "f359286be988ca5f2e8a72fe738a5eaa95364138  tsolenka_pass_vi_curse_strahd_animated.1320_36...   \n",
       "7a47cf8dade4dbdcb4cf21829aaeb8932778eb9f   tsolenka_pass_vi_curse_strahd_animated.32x18.jpg   \n",
       "656b224103082af34a44ca14d199b0a683d7e159  tsolenka_pass_vi_curse_strahd_animated.480_120...   \n",
       "516a5f1bf945a30dc2808f5f1bc8122eb0097926  tsolenka_pass_vi_curse_strahd_animated.960_120...   \n",
       "6cbe95f18451e89a267e05c64d7debee8f94e8dc  usual_sweet_efficient_elves_year_christmas.22x...   \n",
       "bb618ffae4ad1dafc86b01852b8a4d7b7217616e  werevolf_den_animated_battlemap_120px_square.1...   \n",
       "4791b66d03036290adb7837bbd01bf8039950509  werevolf_den_animated_battlemap_120px_square.2...   \n",
       "a7f9c9d94f7b6c625fa7f2e6d26f5fd30a84bca0  werevolf_den_animated_battlemap_120px_square.3...   \n",
       "b5eecae531b234e05377b768dbc784d80d1aff0e  werevolf_den_animated_battlemap_120px_square.3...   \n",
       "fb4d5411e61d743622c6b8580dd0e486334c6a4a              winter_river.1530_816.15x15.30x40.jpg   \n",
       "3fdcd094712b3c4b9669901cb44d279d492db5bc               winter_river.204_714.15x15.30x40.jpg   \n",
       "826fc24386ab4c2e48bcb8ce19df4a6777f88297                             winter_river.30x40.jpg   \n",
       "56758af7a52b1cdd7d3c8b35e2d788666db1db0f              winter_river.612_1428.15x15.30x40.jpg   \n",
       "2655823df6b83042c7becada5f6ab000241cd123  winter_solstice_feast_vikings_hall_.144_792.15...   \n",
       "4f6aa901d0ecd2e01aa08cb240b04204215fdfdf      winter_solstice_feast_vikings_hall_.18x28.jpg   \n",
       "9c35f6d46041e2d26b57556130423f732acfc8da  winter_solstice_feast_vikings_hall_.216_144.15...   \n",
       "62b783bf665e68fd354618123e476b564ef368fc  winter_solstice_feast_vikings_hall_.72_432.15x...   \n",
       "efa40678bb5a94aeaa5005a2ceb9ee48cc5b1bd1            winter_tavern.1680_1260.15x15.40x30.jpg   \n",
       "794525a82152556be29bfa51a82d8a1dbec2dac3             winter_tavern.2520_840.15x15.40x30.jpg   \n",
       "f3c73d4489540716f3279c8d99ec406120ed4c80             winter_tavern.2660_140.15x15.40x30.jpg   \n",
       "edcae4c88460b5d07af3a134d41db5b72bf382f6                            winter_tavern.40x30.jpg   \n",
       "1037a505909cd6b8bf43681c529d06233a435fde  winter_wonderland_fey_ballroom_night_.1157_356...   \n",
       "8659c3c0c37c9685d38a3e3470fe432214d20ce5  winter_wonderland_fey_ballroom_night_.1869_186...   \n",
       "61f85ebc7b9bf165944262530a67b1f07afbb04d  winter_wonderland_fey_ballroom_night_.1869_311...   \n",
       "4653b32134cebfd0f0eadcd848a289ea135e4914    winter_wonderland_fey_ballroom_night_.38x56.jpg   \n",
       "\n",
       "                                                                                    gcs_uri  \\\n",
       "uid                                                                                           \n",
       "c02113c8c4f50faf141ba53129836c277f421b44  gs://fantasy-maps/FantasyMapsTest/bandit_camp_...   \n",
       "c53292009a9b6edc4373d7d89cb9ac1cfd3bbc5b  gs://fantasy-maps/FantasyMapsTest/bandit_camp_...   \n",
       "2c246bc4e3db9ae23e7283b2eff1dd4339d54a81  gs://fantasy-maps/FantasyMapsTest/bandit_camp_...   \n",
       "3eae006c7aa9c17f0e4c111d9cb279e408974fd9  gs://fantasy-maps/FantasyMapsTest/candy_cane_k...   \n",
       "fe49db70b3e37ea4b2b89622a6eb64a213c74bc3  gs://fantasy-maps/FantasyMapsTest/cliffside_be...   \n",
       "98cfb16c9250a9926c94a7961eb54eebc658192b  gs://fantasy-maps/FantasyMapsTest/cliffside_be...   \n",
       "d63c70bea549942acec9376cc1c33de2aef60fb8  gs://fantasy-maps/FantasyMapsTest/cliffside_be...   \n",
       "1efe35d1a7954603b7eb3a4f91499ac71211b4fa  gs://fantasy-maps/FantasyMapsTest/cliffside_be...   \n",
       "ac307d84b7467bd122dc46393613e5ca99669a35  gs://fantasy-maps/FantasyMapsTest/crystals.102...   \n",
       "6497da9b7f1c1a9e717aec5806becbc1d53a487e  gs://fantasy-maps/FantasyMapsTest/crystals.142...   \n",
       "c0e58bffc60ba929424b2dbb916bbbe8fe5caa72  gs://fantasy-maps/FantasyMapsTest/crystals.30x...   \n",
       "9d1e4422badbd48432fa64c718ce478db75c36ca  gs://fantasy-maps/FantasyMapsTest/crystals.408...   \n",
       "5177b5dc31f39d4637e1484b3e2285a2d9e4bf3f  gs://fantasy-maps/FantasyMapsTest/dragonhead_i...   \n",
       "90de32f600b3651585dbbab015f6ffe95fe64db4  gs://fantasy-maps/FantasyMapsTest/dread_maps_b...   \n",
       "7cf53d1f2a0f085a0022cfd44c1ae74a5969c006  gs://fantasy-maps/FantasyMapsTest/erm_way_💀_sk...   \n",
       "b7d264b9a51c777387609b477b64fd78996b0a09  gs://fantasy-maps/FantasyMapsTest/forgotten_ki...   \n",
       "03fcfd65732a4e173960c3bce9a95df169dc7c58  gs://fantasy-maps/FantasyMapsTest/forgotten_ki...   \n",
       "fc53c9ba415fdf62c49f3195bf6a09523cfec874  gs://fantasy-maps/FantasyMapsTest/forgotten_ki...   \n",
       "502067f9ecdc34a7047180ff6107c75a796cb53a  gs://fantasy-maps/FantasyMapsTest/forgotten_ki...   \n",
       "c4a7773527e8c7a1dfe897fc6b17f96b98d04c5e  gs://fantasy-maps/FantasyMapsTest/frozen_caver...   \n",
       "b366903c0af0efd2da182495f0d902d6484fe322  gs://fantasy-maps/FantasyMapsTest/frozen_caver...   \n",
       "47ed9f0de20eb29806e56f383067449ce7d7711b  gs://fantasy-maps/FantasyMapsTest/frozen_caver...   \n",
       "23af0ee24b932fad8dac020de678cca76021c6c1  gs://fantasy-maps/FantasyMapsTest/frozen_caver...   \n",
       "fb9839433b487ed3277408bfcc237576e9fb47e6  gs://fantasy-maps/FantasyMapsTest/husk_termina...   \n",
       "842b20c9793609ebf5d38f09ab4032a5719c5ef4  gs://fantasy-maps/FantasyMapsTest/husk_termina...   \n",
       "cd35b6bbee2065816808517b926c448a6349d285  gs://fantasy-maps/FantasyMapsTest/husk_termina...   \n",
       "c515cb1c7948b3e958e7e1212bdaedc9e539586e  gs://fantasy-maps/FantasyMapsTest/husk_termina...   \n",
       "e9a51060ae1d80309c5e7f901c932925ce41a81e  gs://fantasy-maps/FantasyMapsTest/magical_deep...   \n",
       "a2e0e2cf4f6058eb3c7d973536b5fbd5451bd2ec  gs://fantasy-maps/FantasyMapsTest/magical_deep...   \n",
       "f860f7fb6f2a041b78a44b089edeb2a5fcf66e97  gs://fantasy-maps/FantasyMapsTest/magical_deep...   \n",
       "1f720cce4cc240674fcad59ef7a2c840805d3651  gs://fantasy-maps/FantasyMapsTest/magical_deep...   \n",
       "b1b53833a7a92bbf8a862cd6853788fe01b49d68  gs://fantasy-maps/FantasyMapsTest/modern_manuf...   \n",
       "773b0f542b8666800730938f200fa64d2c6d1c84  gs://fantasy-maps/FantasyMapsTest/modern_manuf...   \n",
       "89dbf4c4fbb23c8f508bf66c5c425cabdc750023  gs://fantasy-maps/FantasyMapsTest/modern_manuf...   \n",
       "d8005afe21deffcddea01999a2194afdec90f8e1  gs://fantasy-maps/FantasyMapsTest/modern_manuf...   \n",
       "04863054ae5563276de9b38dc78306dff7635519  gs://fantasy-maps/FantasyMapsTest/mordhin_memo...   \n",
       "0a67f0e57b11d507c8e1bdda9fefff5e973bf3ef  gs://fantasy-maps/FantasyMapsTest/mordhin_memo...   \n",
       "1f5de137ca9cfb835ce69821eea8c717a4143499  gs://fantasy-maps/FantasyMapsTest/mordhin_memo...   \n",
       "2936d487ac34d309563e47cf03fca301abc7c8df  gs://fantasy-maps/FantasyMapsTest/mordhin_memo...   \n",
       "ad9933b798d565984e0a8742ca196f826f922729  gs://fantasy-maps/FantasyMapsTest/more_map_sto...   \n",
       "b4272bf1f62375938f0119d75e10eca5da8fedbd  gs://fantasy-maps/FantasyMapsTest/more_map_sto...   \n",
       "b2ca8429a0d11072c005e2dc3c780b2e183dcee0  gs://fantasy-maps/FantasyMapsTest/more_map_sto...   \n",
       "f5ba84659d4dbe00c5ea691ed74a5d4ea98cd784  gs://fantasy-maps/FantasyMapsTest/more_map_sto...   \n",
       "3fa2633dc8d0df8ead640c164d488f69e1e4a65f  gs://fantasy-maps/FantasyMapsTest/nephalia_por...   \n",
       "1f3f4de7999bc14b28ae1456f0c53f498dad235d  gs://fantasy-maps/FantasyMapsTest/nephalia_por...   \n",
       "d504c4a09c26722218d6655ecd52107f9b78e3d5  gs://fantasy-maps/FantasyMapsTest/nephalia_por...   \n",
       "1eff1c4e52adba942c719fe30daaf820684da683  gs://fantasy-maps/FantasyMapsTest/nephalia_por...   \n",
       "b834e3773a406c0aff3b5ad577ad1ec8c9e9613a  gs://fantasy-maps/FantasyMapsTest/orc_hideout_...   \n",
       "a6547dcdd4dda77984c9d51dca3a2709a84b8e17  gs://fantasy-maps/FantasyMapsTest/orc_hideout_...   \n",
       "b5f74006e0d6d88d0ee13893940b431c5c80e982  gs://fantasy-maps/FantasyMapsTest/orc_hideout_...   \n",
       "b78a2f0b53d6dfe1d6db9202fca8701a601af114  gs://fantasy-maps/FantasyMapsTest/orc_hideout_...   \n",
       "b24d14843ae6fc009a4a80b84f76e295f199aa86  gs://fantasy-maps/FantasyMapsTest/rampant_roos...   \n",
       "759d2d351ff988b2eb478e0e40bbb404165ea093  gs://fantasy-maps/FantasyMapsTest/rampant_roos...   \n",
       "488880e536a8c0dbbd9c9f44da78b098972a6a77  gs://fantasy-maps/FantasyMapsTest/rampant_roos...   \n",
       "c247c0123de177ad4653ff6db9545539eb8c68f8  gs://fantasy-maps/FantasyMapsTest/rampant_roos...   \n",
       "cd1cb37214a4cca4369acbba3134368a6be7a55b  gs://fantasy-maps/FantasyMapsTest/river_guard_...   \n",
       "177c418703c23cf34364605f66fc31f3dfdfabe7  gs://fantasy-maps/FantasyMapsTest/river_guard_...   \n",
       "52bd1dd7b62da83e41f2964fd79687c478b76392  gs://fantasy-maps/FantasyMapsTest/river_guard_...   \n",
       "954343ec877f93fbe937757d5b1b934d8008cbf9  gs://fantasy-maps/FantasyMapsTest/river_guard_...   \n",
       "a564fc2dc1e1ce3e5e7b9b7e491f99b31b5d3542  gs://fantasy-maps/FantasyMapsTest/rooms_museum...   \n",
       "675264b0ffe88d1b36672c090d4618bc1fc548a5  gs://fantasy-maps/FantasyMapsTest/shipyard_one...   \n",
       "103a31dfb382853e078dc10b7e568782adcb91f6  gs://fantasy-maps/FantasyMapsTest/shipyard_one...   \n",
       "d652d7f8460be7360b60d09da97c57f103f16b3d  gs://fantasy-maps/FantasyMapsTest/shipyard_one...   \n",
       "1548daac4ef5c0868a37fabf1839a38579454a64  gs://fantasy-maps/FantasyMapsTest/shipyard_one...   \n",
       "70b5557418fcb346ae4e5f99455e41c3abc2858c  gs://fantasy-maps/FantasyMapsTest/skybridge_to...   \n",
       "d510db7c22afb246856f189479be71b04f667ed8  gs://fantasy-maps/FantasyMapsTest/skybridge_to...   \n",
       "1b5d054c98fbee46c132be02b658d5b4e8b80bcf  gs://fantasy-maps/FantasyMapsTest/skybridge_to...   \n",
       "e0d650d06383351ccbfd8c3a719e7128b1393a6a  gs://fantasy-maps/FantasyMapsTest/skybridge_to...   \n",
       "400648f817f9d544da351b2c65667af8cd7236b7  gs://fantasy-maps/FantasyMapsTest/snowy_mounta...   \n",
       "db7ec0fb60af94cc90b23ebdd84effd3340690df  gs://fantasy-maps/FantasyMapsTest/snowy_mounta...   \n",
       "a34ddc6bce48783c6bb07d26914330eed6e8f3c5  gs://fantasy-maps/FantasyMapsTest/snowy_mounta...   \n",
       "1a7877edccdf08b9172c869985799a7ce5bba6f8  gs://fantasy-maps/FantasyMapsTest/snowy_mounta...   \n",
       "4101232a0d12e4d507962fb287d9cd0d3195c3a2  gs://fantasy-maps/FantasyMapsTest/summer_ship....   \n",
       "3a87e71a409787fd6dfa45a370f5f1b223f47d42  gs://fantasy-maps/FantasyMapsTest/tsolenka_pas...   \n",
       "0f8ddff07566b9257f492814e47e48888dd5c888  gs://fantasy-maps/FantasyMapsTest/tsolenka_pas...   \n",
       "5a93bbd70d504883414a6dc31ec94c9d76e5c550  gs://fantasy-maps/FantasyMapsTest/tsolenka_pas...   \n",
       "e761e44dec072de69eaa28c6563f5412a4a05bdf  gs://fantasy-maps/FantasyMapsTest/tsolenka_pas...   \n",
       "863f97ef2947e9df7fcea518d4c5625cc08eae75  gs://fantasy-maps/FantasyMapsTest/tsolenka_pas...   \n",
       "c59785d6c2ccb53b0c5fd1444508e48f26ddd707  gs://fantasy-maps/FantasyMapsTest/tsolenka_pas...   \n",
       "dbaa2d8ee2eddcff0b30169ccd87d24479de6c49  gs://fantasy-maps/FantasyMapsTest/tsolenka_pas...   \n",
       "259cf5bb799baf15790534d41e71c7773f8a0eb7  gs://fantasy-maps/FantasyMapsTest/tsolenka_pas...   \n",
       "af65733281e05814c05cce8ad2c841b23a222a4e  gs://fantasy-maps/FantasyMapsTest/tsolenka_pas...   \n",
       "3a7c28bc814abd7011cc6797f1c48b2eb78a2597  gs://fantasy-maps/FantasyMapsTest/tsolenka_pas...   \n",
       "38d4408fd12a17e9382d219f7fdb7d1c34b52da1  gs://fantasy-maps/FantasyMapsTest/tsolenka_pas...   \n",
       "59e4936ddf486ef021a2b7d036b60a3b5ad2e69e  gs://fantasy-maps/FantasyMapsTest/tsolenka_pas...   \n",
       "15c014a65796ebd57f4a836e77b7eb68473b3d88  gs://fantasy-maps/FantasyMapsTest/tsolenka_pas...   \n",
       "b9abc2f005138cbf77faf5fdf1c08a009a59d500  gs://fantasy-maps/FantasyMapsTest/tsolenka_pas...   \n",
       "40873daec9e023751dfce0af4ebafa257110e2a4  gs://fantasy-maps/FantasyMapsTest/tsolenka_pas...   \n",
       "4f6ed9f919188bbba8cc344e23dc9a9e796f91bd  gs://fantasy-maps/FantasyMapsTest/tsolenka_pas...   \n",
       "f359286be988ca5f2e8a72fe738a5eaa95364138  gs://fantasy-maps/FantasyMapsTest/tsolenka_pas...   \n",
       "7a47cf8dade4dbdcb4cf21829aaeb8932778eb9f  gs://fantasy-maps/FantasyMapsTest/tsolenka_pas...   \n",
       "656b224103082af34a44ca14d199b0a683d7e159  gs://fantasy-maps/FantasyMapsTest/tsolenka_pas...   \n",
       "516a5f1bf945a30dc2808f5f1bc8122eb0097926  gs://fantasy-maps/FantasyMapsTest/tsolenka_pas...   \n",
       "6cbe95f18451e89a267e05c64d7debee8f94e8dc  gs://fantasy-maps/FantasyMapsTest/usual_sweet_...   \n",
       "bb618ffae4ad1dafc86b01852b8a4d7b7217616e  gs://fantasy-maps/FantasyMapsTest/werevolf_den...   \n",
       "4791b66d03036290adb7837bbd01bf8039950509  gs://fantasy-maps/FantasyMapsTest/werevolf_den...   \n",
       "a7f9c9d94f7b6c625fa7f2e6d26f5fd30a84bca0  gs://fantasy-maps/FantasyMapsTest/werevolf_den...   \n",
       "b5eecae531b234e05377b768dbc784d80d1aff0e  gs://fantasy-maps/FantasyMapsTest/werevolf_den...   \n",
       "fb4d5411e61d743622c6b8580dd0e486334c6a4a  gs://fantasy-maps/FantasyMapsTest/winter_river...   \n",
       "3fdcd094712b3c4b9669901cb44d279d492db5bc  gs://fantasy-maps/FantasyMapsTest/winter_river...   \n",
       "826fc24386ab4c2e48bcb8ce19df4a6777f88297  gs://fantasy-maps/FantasyMapsTest/winter_river...   \n",
       "56758af7a52b1cdd7d3c8b35e2d788666db1db0f  gs://fantasy-maps/FantasyMapsTest/winter_river...   \n",
       "2655823df6b83042c7becada5f6ab000241cd123  gs://fantasy-maps/FantasyMapsTest/winter_solst...   \n",
       "4f6aa901d0ecd2e01aa08cb240b04204215fdfdf  gs://fantasy-maps/FantasyMapsTest/winter_solst...   \n",
       "9c35f6d46041e2d26b57556130423f732acfc8da  gs://fantasy-maps/FantasyMapsTest/winter_solst...   \n",
       "62b783bf665e68fd354618123e476b564ef368fc  gs://fantasy-maps/FantasyMapsTest/winter_solst...   \n",
       "efa40678bb5a94aeaa5005a2ceb9ee48cc5b1bd1  gs://fantasy-maps/FantasyMapsTest/winter_taver...   \n",
       "794525a82152556be29bfa51a82d8a1dbec2dac3  gs://fantasy-maps/FantasyMapsTest/winter_taver...   \n",
       "f3c73d4489540716f3279c8d99ec406120ed4c80  gs://fantasy-maps/FantasyMapsTest/winter_taver...   \n",
       "edcae4c88460b5d07af3a134d41db5b72bf382f6  gs://fantasy-maps/FantasyMapsTest/winter_taver...   \n",
       "1037a505909cd6b8bf43681c529d06233a435fde  gs://fantasy-maps/FantasyMapsTest/winter_wonde...   \n",
       "8659c3c0c37c9685d38a3e3470fe432214d20ce5  gs://fantasy-maps/FantasyMapsTest/winter_wonde...   \n",
       "61f85ebc7b9bf165944262530a67b1f07afbb04d  gs://fantasy-maps/FantasyMapsTest/winter_wonde...   \n",
       "4653b32134cebfd0f0eadcd848a289ea135e4914  gs://fantasy-maps/FantasyMapsTest/winter_wonde...   \n",
       "\n",
       "                                                                        parent_uid  \n",
       "uid                                                                                 \n",
       "c02113c8c4f50faf141ba53129836c277f421b44  04debbbd5aaa4b4e498fcb0e1ceee1b2d542ef40  \n",
       "c53292009a9b6edc4373d7d89cb9ac1cfd3bbc5b  04debbbd5aaa4b4e498fcb0e1ceee1b2d542ef40  \n",
       "2c246bc4e3db9ae23e7283b2eff1dd4339d54a81  04debbbd5aaa4b4e498fcb0e1ceee1b2d542ef40  \n",
       "3eae006c7aa9c17f0e4c111d9cb279e408974fd9                                       NaN  \n",
       "fe49db70b3e37ea4b2b89622a6eb64a213c74bc3  98cfb16c9250a9926c94a7961eb54eebc658192b  \n",
       "98cfb16c9250a9926c94a7961eb54eebc658192b                                       NaN  \n",
       "d63c70bea549942acec9376cc1c33de2aef60fb8  98cfb16c9250a9926c94a7961eb54eebc658192b  \n",
       "1efe35d1a7954603b7eb3a4f91499ac71211b4fa  98cfb16c9250a9926c94a7961eb54eebc658192b  \n",
       "ac307d84b7467bd122dc46393613e5ca99669a35  c0e58bffc60ba929424b2dbb916bbbe8fe5caa72  \n",
       "6497da9b7f1c1a9e717aec5806becbc1d53a487e  c0e58bffc60ba929424b2dbb916bbbe8fe5caa72  \n",
       "c0e58bffc60ba929424b2dbb916bbbe8fe5caa72                                       NaN  \n",
       "9d1e4422badbd48432fa64c718ce478db75c36ca  c0e58bffc60ba929424b2dbb916bbbe8fe5caa72  \n",
       "5177b5dc31f39d4637e1484b3e2285a2d9e4bf3f                                       NaN  \n",
       "90de32f600b3651585dbbab015f6ffe95fe64db4                                       NaN  \n",
       "7cf53d1f2a0f085a0022cfd44c1ae74a5969c006                                       NaN  \n",
       "b7d264b9a51c777387609b477b64fd78996b0a09  502067f9ecdc34a7047180ff6107c75a796cb53a  \n",
       "03fcfd65732a4e173960c3bce9a95df169dc7c58  502067f9ecdc34a7047180ff6107c75a796cb53a  \n",
       "fc53c9ba415fdf62c49f3195bf6a09523cfec874  502067f9ecdc34a7047180ff6107c75a796cb53a  \n",
       "502067f9ecdc34a7047180ff6107c75a796cb53a                                       NaN  \n",
       "c4a7773527e8c7a1dfe897fc6b17f96b98d04c5e  23af0ee24b932fad8dac020de678cca76021c6c1  \n",
       "b366903c0af0efd2da182495f0d902d6484fe322  23af0ee24b932fad8dac020de678cca76021c6c1  \n",
       "47ed9f0de20eb29806e56f383067449ce7d7711b  23af0ee24b932fad8dac020de678cca76021c6c1  \n",
       "23af0ee24b932fad8dac020de678cca76021c6c1                                       NaN  \n",
       "fb9839433b487ed3277408bfcc237576e9fb47e6  cd35b6bbee2065816808517b926c448a6349d285  \n",
       "842b20c9793609ebf5d38f09ab4032a5719c5ef4  cd35b6bbee2065816808517b926c448a6349d285  \n",
       "cd35b6bbee2065816808517b926c448a6349d285                                       NaN  \n",
       "c515cb1c7948b3e958e7e1212bdaedc9e539586e  cd35b6bbee2065816808517b926c448a6349d285  \n",
       "e9a51060ae1d80309c5e7f901c932925ce41a81e  a2e0e2cf4f6058eb3c7d973536b5fbd5451bd2ec  \n",
       "a2e0e2cf4f6058eb3c7d973536b5fbd5451bd2ec                                       NaN  \n",
       "f860f7fb6f2a041b78a44b089edeb2a5fcf66e97  a2e0e2cf4f6058eb3c7d973536b5fbd5451bd2ec  \n",
       "1f720cce4cc240674fcad59ef7a2c840805d3651  a2e0e2cf4f6058eb3c7d973536b5fbd5451bd2ec  \n",
       "b1b53833a7a92bbf8a862cd6853788fe01b49d68  89dbf4c4fbb23c8f508bf66c5c425cabdc750023  \n",
       "773b0f542b8666800730938f200fa64d2c6d1c84  89dbf4c4fbb23c8f508bf66c5c425cabdc750023  \n",
       "89dbf4c4fbb23c8f508bf66c5c425cabdc750023                                       NaN  \n",
       "d8005afe21deffcddea01999a2194afdec90f8e1  89dbf4c4fbb23c8f508bf66c5c425cabdc750023  \n",
       "04863054ae5563276de9b38dc78306dff7635519  2936d487ac34d309563e47cf03fca301abc7c8df  \n",
       "0a67f0e57b11d507c8e1bdda9fefff5e973bf3ef  2936d487ac34d309563e47cf03fca301abc7c8df  \n",
       "1f5de137ca9cfb835ce69821eea8c717a4143499  2936d487ac34d309563e47cf03fca301abc7c8df  \n",
       "2936d487ac34d309563e47cf03fca301abc7c8df                                       NaN  \n",
       "ad9933b798d565984e0a8742ca196f826f922729  b4272bf1f62375938f0119d75e10eca5da8fedbd  \n",
       "b4272bf1f62375938f0119d75e10eca5da8fedbd                                       NaN  \n",
       "b2ca8429a0d11072c005e2dc3c780b2e183dcee0  b4272bf1f62375938f0119d75e10eca5da8fedbd  \n",
       "f5ba84659d4dbe00c5ea691ed74a5d4ea98cd784  b4272bf1f62375938f0119d75e10eca5da8fedbd  \n",
       "3fa2633dc8d0df8ead640c164d488f69e1e4a65f  1eff1c4e52adba942c719fe30daaf820684da683  \n",
       "1f3f4de7999bc14b28ae1456f0c53f498dad235d  1eff1c4e52adba942c719fe30daaf820684da683  \n",
       "d504c4a09c26722218d6655ecd52107f9b78e3d5  1eff1c4e52adba942c719fe30daaf820684da683  \n",
       "1eff1c4e52adba942c719fe30daaf820684da683                                       NaN  \n",
       "b834e3773a406c0aff3b5ad577ad1ec8c9e9613a  b5f74006e0d6d88d0ee13893940b431c5c80e982  \n",
       "a6547dcdd4dda77984c9d51dca3a2709a84b8e17  b5f74006e0d6d88d0ee13893940b431c5c80e982  \n",
       "b5f74006e0d6d88d0ee13893940b431c5c80e982                                       NaN  \n",
       "b78a2f0b53d6dfe1d6db9202fca8701a601af114  b5f74006e0d6d88d0ee13893940b431c5c80e982  \n",
       "b24d14843ae6fc009a4a80b84f76e295f199aa86  759d2d351ff988b2eb478e0e40bbb404165ea093  \n",
       "759d2d351ff988b2eb478e0e40bbb404165ea093                                       NaN  \n",
       "488880e536a8c0dbbd9c9f44da78b098972a6a77  759d2d351ff988b2eb478e0e40bbb404165ea093  \n",
       "c247c0123de177ad4653ff6db9545539eb8c68f8  759d2d351ff988b2eb478e0e40bbb404165ea093  \n",
       "cd1cb37214a4cca4369acbba3134368a6be7a55b  52bd1dd7b62da83e41f2964fd79687c478b76392  \n",
       "177c418703c23cf34364605f66fc31f3dfdfabe7  52bd1dd7b62da83e41f2964fd79687c478b76392  \n",
       "52bd1dd7b62da83e41f2964fd79687c478b76392                                       NaN  \n",
       "954343ec877f93fbe937757d5b1b934d8008cbf9  52bd1dd7b62da83e41f2964fd79687c478b76392  \n",
       "a564fc2dc1e1ce3e5e7b9b7e491f99b31b5d3542                                       NaN  \n",
       "675264b0ffe88d1b36672c090d4618bc1fc548a5  d652d7f8460be7360b60d09da97c57f103f16b3d  \n",
       "103a31dfb382853e078dc10b7e568782adcb91f6  d652d7f8460be7360b60d09da97c57f103f16b3d  \n",
       "d652d7f8460be7360b60d09da97c57f103f16b3d                                       NaN  \n",
       "1548daac4ef5c0868a37fabf1839a38579454a64  d652d7f8460be7360b60d09da97c57f103f16b3d  \n",
       "70b5557418fcb346ae4e5f99455e41c3abc2858c  d510db7c22afb246856f189479be71b04f667ed8  \n",
       "d510db7c22afb246856f189479be71b04f667ed8                                       NaN  \n",
       "1b5d054c98fbee46c132be02b658d5b4e8b80bcf  d510db7c22afb246856f189479be71b04f667ed8  \n",
       "e0d650d06383351ccbfd8c3a719e7128b1393a6a  d510db7c22afb246856f189479be71b04f667ed8  \n",
       "400648f817f9d544da351b2c65667af8cd7236b7  a34ddc6bce48783c6bb07d26914330eed6e8f3c5  \n",
       "db7ec0fb60af94cc90b23ebdd84effd3340690df  a34ddc6bce48783c6bb07d26914330eed6e8f3c5  \n",
       "a34ddc6bce48783c6bb07d26914330eed6e8f3c5                                       NaN  \n",
       "1a7877edccdf08b9172c869985799a7ce5bba6f8  a34ddc6bce48783c6bb07d26914330eed6e8f3c5  \n",
       "4101232a0d12e4d507962fb287d9cd0d3195c3a2                                       NaN  \n",
       "3a87e71a409787fd6dfa45a370f5f1b223f47d42  e761e44dec072de69eaa28c6563f5412a4a05bdf  \n",
       "0f8ddff07566b9257f492814e47e48888dd5c888  e761e44dec072de69eaa28c6563f5412a4a05bdf  \n",
       "5a93bbd70d504883414a6dc31ec94c9d76e5c550  e761e44dec072de69eaa28c6563f5412a4a05bdf  \n",
       "e761e44dec072de69eaa28c6563f5412a4a05bdf                                       NaN  \n",
       "863f97ef2947e9df7fcea518d4c5625cc08eae75  259cf5bb799baf15790534d41e71c7773f8a0eb7  \n",
       "c59785d6c2ccb53b0c5fd1444508e48f26ddd707  259cf5bb799baf15790534d41e71c7773f8a0eb7  \n",
       "dbaa2d8ee2eddcff0b30169ccd87d24479de6c49  259cf5bb799baf15790534d41e71c7773f8a0eb7  \n",
       "259cf5bb799baf15790534d41e71c7773f8a0eb7                                       NaN  \n",
       "af65733281e05814c05cce8ad2c841b23a222a4e  38d4408fd12a17e9382d219f7fdb7d1c34b52da1  \n",
       "3a7c28bc814abd7011cc6797f1c48b2eb78a2597  38d4408fd12a17e9382d219f7fdb7d1c34b52da1  \n",
       "38d4408fd12a17e9382d219f7fdb7d1c34b52da1                                       NaN  \n",
       "59e4936ddf486ef021a2b7d036b60a3b5ad2e69e  38d4408fd12a17e9382d219f7fdb7d1c34b52da1  \n",
       "15c014a65796ebd57f4a836e77b7eb68473b3d88  4f6ed9f919188bbba8cc344e23dc9a9e796f91bd  \n",
       "b9abc2f005138cbf77faf5fdf1c08a009a59d500  4f6ed9f919188bbba8cc344e23dc9a9e796f91bd  \n",
       "40873daec9e023751dfce0af4ebafa257110e2a4  4f6ed9f919188bbba8cc344e23dc9a9e796f91bd  \n",
       "4f6ed9f919188bbba8cc344e23dc9a9e796f91bd                                       NaN  \n",
       "f359286be988ca5f2e8a72fe738a5eaa95364138  7a47cf8dade4dbdcb4cf21829aaeb8932778eb9f  \n",
       "7a47cf8dade4dbdcb4cf21829aaeb8932778eb9f                                       NaN  \n",
       "656b224103082af34a44ca14d199b0a683d7e159  7a47cf8dade4dbdcb4cf21829aaeb8932778eb9f  \n",
       "516a5f1bf945a30dc2808f5f1bc8122eb0097926  7a47cf8dade4dbdcb4cf21829aaeb8932778eb9f  \n",
       "6cbe95f18451e89a267e05c64d7debee8f94e8dc                                       NaN  \n",
       "bb618ffae4ad1dafc86b01852b8a4d7b7217616e  a7f9c9d94f7b6c625fa7f2e6d26f5fd30a84bca0  \n",
       "4791b66d03036290adb7837bbd01bf8039950509  a7f9c9d94f7b6c625fa7f2e6d26f5fd30a84bca0  \n",
       "a7f9c9d94f7b6c625fa7f2e6d26f5fd30a84bca0                                       NaN  \n",
       "b5eecae531b234e05377b768dbc784d80d1aff0e  a7f9c9d94f7b6c625fa7f2e6d26f5fd30a84bca0  \n",
       "fb4d5411e61d743622c6b8580dd0e486334c6a4a  826fc24386ab4c2e48bcb8ce19df4a6777f88297  \n",
       "3fdcd094712b3c4b9669901cb44d279d492db5bc  826fc24386ab4c2e48bcb8ce19df4a6777f88297  \n",
       "826fc24386ab4c2e48bcb8ce19df4a6777f88297                                       NaN  \n",
       "56758af7a52b1cdd7d3c8b35e2d788666db1db0f  826fc24386ab4c2e48bcb8ce19df4a6777f88297  \n",
       "2655823df6b83042c7becada5f6ab000241cd123  4f6aa901d0ecd2e01aa08cb240b04204215fdfdf  \n",
       "4f6aa901d0ecd2e01aa08cb240b04204215fdfdf                                       NaN  \n",
       "9c35f6d46041e2d26b57556130423f732acfc8da  4f6aa901d0ecd2e01aa08cb240b04204215fdfdf  \n",
       "62b783bf665e68fd354618123e476b564ef368fc  4f6aa901d0ecd2e01aa08cb240b04204215fdfdf  \n",
       "efa40678bb5a94aeaa5005a2ceb9ee48cc5b1bd1  edcae4c88460b5d07af3a134d41db5b72bf382f6  \n",
       "794525a82152556be29bfa51a82d8a1dbec2dac3  edcae4c88460b5d07af3a134d41db5b72bf382f6  \n",
       "f3c73d4489540716f3279c8d99ec406120ed4c80  edcae4c88460b5d07af3a134d41db5b72bf382f6  \n",
       "edcae4c88460b5d07af3a134d41db5b72bf382f6                                       NaN  \n",
       "1037a505909cd6b8bf43681c529d06233a435fde  4653b32134cebfd0f0eadcd848a289ea135e4914  \n",
       "8659c3c0c37c9685d38a3e3470fe432214d20ce5  4653b32134cebfd0f0eadcd848a289ea135e4914  \n",
       "61f85ebc7b9bf165944262530a67b1f07afbb04d  4653b32134cebfd0f0eadcd848a289ea135e4914  \n",
       "4653b32134cebfd0f0eadcd848a289ea135e4914                                       NaN  "
      ]
     },
     "metadata": {},
     "output_type": "display_data"
    }
   ],
   "source": [
    "pd.set_option(\"display.max_rows\", 1000)\n",
    "check_set_df.sort_values(by=\"filename\", ascending=True, inplace=True)\n",
    "display(check_set_df)"
   ]
  },
  {
   "cell_type": "markdown",
   "id": "90c45f1c-16f1-491c-975c-ccc660eacc08",
   "metadata": {
    "id": "90c45f1c-16f1-491c-975c-ccc660eacc08"
   },
   "source": [
    "This final step of data prepartion is to mark all of the unusable images in the Firestore collection. Luckily, we can use the Google Cloud Console to view the contents of our Storage bucket. We can even add new fields to the documents in our Firestore collection!"
   ]
  },
  {
   "cell_type": "markdown",
   "id": "6ba41c11-df6b-44de-a592-8ac1d7ece4a9",
   "metadata": {
    "id": "6ba41c11-df6b-44de-a592-8ac1d7ece4a9"
   },
   "source": [
    "![Storage user interface in the Cloud Console](https://github.com/telpirion/FantasyMaps/blob/main/notebooks/final/resources/StorageUI.png?raw=1)\n",
    "_Figure. The Google Cloud Storage user interface, showing images in a bucket._"
   ]
  },
  {
   "cell_type": "markdown",
   "id": "db9d401f-1b87-486a-9def-96a8f36ed422",
   "metadata": {
    "id": "db9d401f-1b87-486a-9def-96a8f36ed422"
   },
   "source": [
    "![Firestore user interface in the Cloud Console](https://github.com/telpirion/FantasyMaps/blob/main/notebooks/final/resources/FirestoreUI.png?raw=1)\n",
    "_Figure. The Cloud Firestore user interface, showing a \"Usable\" field being added to a document._"
   ]
  },
  {
   "cell_type": "markdown",
   "id": "951d7636-b8fb-472b-9a05-043aa0a92c82",
   "metadata": {
    "id": "951d7636-b8fb-472b-9a05-043aa0a92c82"
   },
   "source": [
    "For this very last data preparation step, we will visually inspect all of the \"parent\" images in the Cloud Storage bucket. We will then create a list unusable images, where we store the image's UID. Finally, we will do a bulk update job to Firestore, setting a `Usable` field on the images to `False`."
   ]
  },
  {
   "cell_type": "code",
   "execution_count": null,
   "id": "fc0f69b4-4f49-4b2b-8abc-ba14571f0ee9",
   "metadata": {
    "id": "fc0f69b4-4f49-4b2b-8abc-ba14571f0ee9"
   },
   "outputs": [],
   "source": [
    "unusable_parent_images = [\n",
    "    \"d3ee0039aeff5c33de778c5adbdd000f21c0b4cd\",\n",
    "    \"9a7e82433239b0087121f6fd31e133f5a94fa7dc\",\n",
    "    \"fc70f330cd5a3aaa3be94e0d603dab2876f9fca1\",\n",
    "    \"890c0d27318b0286aebf67c392fab286bdc4e7c5\",\n",
    "    \"2f4f496466d6e9fb8ad9791ccb81f7c13fd407db\",\n",
    "    \"4c0d3eb86ed599f496f7e30e18025021aebfe153\",\n",
    "    \"4bf88b8acc669331a65465e8c4b37fd8b9495e4b\",\n",
    "    \"b15fe8185c30b3e7800e42e280a3792998a0b55f\",\n",
    "    \"5cd7bbd5882fe8b9a270be1aa911c0ba858e818d\",\n",
    "    \"67925948371de53b58c09b32c97af60f72c58e0f\",\n",
    "    \"a816b6eb31b71cad5b50531d6e18ef46cb451cbd\",\n",
    "    \"f00be2ed7b19b8d0f44915a1886437193aa224aa\",\n",
    "    \"890c0d27318b0286aebf67c392fab286bdc4e7c5\",\n",
    "    # Others ....\n",
    "]\n",
    "\n",
    "usable_parent_images = [\n",
    "    \"7a903be0bad0fc00bfabbefd682b6eef23263b67\",\n",
    "    \"b1fe854b9c658cf9312319a447b594743513499b\",\n",
    "    \"3a52781685d7aed530a685739b58341fafd2e721\",\n",
    "    \"3d17d612a843af7a5ad1a2b2d5dcce29e67d367f\",\n",
    "    \"aa33a7ed5c3c87147fd25dafe6c0a1d3eb29dbe5\",\n",
    "    \"2ce9f80408137e36531581fb22ee3fe892f41f76\",\n",
    "    \"e086c1cf420e27448bc1a45147b5c43df4b3d8d0\",\n",
    "    \"5bc994d7d38c1fc4654c58666d674200f731986b\",\n",
    "    \"820c3bbfe4d14694ecb729ce3f45b4bda031f61a\",\n",
    "    \"2d323018c74db7e0432ff368283ea429f13bd36d\",\n",
    "    \"343833ab1d8cd17dae6b702830864500d1e66e19\",\n",
    "    \"c60b952d0c20a63dc263220ec5b49a54fd20d175\",\n",
    "    \"8ac01d3a84bc548a8b243d08c6e031206f293908\",\n",
    "    \"f00be2ed7b19b8d0f44915a1886437193aa224aa\",\n",
    "    \"950390c88b7bd9d6f886e5f01bae9460c0aa407b\",\n",
    "    \"3322c1b4795e4a9e4477feafd55685d647b4e29c\",\n",
    "    \"34362be27ada680a58e42d26758bf08c01d3460a\",\n",
    "    \"60d815ba2c1458c3a4039595a5ed723a7501a36e\",\n",
    "    \"928b339ba222a3933fce4523f8033fa3eb7ed62f\",\n",
    "    \"4931f0033f0ab217fd0fe2a2024d22a119782e2c\",\n",
    "    \"83846604933daff160cefc28c2a828bd93a84e1a\",\n",
    "    \"d2fe7281d8b1e043009033c957ca347847343e14\",\n",
    "    \"c1552a0046ef4ece5d146544043edb2deb97f7a1\",\n",
    "    # And more ...\n",
    "]"
   ]
  },
  {
   "cell_type": "markdown",
   "id": "8587b9de-f507-436c-9314-75c1be0896bb",
   "metadata": {
    "id": "8587b9de-f507-436c-9314-75c1be0896bb"
   },
   "source": [
    "**Note**: If you're thinking that this manual process should be automatable--you're right! In another notebook, we will use a pre-trained version of our gridline-detecting model to accept or reject images."
   ]
  },
  {
   "cell_type": "code",
   "execution_count": null,
   "id": "092d79e7-1477-4e0c-a59f-63187ba48221",
   "metadata": {
    "id": "092d79e7-1477-4e0c-a59f-63187ba48221"
   },
   "outputs": [],
   "source": [
    "usable_set = set(usable_parent_images)\n",
    "unusable_set = set(unusable_parent_images)"
   ]
  },
  {
   "cell_type": "code",
   "execution_count": null,
   "id": "3d8034db-4dfe-48f6-a80d-22b7814a7f91",
   "metadata": {
    "id": "3d8034db-4dfe-48f6-a80d-22b7814a7f91"
   },
   "outputs": [],
   "source": [
    "firestore_client = firestore.Client(project=PROJECT_ID)\n",
    "bulkwriter = firestore_client.bulk_writer()\n",
    "collection = firestore_client.collection(COLLECTION_NAME)"
   ]
  },
  {
   "cell_type": "code",
   "execution_count": null,
   "id": "ae1e7a5b-df84-4d52-9517-90c959fcf72c",
   "metadata": {
    "id": "ae1e7a5b-df84-4d52-9517-90c959fcf72c"
   },
   "outputs": [],
   "source": [
    "# Iterate over all of the metadata entries & images that we want to delete\n",
    "unusable_shards = collection.where(\"Parent\", \"in\", list(unusable_set)[:10]).stream()\n",
    "for doc in unusable_shards:\n",
    "    bulkwriter.delete(doc.reference)\n",
    "\n",
    "bulkwriter.flush()"
   ]
  },
  {
   "cell_type": "code",
   "execution_count": null,
   "id": "63f3731c-2f6d-4c54-93d5-704fdd834d72",
   "metadata": {
    "id": "63f3731c-2f6d-4c54-93d5-704fdd834d72"
   },
   "outputs": [],
   "source": [
    "# Iterate over all of the good entries\n",
    "subset_start_index = 0\n",
    "while subset_start_index < len(usable_set):\n",
    "    subset = list(usable_set)[subset_start_index:subset_start_index + 10]\n",
    "    usable_shards = collection.where(\"Parent\", \"in\", subset).stream()\n",
    "\n",
    "    for doc in usable_shards:\n",
    "        bulkwriter.update(doc.reference, { \"Usable\": True})\n",
    "\n",
    "    subset_start_index = subset_start_index + 10\n",
    "\n",
    "bulkwriter.flush()"
   ]
  },
  {
   "cell_type": "code",
   "execution_count": null,
   "id": "1b756e48-8a6b-4378-8665-502d10269d6c",
   "metadata": {
    "id": "1b756e48-8a6b-4378-8665-502d10269d6c"
   },
   "outputs": [],
   "source": [
    "bulkwriter.close()"
   ]
  }
 ],
 "metadata": {
  "colab": {
   "name": "1_firestore.ipynb",
   "provenance": []
  },
  "environment": {
   "kernel": "python3",
   "name": "common-cu110.m87",
   "type": "gcloud",
   "uri": "gcr.io/deeplearning-platform-release/base-cu110:m87"
  },
  "kernelspec": {
   "display_name": "PyTorch 2.0 (Local)",
   "language": "python",
   "name": "pytorch-2-0"
  },
  "language_info": {
   "codemirror_mode": {
    "name": "ipython",
    "version": 3
   },
   "file_extension": ".py",
   "mimetype": "text/x-python",
   "name": "python",
   "nbconvert_exporter": "python",
   "pygments_lexer": "ipython3",
   "version": "3.10.14"
  },
  "toc-showtags": true
 },
 "nbformat": 4,
 "nbformat_minor": 5
}
